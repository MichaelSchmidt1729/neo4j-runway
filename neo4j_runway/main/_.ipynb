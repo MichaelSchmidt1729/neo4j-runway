{
 "cells": [
  {
   "cell_type": "code",
   "execution_count": 1,
   "metadata": {},
   "outputs": [],
   "source": [
    "from objects.node import Node\n",
    "from objects.relationship import Relationship\n",
    "from objects.property import Property\n",
    "from objects.data_model import DataModel"
   ]
  },
  {
   "cell_type": "code",
   "execution_count": 10,
   "metadata": {},
   "outputs": [],
   "source": [
    "test_prop = Property(name=\"name\", type=\"str\", csv_mapping=\"person_name\", is_unique=True)"
   ]
  },
  {
   "cell_type": "code",
   "execution_count": 11,
   "metadata": {},
   "outputs": [
    {
     "name": "stdout",
     "output_type": "stream",
     "text": [
      "{'name': 'name', 'type': 'str', 'csv_mapping': 'person_name', 'is_unique': True}\n",
      "STRING\n"
     ]
    }
   ],
   "source": [
    "print(test_prop.model_dump())\n",
    "print(test_prop.neo4j_type)"
   ]
  },
  {
   "cell_type": "code",
   "execution_count": 4,
   "metadata": {},
   "outputs": [],
   "source": [
    "person_name = Property(name=\"name\", type=\"str\", csv_mapping=\"name\", is_unique=True)\n",
    "person_age = Property(name=\"age\", type=\"str\", csv_mapping=\"age\", is_unique=False)\n",
    "address_street = Property(name=\"street\", type=\"str\", csv_mapping=\"street\", is_unique=False)\n",
    "address_city = Property(name=\"city\", type=\"str\", csv_mapping=\"city\", is_unique=False)\n",
    "pet_name = Property(name=\"name\", type=\"str\", csv_mapping=\"pet_name\", is_unique=False)\n",
    "pet_kind = Property(name=\"kind\", type=\"str\", csv_mapping=\"pet\", is_unique=False)\n",
    "toy_name = Property(name=\"name\", type=\"str\", csv_mapping=\"toy\", is_unique=True)\n",
    "toy_kind = Property(name=\"kind\", type=\"str\", csv_mapping=\"toy_type\", is_unique=False)"
   ]
  },
  {
   "cell_type": "code",
   "execution_count": 5,
   "metadata": {},
   "outputs": [],
   "source": [
    "nodes = [\n",
    "            Node(\n",
    "                label=\"Person\",\n",
    "                properties=[person_name, person_age],\n",
    "                ),\n",
    "            Node(\n",
    "                label=\"Address\", \n",
    "                properties=[address_street, address_city], \n",
    "            ),\n",
    "            Node(\n",
    "                label=\"Pet\", \n",
    "                properties=[pet_name, pet_kind], \n",
    "            ),\n",
    "            Node(\n",
    "                label=\"Toy\", \n",
    "                properties=[toy_name, toy_kind], \n",
    "            )\n",
    "        ]\n",
    "\n",
    "relationships = [\n",
    "            Relationship(\n",
    "                type=\"HAS_ADDRESS\",\n",
    "                properties=[],\n",
    "                source=\"Person\",\n",
    "                target=\"Address\",\n",
    "            ),\n",
    "            Relationship(\n",
    "                type=\"KNOWS\",\n",
    "                properties=[],\n",
    "                source=\"Person\",\n",
    "                target=\"Person\",\n",
    "            ),\n",
    "            Relationship(\n",
    "                type=\"HAS_PET\",\n",
    "                properties=[],\n",
    "                source=\"Person\",\n",
    "                target=\"Pet\",\n",
    "            ),\n",
    "            Relationship(\n",
    "                type=\"PLAYS_WITH\",\n",
    "                properties=[],\n",
    "                source=\"Pet\",\n",
    "                target=\"Toy\",\n",
    "            )\n",
    "        ]\n",
    "\n",
    "data_model = DataModel(nodes=nodes, relationships=relationships)"
   ]
  },
  {
   "cell_type": "code",
   "execution_count": 6,
   "metadata": {},
   "outputs": [
    {
     "data": {
      "text/plain": [
       "{'nodes': [{'label': 'Person',\n",
       "   'properties': [{'name': 'name',\n",
       "     'type': 'str',\n",
       "     'csv_mapping': 'name',\n",
       "     'is_unique': True},\n",
       "    {'name': 'age', 'type': 'str', 'csv_mapping': 'age', 'is_unique': False}]},\n",
       "  {'label': 'Address',\n",
       "   'properties': [{'name': 'street',\n",
       "     'type': 'str',\n",
       "     'csv_mapping': 'street',\n",
       "     'is_unique': False},\n",
       "    {'name': 'city',\n",
       "     'type': 'str',\n",
       "     'csv_mapping': 'city',\n",
       "     'is_unique': False}]},\n",
       "  {'label': 'Pet',\n",
       "   'properties': [{'name': 'name',\n",
       "     'type': 'str',\n",
       "     'csv_mapping': 'pet_name',\n",
       "     'is_unique': False},\n",
       "    {'name': 'kind',\n",
       "     'type': 'str',\n",
       "     'csv_mapping': 'pet',\n",
       "     'is_unique': False}]},\n",
       "  {'label': 'Toy',\n",
       "   'properties': [{'name': 'name',\n",
       "     'type': 'str',\n",
       "     'csv_mapping': 'toy',\n",
       "     'is_unique': True},\n",
       "    {'name': 'kind',\n",
       "     'type': 'str',\n",
       "     'csv_mapping': 'toy_type',\n",
       "     'is_unique': False}]}],\n",
       " 'relationships': [{'type': 'HAS_ADDRESS',\n",
       "   'properties': [],\n",
       "   'source': 'Person',\n",
       "   'target': 'Address'},\n",
       "  {'type': 'KNOWS', 'properties': [], 'source': 'Person', 'target': 'Person'},\n",
       "  {'type': 'HAS_PET', 'properties': [], 'source': 'Person', 'target': 'Pet'},\n",
       "  {'type': 'PLAYS_WITH', 'properties': [], 'source': 'Pet', 'target': 'Toy'}]}"
      ]
     },
     "execution_count": 6,
     "metadata": {},
     "output_type": "execute_result"
    }
   ],
   "source": [
    "data_model.model_dump()"
   ]
  },
  {
   "cell_type": "code",
   "execution_count": null,
   "metadata": {},
   "outputs": [],
   "source": []
  }
 ],
 "metadata": {
  "kernelspec": {
   "display_name": "venv",
   "language": "python",
   "name": "python3"
  },
  "language_info": {
   "codemirror_mode": {
    "name": "ipython",
    "version": 3
   },
   "file_extension": ".py",
   "mimetype": "text/x-python",
   "name": "python",
   "nbconvert_exporter": "python",
   "pygments_lexer": "ipython3",
   "version": "3.11.3"
  }
 },
 "nbformat": 4,
 "nbformat_minor": 2
}

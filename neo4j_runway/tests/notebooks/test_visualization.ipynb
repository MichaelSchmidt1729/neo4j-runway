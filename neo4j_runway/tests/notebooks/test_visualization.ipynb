{
 "cells": [
  {
   "cell_type": "code",
   "execution_count": 3,
   "metadata": {},
   "outputs": [],
   "source": [
    "import sys\n",
    "\n",
    "sys.path.append(\"../../\")\n",
    "\n",
    "import graphviz\n",
    "\n",
    "from objects.node import Node\n",
    "from objects.relationship import Relationship\n",
    "from objects.property import Property\n",
    "from objects.data_model import DataModel"
   ]
  },
  {
   "cell_type": "code",
   "execution_count": 4,
   "metadata": {},
   "outputs": [
    {
     "data": {
      "text/plain": [
       "('0.20.1', (10, 0, 1))"
      ]
     },
     "execution_count": 4,
     "metadata": {},
     "output_type": "execute_result"
    }
   ],
   "source": [
    "graphviz.__version__, graphviz.version()"
   ]
  },
  {
   "cell_type": "code",
   "execution_count": 5,
   "metadata": {},
   "outputs": [],
   "source": [
    "person_name = Property(name=\"name\", type=\"str\", csv_mapping=\"name\", is_unique=True)\n",
    "person_age = Property(name=\"age\", type=\"str\", csv_mapping=\"age\", is_unique=False)\n",
    "address_street = Property(name=\"street\", type=\"str\", csv_mapping=\"street\", is_unique=False)\n",
    "address_city = Property(name=\"city\", type=\"str\", csv_mapping=\"city\", is_unique=False)\n",
    "pet_name = Property(name=\"name\", type=\"str\", csv_mapping=\"pet_name\", is_unique=False)\n",
    "pet_kind = Property(name=\"kind\", type=\"str\", csv_mapping=\"pet\", is_unique=False)\n",
    "toy_name = Property(name=\"name\", type=\"str\", csv_mapping=\"toy\", is_unique=True)\n",
    "toy_kind = Property(name=\"kind\", type=\"str\", csv_mapping=\"toy_type\", is_unique=False)"
   ]
  },
  {
   "cell_type": "code",
   "execution_count": 6,
   "metadata": {},
   "outputs": [],
   "source": [
    "nodes = [\n",
    "            Node(\n",
    "                label=\"Person\",\n",
    "                properties=[person_name, person_age],\n",
    "                ),\n",
    "            Node(\n",
    "                label=\"Address\", \n",
    "                properties=[address_street, address_city], \n",
    "            ),\n",
    "            Node(\n",
    "                label=\"Pet\", \n",
    "                properties=[pet_name, pet_kind], \n",
    "            ),\n",
    "            Node(\n",
    "                label=\"Toy\", \n",
    "                properties=[toy_name, toy_kind], \n",
    "            )\n",
    "        ]\n",
    "\n",
    "relationships = [\n",
    "            Relationship(\n",
    "                type=\"HAS_ADDRESS\",\n",
    "                properties=[],\n",
    "                source=\"Person\",\n",
    "                target=\"Address\",\n",
    "            ),\n",
    "            Relationship(\n",
    "                type=\"KNOWS\",\n",
    "                properties=[],\n",
    "                source=\"Person\",\n",
    "                target=\"Person\",\n",
    "            ),\n",
    "            Relationship(\n",
    "                type=\"HAS_PET\",\n",
    "                properties=[],\n",
    "                source=\"Person\",\n",
    "                target=\"Pet\",\n",
    "            ),\n",
    "            Relationship(\n",
    "                type=\"PLAYS_WITH\",\n",
    "                properties=[],\n",
    "                source=\"Pet\",\n",
    "                target=\"Toy\",\n",
    "            )\n",
    "        ]\n",
    "\n",
    "data_model = DataModel(nodes=nodes, relationships=relationships)"
   ]
  },
  {
   "cell_type": "code",
   "execution_count": 7,
   "metadata": {},
   "outputs": [
    {
     "data": {
      "text/plain": [
       "DataModel(nodes=[Node(label='Person', properties=[Property(name='name', type='str', csv_mapping='name', is_unique=True), Property(name='age', type='str', csv_mapping='age', is_unique=False)]), Node(label='Address', properties=[Property(name='street', type='str', csv_mapping='street', is_unique=False), Property(name='city', type='str', csv_mapping='city', is_unique=False)]), Node(label='Pet', properties=[Property(name='name', type='str', csv_mapping='pet_name', is_unique=False), Property(name='kind', type='str', csv_mapping='pet', is_unique=False)]), Node(label='Toy', properties=[Property(name='name', type='str', csv_mapping='toy', is_unique=True), Property(name='kind', type='str', csv_mapping='toy_type', is_unique=False)])], relationships=[Relationship(type='HAS_ADDRESS', properties=[], source='Person', target='Address'), Relationship(type='KNOWS', properties=[], source='Person', target='Person'), Relationship(type='HAS_PET', properties=[], source='Person', target='Pet'), Relationship(type='PLAYS_WITH', properties=[], source='Pet', target='Toy')])"
      ]
     },
     "execution_count": 7,
     "metadata": {},
     "output_type": "execute_result"
    }
   ],
   "source": [
    "data_model"
   ]
  },
  {
   "cell_type": "code",
   "execution_count": 8,
   "metadata": {},
   "outputs": [
    {
     "data": {
      "text/plain": [
       "'Person\\n\\nproperties:\\nname: name *unique*\\nage: age\\n'"
      ]
     },
     "execution_count": 8,
     "metadata": {},
     "output_type": "execute_result"
    }
   ],
   "source": [
    "data_model._generate_node_text(nodes[0])"
   ]
  },
  {
   "cell_type": "code",
   "execution_count": 9,
   "metadata": {},
   "outputs": [],
   "source": [
    "v = data_model.visualize()"
   ]
  },
  {
   "cell_type": "code",
   "execution_count": 10,
   "metadata": {},
   "outputs": [
    {
     "data": {
      "image/svg+xml": [
       "<?xml version=\"1.0\" encoding=\"UTF-8\" standalone=\"no\"?>\n",
       "<!DOCTYPE svg PUBLIC \"-//W3C//DTD SVG 1.1//EN\"\n",
       " \"http://www.w3.org/Graphics/SVG/1.1/DTD/svg11.dtd\">\n",
       "<!-- Generated by graphviz version 10.0.1 (20240210.2158)\n",
       " -->\n",
       "<!-- Pages: 1 -->\n",
       "<svg width=\"305pt\" height=\"495pt\"\n",
       " viewBox=\"0.00 0.00 305.19 494.84\" xmlns=\"http://www.w3.org/2000/svg\" xmlns:xlink=\"http://www.w3.org/1999/xlink\">\n",
       "<g id=\"graph0\" class=\"graph\" transform=\"scale(1 1) rotate(0) translate(4 490.84)\">\n",
       "<polygon fill=\"white\" stroke=\"none\" points=\"-4,4 -4,-490.84 301.19,-490.84 301.19,4 -4,4\"/>\n",
       "<!-- Person -->\n",
       "<g id=\"node1\" class=\"node\">\n",
       "<title>Person</title>\n",
       "<ellipse fill=\"none\" stroke=\"black\" cx=\"124.98\" cy=\"-423.2\" rx=\"97.23\" ry=\"63.64\"/>\n",
       "<text text-anchor=\"middle\" x=\"124.98\" y=\"-450.9\" font-family=\"Times,serif\" font-size=\"14.00\">Person</text>\n",
       "<text text-anchor=\"middle\" x=\"124.98\" y=\"-418.4\" font-family=\"Times,serif\" font-size=\"14.00\">properties:</text>\n",
       "<text text-anchor=\"middle\" x=\"124.98\" y=\"-401.9\" font-family=\"Times,serif\" font-size=\"14.00\">name: name *unique*</text>\n",
       "<text text-anchor=\"middle\" x=\"124.98\" y=\"-385.4\" font-family=\"Times,serif\" font-size=\"14.00\">age: age</text>\n",
       "</g>\n",
       "<!-- Person&#45;&gt;Person -->\n",
       "<g id=\"edge2\" class=\"edge\">\n",
       "<title>Person&#45;&gt;Person</title>\n",
       "<path fill=\"none\" stroke=\"black\" d=\"M219.91,-437.97C232.13,-435.41 240.21,-430.48 240.21,-423.2 240.21,-418.42 236.73,-414.65 230.89,-411.91\"/>\n",
       "<polygon fill=\"black\" stroke=\"black\" points=\"231.95,-408.57 221.35,-408.88 229.83,-415.24 231.95,-408.57\"/>\n",
       "<text text-anchor=\"middle\" x=\"265.33\" y=\"-418.15\" font-family=\"Times,serif\" font-size=\"14.00\">KNOWS</text>\n",
       "</g>\n",
       "<!-- Address -->\n",
       "<g id=\"node2\" class=\"node\">\n",
       "<title>Address</title>\n",
       "<ellipse fill=\"none\" stroke=\"black\" cx=\"57.98\" cy=\"-243.42\" rx=\"57.98\" ry=\"63.64\"/>\n",
       "<text text-anchor=\"middle\" x=\"57.98\" y=\"-271.12\" font-family=\"Times,serif\" font-size=\"14.00\">Address</text>\n",
       "<text text-anchor=\"middle\" x=\"57.98\" y=\"-238.62\" font-family=\"Times,serif\" font-size=\"14.00\">properties:</text>\n",
       "<text text-anchor=\"middle\" x=\"57.98\" y=\"-222.12\" font-family=\"Times,serif\" font-size=\"14.00\">street: street</text>\n",
       "<text text-anchor=\"middle\" x=\"57.98\" y=\"-205.62\" font-family=\"Times,serif\" font-size=\"14.00\">city: city</text>\n",
       "</g>\n",
       "<!-- Person&#45;&gt;Address -->\n",
       "<g id=\"edge1\" class=\"edge\">\n",
       "<title>Person&#45;&gt;Address</title>\n",
       "<path fill=\"none\" stroke=\"black\" d=\"M85.44,-364.56C81.38,-357.04 77.67,-349.27 74.73,-341.56 71.88,-334.08 69.52,-326.1 67.55,-318.04\"/>\n",
       "<polygon fill=\"black\" stroke=\"black\" points=\"71.02,-317.53 65.44,-308.52 64.19,-319.04 71.02,-317.53\"/>\n",
       "<text text-anchor=\"middle\" x=\"121.61\" y=\"-328.26\" font-family=\"Times,serif\" font-size=\"14.00\">HAS_ADDRESS</text>\n",
       "</g>\n",
       "<!-- Pet -->\n",
       "<g id=\"node3\" class=\"node\">\n",
       "<title>Pet</title>\n",
       "<ellipse fill=\"none\" stroke=\"black\" cx=\"208.98\" cy=\"-243.42\" rx=\"75.48\" ry=\"63.64\"/>\n",
       "<text text-anchor=\"middle\" x=\"208.98\" y=\"-271.12\" font-family=\"Times,serif\" font-size=\"14.00\">Pet</text>\n",
       "<text text-anchor=\"middle\" x=\"208.98\" y=\"-238.62\" font-family=\"Times,serif\" font-size=\"14.00\">properties:</text>\n",
       "<text text-anchor=\"middle\" x=\"208.98\" y=\"-222.12\" font-family=\"Times,serif\" font-size=\"14.00\">name: pet_name</text>\n",
       "<text text-anchor=\"middle\" x=\"208.98\" y=\"-205.62\" font-family=\"Times,serif\" font-size=\"14.00\">kind: pet</text>\n",
       "</g>\n",
       "<!-- Person&#45;&gt;Pet -->\n",
       "<g id=\"edge3\" class=\"edge\">\n",
       "<title>Person&#45;&gt;Pet</title>\n",
       "<path fill=\"none\" stroke=\"black\" d=\"M159.03,-363.2C162.86,-355.98 166.6,-348.65 169.98,-341.56 174.03,-333.07 178.04,-324.05 181.86,-315.05\"/>\n",
       "<polygon fill=\"black\" stroke=\"black\" points=\"185.04,-316.5 185.66,-305.93 178.58,-313.81 185.04,-316.5\"/>\n",
       "<text text-anchor=\"middle\" x=\"205.86\" y=\"-328.26\" font-family=\"Times,serif\" font-size=\"14.00\">HAS_PET</text>\n",
       "</g>\n",
       "<!-- Toy -->\n",
       "<g id=\"node4\" class=\"node\">\n",
       "<title>Toy</title>\n",
       "<ellipse fill=\"none\" stroke=\"black\" cx=\"208.98\" cy=\"-63.64\" rx=\"88.21\" ry=\"63.64\"/>\n",
       "<text text-anchor=\"middle\" x=\"208.98\" y=\"-91.34\" font-family=\"Times,serif\" font-size=\"14.00\">Toy</text>\n",
       "<text text-anchor=\"middle\" x=\"208.98\" y=\"-58.84\" font-family=\"Times,serif\" font-size=\"14.00\">properties:</text>\n",
       "<text text-anchor=\"middle\" x=\"208.98\" y=\"-42.34\" font-family=\"Times,serif\" font-size=\"14.00\">name: toy *unique*</text>\n",
       "<text text-anchor=\"middle\" x=\"208.98\" y=\"-25.84\" font-family=\"Times,serif\" font-size=\"14.00\">kind: toy_type</text>\n",
       "</g>\n",
       "<!-- Pet&#45;&gt;Toy -->\n",
       "<g id=\"edge4\" class=\"edge\">\n",
       "<title>Pet&#45;&gt;Toy</title>\n",
       "<path fill=\"none\" stroke=\"black\" d=\"M208.98,-179.49C208.98,-166.3 208.98,-152.28 208.98,-138.73\"/>\n",
       "<polygon fill=\"black\" stroke=\"black\" points=\"212.48,-139 208.98,-129 205.48,-139 212.48,-139\"/>\n",
       "<text text-anchor=\"middle\" x=\"251.73\" y=\"-148.48\" font-family=\"Times,serif\" font-size=\"14.00\">PLAYS_WITH</text>\n",
       "</g>\n",
       "</g>\n",
       "</svg>\n"
      ],
      "text/plain": [
       "<graphviz.graphs.Digraph at 0x104fc7a90>"
      ]
     },
     "execution_count": 10,
     "metadata": {},
     "output_type": "execute_result"
    }
   ],
   "source": [
    "v"
   ]
  },
  {
   "cell_type": "code",
   "execution_count": null,
   "metadata": {},
   "outputs": [],
   "source": []
  }
 ],
 "metadata": {
  "kernelspec": {
   "display_name": "venv",
   "language": "python",
   "name": "python3"
  },
  "language_info": {
   "codemirror_mode": {
    "name": "ipython",
    "version": 3
   },
   "file_extension": ".py",
   "mimetype": "text/x-python",
   "name": "python",
   "nbconvert_exporter": "python",
   "pygments_lexer": "ipython3",
   "version": "3.11.3"
  }
 },
 "nbformat": 4,
 "nbformat_minor": 2
}

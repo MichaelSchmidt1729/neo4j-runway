{
 "cells": [
  {
   "cell_type": "code",
   "execution_count": 1,
   "metadata": {},
   "outputs": [],
   "source": [
    "import sys\n",
    "sys.path.append(\"../../\")\n",
    "\n",
    "from objects.node import Node\n",
    "from objects.relationship import Relationship\n",
    "from objects.data_model import DataModel\n",
    "from scripts.generate_ingest_class import IngestionGenerator"
   ]
  },
  {
   "cell_type": "code",
   "execution_count": 2,
   "metadata": {},
   "outputs": [],
   "source": [
    "uri = \"bolt://localhost:7687\"\n",
    "username = \"neo4j\"\n",
    "password = \"password\"\n",
    "database = \"neo4j\""
   ]
  },
  {
   "cell_type": "code",
   "execution_count": 3,
   "metadata": {},
   "outputs": [],
   "source": [
    "good_nodes = [\n",
    "            Node(\n",
    "                label=\"Person\",\n",
    "                properties=[\"name\", \"age\"],\n",
    "                unique_constraints=[\"name\"],\n",
    "                ),\n",
    "            Node(\n",
    "                label=\"Address\", \n",
    "                properties=[\"street\", \"city\"], \n",
    "                unique_constraints=[]\n",
    "            ),\n",
    "            Node(\n",
    "                label=\"Pet\", \n",
    "                properties=[\"name\", \"kind\"], \n",
    "                unique_constraints=[]\n",
    "            ),\n",
    "            Node(\n",
    "                label=\"Toy\", \n",
    "                properties=[\"name\", \"kind\"], \n",
    "                unique_constraints=[\"name\"]\n",
    "            )\n",
    "        ]\n",
    "\n",
    "good_relationships = [\n",
    "            Relationship(\n",
    "                type=\"HAS_ADDRESS\",\n",
    "                properties=[],\n",
    "                unique_constraints=[],\n",
    "                source=\"Person\",\n",
    "                target=\"Address\",\n",
    "            ),\n",
    "            Relationship(\n",
    "                type=\"KNOWS\",\n",
    "                unique_constraints=[],\n",
    "                properties=[],\n",
    "                source=\"Person\",\n",
    "                target=\"Person\",\n",
    "            ),\n",
    "            Relationship(\n",
    "                type=\"HAS_PET\",\n",
    "                unique_constraints=[],\n",
    "                properties=[],\n",
    "                source=\"Person\",\n",
    "                target=\"Pet\",\n",
    "            ),\n",
    "            Relationship(\n",
    "                type=\"PLAYS_WITH\",\n",
    "                unique_constraints=[],\n",
    "                properties=[],\n",
    "                source=\"Pet\",\n",
    "                target=\"Toy\",\n",
    "            )\n",
    "        ]\n",
    "\n",
    "data_model = DataModel(nodes=good_nodes, relationships=good_relationships)"
   ]
  },
  {
   "cell_type": "code",
   "execution_count": 4,
   "metadata": {},
   "outputs": [
    {
     "name": "stdout",
     "output_type": "stream",
     "text": [
      "uniq_constr_str: name: row.name\n",
      "uniq_constr_str: name: row.name\n",
      "uniq_constr_str: name: row.name\n",
      "uniq_constr_str: name: row.name\n",
      "[{'url': '$BASE/data/None', 'cql': 'WITH $dict.rows AS rows\\nUNWIND rows AS row\\nMERGE (n:Person {name: row.name})\\nSET n.age = row.age', 'chunk_size': 100}, {'url': '$BASE/data/None', 'cql': 'WITH $dict.rows AS rows\\nUNWIND rows AS row\\nMERGE (n:Address {name: row.name})\\nSET n.street = row.street, n.city = row.city', 'chunk_size': 100}, {'url': '$BASE/data/None', 'cql': 'WITH $dict.rows AS rows\\nUNWIND rows AS row\\nMERGE (n:Pet {name: row.name})\\nSET n.kind = row.kind, n.name = row.name', 'chunk_size': 100}, {'url': '$BASE/data/None', 'cql': 'WITH $dict.rows AS rows\\nUNWIND rows AS row\\nMERGE (n:Toy {name: row.name})\\nSET n.kind = row.kind', 'chunk_size': 100}, {'url': '$BASE/data/None', 'cql': 'WITH $dict.rows AS rows\\nUNWIND rows as row\\nMATCH (source:Person{name: row.name})\\nMATCH (target:Address{name: row.name})\\nMERGE (source)-[:HAS_ADDRESS]->(target)', 'chunk_size': 100}, {'url': '$BASE/data/None', 'cql': 'WITH $dict.rows AS rows\\nUNWIND rows as row\\nMATCH (source:Person{name: row.name})\\nMATCH (target:Person{name: row.name})\\nMERGE (source)-[:KNOWS]->(target)', 'chunk_size': 100}, {'url': '$BASE/data/None', 'cql': 'WITH $dict.rows AS rows\\nUNWIND rows as row\\nMATCH (source:Person{name: row.name})\\nMATCH (target:Pet{name: row.name})\\nMERGE (source)-[:HAS_PET]->(target)', 'chunk_size': 100}, {'url': '$BASE/data/None', 'cql': 'WITH $dict.rows AS rows\\nUNWIND rows as row\\nMATCH (source:Pet{name: row.name})\\nMATCH (target:Toy{name: row.name})\\nMERGE (source)-[:PLAYS_WITH]->(target)', 'chunk_size': 100}]\n"
     ]
    }
   ],
   "source": [
    "gen = IngestionGenerator(data_model=data_model.dict, \n",
    "                         username=username, \n",
    "                         password=password, \n",
    "                         uri=uri, \n",
    "                         database=database, \n",
    "                         csv_file_path=None)"
   ]
  },
  {
   "cell_type": "code",
   "execution_count": 5,
   "metadata": {},
   "outputs": [],
   "source": [
    "gen.generate_pyingest_yaml()"
   ]
  },
  {
   "cell_type": "code",
   "execution_count": 6,
   "metadata": {},
   "outputs": [],
   "source": [
    "gen.generate_constraints_cypher()"
   ]
  },
  {
   "cell_type": "code",
   "execution_count": 7,
   "metadata": {},
   "outputs": [],
   "source": [
    "gen.generate_load_csv()"
   ]
  }
 ],
 "metadata": {
  "kernelspec": {
   "display_name": "venv",
   "language": "python",
   "name": "python3"
  },
  "language_info": {
   "codemirror_mode": {
    "name": "ipython",
    "version": 3
   },
   "file_extension": ".py",
   "mimetype": "text/x-python",
   "name": "python",
   "nbconvert_exporter": "python",
   "pygments_lexer": "ipython3",
   "version": "3.11.3"
  }
 },
 "nbformat": 4,
 "nbformat_minor": 2
}

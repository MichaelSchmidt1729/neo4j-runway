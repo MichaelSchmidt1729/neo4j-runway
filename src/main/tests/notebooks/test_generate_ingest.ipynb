{
 "cells": [
  {
   "cell_type": "code",
   "execution_count": 1,
   "metadata": {},
   "outputs": [],
   "source": [
    "import sys\n",
    "sys.path.append(\"../../\")\n",
    "\n",
    "from objects.node import Node\n",
    "from objects.relationship import Relationship\n",
    "from objects.data_model import DataModel\n",
    "from objects.property import Property\n",
    "from ingestion.generate_ingest import IngestionGenerator"
   ]
  },
  {
   "cell_type": "code",
   "execution_count": 2,
   "metadata": {},
   "outputs": [],
   "source": [
    "uri = \"bolt://localhost:7687\"\n",
    "username = \"neo4j\"\n",
    "password = \"password\"\n",
    "database = \"neo4j\""
   ]
  },
  {
   "cell_type": "code",
   "execution_count": 3,
   "metadata": {},
   "outputs": [],
   "source": [
    "person_name = Property(name=\"name\", type=\"str\", csv_mapping=\"name\", is_unique=True)\n",
    "person_age = Property(name=\"age\", type=\"str\", csv_mapping=\"age\", is_unique=False)\n",
    "address_street = Property(name=\"street\", type=\"str\", csv_mapping=\"street\", is_unique=False)\n",
    "address_city = Property(name=\"city\", type=\"str\", csv_mapping=\"city\", is_unique=False)\n",
    "pet_name = Property(name=\"name\", type=\"str\", csv_mapping=\"pet_name\", is_unique=False)\n",
    "pet_kind = Property(name=\"kind\", type=\"str\", csv_mapping=\"pet\", is_unique=False)\n",
    "toy_name = Property(name=\"name\", type=\"str\", csv_mapping=\"toy\", is_unique=True)\n",
    "toy_kind = Property(name=\"kind\", type=\"str\", csv_mapping=\"toy_type\", is_unique=False)"
   ]
  },
  {
   "cell_type": "code",
   "execution_count": 4,
   "metadata": {},
   "outputs": [],
   "source": [
    "nodes = [\n",
    "            Node(\n",
    "                label=\"Person\",\n",
    "                properties=[person_name, person_age],\n",
    "                ),\n",
    "            Node(\n",
    "                label=\"Address\", \n",
    "                properties=[address_street, address_city], \n",
    "            ),\n",
    "            Node(\n",
    "                label=\"Pet\", \n",
    "                properties=[pet_name, pet_kind], \n",
    "            ),\n",
    "            Node(\n",
    "                label=\"Toy\", \n",
    "                properties=[toy_name, toy_kind], \n",
    "            )\n",
    "        ]\n",
    "\n",
    "relationships = [\n",
    "            Relationship(\n",
    "                type=\"HAS_ADDRESS\",\n",
    "                properties=[],\n",
    "                source=\"Person\",\n",
    "                target=\"Address\",\n",
    "            ),\n",
    "            Relationship(\n",
    "                type=\"KNOWS\",\n",
    "                properties=[],\n",
    "                source=\"Person\",\n",
    "                target=\"Person\",\n",
    "            ),\n",
    "            Relationship(\n",
    "                type=\"HAS_PET\",\n",
    "                properties=[],\n",
    "                source=\"Person\",\n",
    "                target=\"Pet\",\n",
    "            ),\n",
    "            Relationship(\n",
    "                type=\"PLAYS_WITH\",\n",
    "                properties=[],\n",
    "                source=\"Pet\",\n",
    "                target=\"Toy\",\n",
    "            )\n",
    "        ]\n",
    "\n",
    "data_model = DataModel(nodes=nodes, relationships=relationships)"
   ]
  },
  {
   "cell_type": "code",
   "execution_count": 5,
   "metadata": {},
   "outputs": [
    {
     "name": "stdout",
     "output_type": "stream",
     "text": [
      "constraints:  {'person_name': 'CREATE CONSTRAINT person_name IF NOT EXISTS FOR (n:Person) REQUIRE n.name IS UNIQUE;\\n'}\n",
      "constraints:  {'person_name': 'CREATE CONSTRAINT person_name IF NOT EXISTS FOR (n:Person) REQUIRE n.name IS UNIQUE;\\n'}\n",
      "constraints:  {'person_name': 'CREATE CONSTRAINT person_name IF NOT EXISTS FOR (n:Person) REQUIRE n.name IS UNIQUE;\\n'}\n",
      "constraints:  {'person_name': 'CREATE CONSTRAINT person_name IF NOT EXISTS FOR (n:Person) REQUIRE n.name IS UNIQUE;\\n', 'toy_name': 'CREATE CONSTRAINT toy_name IF NOT EXISTS FOR (n:Toy) REQUIRE n.name IS UNIQUE;\\n'}\n",
      "cypher map: \n",
      " {'person': {'cypher': 'WITH $dict.rows AS rows\\nUNWIND rows AS row\\nMERGE (n:Person {name: row.name})\\nSET n.age = row.age', 'cypher_loadcsv': \"LOAD CSV WITH HEADERS FROM 'file:///file_name' as row\\nCALL {\\n\\tWITH row\\n\\tMERGE (n:Person {name: row.name})\\nSET n.age = row.age} IN TRANSACTIONS OF 10000 ROWS;\\n\", 'csv': '$BASE/test'}, 'address': {'cypher': 'WITH $dict.rows AS rows\\nUNWIND rows AS row\\nMERGE (n:Address {})\\nSET n.street = row.street, n.city = row.city', 'cypher_loadcsv': \"LOAD CSV WITH HEADERS FROM 'file:///file_name' as row\\nCALL {\\n\\tWITH row\\n\\tMERGE (n:Address {})\\nSET n.street = row.street, n.city = row.city} IN TRANSACTIONS OF 10000 ROWS;\\n\", 'csv': '$BASE/test'}, 'pet': {'cypher': 'WITH $dict.rows AS rows\\nUNWIND rows AS row\\nMERGE (n:Pet {})\\nSET n.name = row.pet_name, n.kind = row.pet', 'cypher_loadcsv': \"LOAD CSV WITH HEADERS FROM 'file:///file_name' as row\\nCALL {\\n\\tWITH row\\n\\tMERGE (n:Pet {})\\nSET n.name = row.pet_name, n.kind = row.pet} IN TRANSACTIONS OF 10000 ROWS;\\n\", 'csv': '$BASE/test'}, 'toy': {'cypher': 'WITH $dict.rows AS rows\\nUNWIND rows AS row\\nMERGE (n:Toy {name: row.toy})\\nSET n.kind = row.toy_type', 'cypher_loadcsv': \"LOAD CSV WITH HEADERS FROM 'file:///file_name' as row\\nCALL {\\n\\tWITH row\\n\\tMERGE (n:Toy {name: row.toy})\\nSET n.kind = row.toy_type} IN TRANSACTIONS OF 10000 ROWS;\\n\", 'csv': '$BASE/test'}}\n"
     ]
    },
    {
     "ename": "TypeError",
     "evalue": "'DataModel' object is not subscriptable",
     "output_type": "error",
     "traceback": [
      "\u001b[0;31m---------------------------------------------------------------------------\u001b[0m",
      "\u001b[0;31mTypeError\u001b[0m                                 Traceback (most recent call last)",
      "Cell \u001b[0;32mIn[5], line 1\u001b[0m\n\u001b[0;32m----> 1\u001b[0m gen \u001b[38;5;241m=\u001b[39m \u001b[43mIngestionGenerator\u001b[49m\u001b[43m(\u001b[49m\u001b[43mdata_model\u001b[49m\u001b[38;5;241;43m=\u001b[39;49m\u001b[43mdata_model\u001b[49m\u001b[38;5;241;43m.\u001b[39;49m\u001b[43mmodel_dump\u001b[49m\u001b[43m(\u001b[49m\u001b[43m)\u001b[49m\u001b[43m,\u001b[49m\u001b[43m \u001b[49m\n\u001b[1;32m      2\u001b[0m \u001b[43m                         \u001b[49m\u001b[43musername\u001b[49m\u001b[38;5;241;43m=\u001b[39;49m\u001b[43musername\u001b[49m\u001b[43m,\u001b[49m\u001b[43m \u001b[49m\n\u001b[1;32m      3\u001b[0m \u001b[43m                         \u001b[49m\u001b[43mpassword\u001b[49m\u001b[38;5;241;43m=\u001b[39;49m\u001b[43mpassword\u001b[49m\u001b[43m,\u001b[49m\u001b[43m \u001b[49m\n\u001b[1;32m      4\u001b[0m \u001b[43m                         \u001b[49m\u001b[43muri\u001b[49m\u001b[38;5;241;43m=\u001b[39;49m\u001b[43muri\u001b[49m\u001b[43m,\u001b[49m\u001b[43m \u001b[49m\n\u001b[1;32m      5\u001b[0m \u001b[43m                         \u001b[49m\u001b[43mdatabase\u001b[49m\u001b[38;5;241;43m=\u001b[39;49m\u001b[43mdatabase\u001b[49m\u001b[43m,\u001b[49m\u001b[43m \u001b[49m\n\u001b[1;32m      6\u001b[0m \u001b[43m                         \u001b[49m\u001b[43mcsv_file_path\u001b[49m\u001b[38;5;241;43m=\u001b[39;49m\u001b[38;5;28;43;01mNone\u001b[39;49;00m\u001b[43m,\u001b[49m\n\u001b[1;32m      7\u001b[0m \u001b[43m                         \u001b[49m\u001b[43mcsv_name\u001b[49m\u001b[38;5;241;43m=\u001b[39;49m\u001b[38;5;124;43m\"\u001b[39;49m\u001b[38;5;124;43mtest\u001b[39;49m\u001b[38;5;124;43m\"\u001b[39;49m\u001b[43m)\u001b[49m\n",
      "File \u001b[0;32m~/Documents/projects/csv-to-graph/src/main/tests/notebooks/../../ingestion/generate_ingest.py:54\u001b[0m, in \u001b[0;36mIngestionGenerator.__init__\u001b[0;34m(self, *a, **kw)\u001b[0m\n\u001b[1;32m     51\u001b[0m \u001b[38;5;28;01mdef\u001b[39;00m \u001b[38;5;21m__init__\u001b[39m(\u001b[38;5;28mself\u001b[39m, \u001b[38;5;241m*\u001b[39ma, \u001b[38;5;241m*\u001b[39m\u001b[38;5;241m*\u001b[39mkw):\n\u001b[1;32m     52\u001b[0m     \u001b[38;5;28msuper\u001b[39m()\u001b[38;5;241m.\u001b[39m\u001b[38;5;21m__init__\u001b[39m(\u001b[38;5;241m*\u001b[39ma, \u001b[38;5;241m*\u001b[39m\u001b[38;5;241m*\u001b[39mkw)\n\u001b[0;32m---> 54\u001b[0m     \u001b[38;5;28;43mself\u001b[39;49m\u001b[38;5;241;43m.\u001b[39;49m\u001b[43m_generate_base_information\u001b[49m\u001b[43m(\u001b[49m\u001b[43m)\u001b[49m\n",
      "File \u001b[0;32m~/Documents/projects/csv-to-graph/src/main/tests/notebooks/../../ingestion/generate_ingest.py:106\u001b[0m, in \u001b[0;36mIngestionGenerator._generate_base_information\u001b[0;34m(self)\u001b[0m\n\u001b[1;32m    104\u001b[0m model_map \u001b[38;5;241m=\u001b[39m {}    \n\u001b[1;32m    105\u001b[0m \u001b[38;5;66;03m## get relationships\u001b[39;00m\n\u001b[0;32m--> 106\u001b[0m \u001b[38;5;28;01mfor\u001b[39;00m rel \u001b[38;5;129;01min\u001b[39;00m \u001b[38;5;28;43mself\u001b[39;49m\u001b[38;5;241;43m.\u001b[39;49m\u001b[43mdata_model\u001b[49m\u001b[43m[\u001b[49m\u001b[38;5;124;43m\"\u001b[39;49m\u001b[38;5;124;43mrelationships\u001b[39;49m\u001b[38;5;124;43m\"\u001b[39;49m\u001b[43m]\u001b[49m:\n\u001b[1;32m    107\u001b[0m   rel_type \u001b[38;5;241m=\u001b[39m rel[\u001b[38;5;124m\"\u001b[39m\u001b[38;5;124mtype\u001b[39m\u001b[38;5;124m\"\u001b[39m]\n\u001b[1;32m    108\u001b[0m   src_node_label \u001b[38;5;241m=\u001b[39m rel[\u001b[38;5;124m\"\u001b[39m\u001b[38;5;124msource\u001b[39m\u001b[38;5;124m\"\u001b[39m]\n",
      "\u001b[0;31mTypeError\u001b[0m: 'DataModel' object is not subscriptable"
     ]
    }
   ],
   "source": [
    "gen = IngestionGenerator(data_model=data_model.model_dump(), \n",
    "                         username=username, \n",
    "                         password=password, \n",
    "                         uri=uri, \n",
    "                         database=database, \n",
    "                         csv_file_path=None,\n",
    "                         csv_name=\"test\")"
   ]
  },
  {
   "cell_type": "code",
   "execution_count": 5,
   "metadata": {},
   "outputs": [
    {
     "name": "stdout",
     "output_type": "stream",
     "text": [
      "server_uri: bolt://localhost:7687\n",
      "admin_user: neo4j\n",
      "admin_pass: password\n",
      "basepath: file:./\n",
      "\n",
      "pre_ingest:\n",
      "  - CREATE CONSTRAINT person_name IF NOT EXISTS FOR (n:Person) REQUIRE n.name IS UNIQUE;\n",
      "  - CREATE CONSTRAINT address_name IF NOT EXISTS FOR (n:Address) REQUIRE n.name IS UNIQUE;\n",
      "  - CREATE CONSTRAINT pet_name IF NOT EXISTS FOR (n:Pet) REQUIRE n.name IS UNIQUE;\n",
      "  - CREATE CONSTRAINT toy_name IF NOT EXISTS FOR (n:Toy) REQUIRE n.name IS UNIQUE;\n",
      "files:\n",
      "- chunk_size: 100\n",
      "  cql: |-\n",
      "    WITH $dict.rows AS rows\n",
      "    UNWIND rows AS row\n",
      "    MERGE (n:Person {name: row.name})\n",
      "    SET n.age = row.age\n",
      "  url: $BASE/data/None\n",
      "- chunk_size: 100\n",
      "  cql: |-\n",
      "    WITH $dict.rows AS rows\n",
      "    UNWIND rows AS row\n",
      "    MERGE (n:Address {name: row.name})\n",
      "    SET n.street = row.street, n.city = row.city\n",
      "  url: $BASE/data/None\n",
      "- chunk_size: 100\n",
      "  cql: |-\n",
      "    WITH $dict.rows AS rows\n",
      "    UNWIND rows AS row\n",
      "    MERGE (n:Pet {name: row.name})\n",
      "    SET n.kind = row.kind, n.name = row.name\n",
      "  url: $BASE/data/None\n",
      "- chunk_size: 100\n",
      "  cql: |-\n",
      "    WITH $dict.rows AS rows\n",
      "    UNWIND rows AS row\n",
      "    MERGE (n:Toy {name: row.name})\n",
      "    SET n.kind = row.kind\n",
      "  url: $BASE/data/None\n",
      "- chunk_size: 100\n",
      "  cql: |-\n",
      "    WITH $dict.rows AS rows\n",
      "    UNWIND rows as row\n",
      "    MATCH (source:Person{name: row.name})\n",
      "    MATCH (target:Address{name: row.name})\n",
      "    MERGE (source)-[:HAS_ADDRESS]->(target)\n",
      "  url: $BASE/data/None\n",
      "- chunk_size: 100\n",
      "  cql: |-\n",
      "    WITH $dict.rows AS rows\n",
      "    UNWIND rows as row\n",
      "    MATCH (source:Person{name: row.name})\n",
      "    MATCH (target:Person{name: row.name})\n",
      "    MERGE (source)-[:KNOWS]->(target)\n",
      "  url: $BASE/data/None\n",
      "- chunk_size: 100\n",
      "  cql: |-\n",
      "    WITH $dict.rows AS rows\n",
      "    UNWIND rows as row\n",
      "    MATCH (source:Person{name: row.name})\n",
      "    MATCH (target:Pet{name: row.name})\n",
      "    MERGE (source)-[:HAS_PET]->(target)\n",
      "  url: $BASE/data/None\n",
      "- chunk_size: 100\n",
      "  cql: |-\n",
      "    WITH $dict.rows AS rows\n",
      "    UNWIND rows as row\n",
      "    MATCH (source:Pet{name: row.name})\n",
      "    MATCH (target:Toy{name: row.name})\n",
      "    MERGE (source)-[:PLAYS_WITH]->(target)\n",
      "  url: $BASE/data/None\n",
      "\n"
     ]
    }
   ],
   "source": [
    "print(gen.generate_pyingest_yaml(write_file=False))"
   ]
  },
  {
   "cell_type": "code",
   "execution_count": 6,
   "metadata": {},
   "outputs": [
    {
     "name": "stdout",
     "output_type": "stream",
     "text": [
      "CREATE CONSTRAINT person_name IF NOT EXISTS FOR (n:Person) REQUIRE n.name IS UNIQUE;\n",
      "CREATE CONSTRAINT address_name IF NOT EXISTS FOR (n:Address) REQUIRE n.name IS UNIQUE;\n",
      "CREATE CONSTRAINT pet_name IF NOT EXISTS FOR (n:Pet) REQUIRE n.name IS UNIQUE;\n",
      "CREATE CONSTRAINT toy_name IF NOT EXISTS FOR (n:Toy) REQUIRE n.name IS UNIQUE;\n",
      "\n"
     ]
    }
   ],
   "source": [
    "print(gen.generate_constraints_cypher())"
   ]
  },
  {
   "cell_type": "code",
   "execution_count": 7,
   "metadata": {},
   "outputs": [
    {
     "name": "stdout",
     "output_type": "stream",
     "text": [
      "CREATE CONSTRAINT person_name IF NOT EXISTS FOR (n:Person) REQUIRE n.name IS UNIQUE;\n",
      "CREATE CONSTRAINT address_name IF NOT EXISTS FOR (n:Address) REQUIRE n.name IS UNIQUE;\n",
      "CREATE CONSTRAINT pet_name IF NOT EXISTS FOR (n:Pet) REQUIRE n.name IS UNIQUE;\n",
      "CREATE CONSTRAINT toy_name IF NOT EXISTS FOR (n:Toy) REQUIRE n.name IS UNIQUE;\n",
      "LOAD CSV WITH HEADERS FROM 'file:///file_name' as row\n",
      "CALL {\n",
      "\tWITH row\n",
      "\tMERGE (n:Person {name: row.name})\n",
      "SET n.age = row.age} IN TRANSACTIONS OF 10000 ROWS;\n",
      "LOAD CSV WITH HEADERS FROM 'file:///file_name' as row\n",
      "CALL {\n",
      "\tWITH row\n",
      "\tMERGE (n:Address {name: row.name})\n",
      "SET n.street = row.street, n.city = row.city} IN TRANSACTIONS OF 10000 ROWS;\n",
      "LOAD CSV WITH HEADERS FROM 'file:///file_name' as row\n",
      "CALL {\n",
      "\tWITH row\n",
      "\tMERGE (n:Pet {name: row.name})\n",
      "SET n.kind = row.kind, n.name = row.name} IN TRANSACTIONS OF 10000 ROWS;\n",
      "LOAD CSV WITH HEADERS FROM 'file:///file_name' as row\n",
      "CALL {\n",
      "\tWITH row\n",
      "\tMERGE (n:Toy {name: row.name})\n",
      "SET n.kind = row.kind} IN TRANSACTIONS OF 10000 ROWS;\n",
      "LOAD CSV WITH HEADERS FROM 'file:///file_name' as row\n",
      "CALL {\n",
      "\tWITH row\n",
      "\tMATCH (source:Person{name: row.name})\n",
      "\tMATCH (target:Address{name: row.name})\n",
      "\tMERGE (source)-[:HAS_ADDRESS]->(target)\n",
      "} IN TRANSACTIONS OF 10000 ROWS;\n",
      "LOAD CSV WITH HEADERS FROM 'file:///file_name' as row\n",
      "CALL {\n",
      "\tWITH row\n",
      "\tMATCH (source:Person{name: row.name})\n",
      "\tMATCH (target:Person{name: row.name})\n",
      "\tMERGE (source)-[:KNOWS]->(target)\n",
      "} IN TRANSACTIONS OF 10000 ROWS;\n",
      "LOAD CSV WITH HEADERS FROM 'file:///file_name' as row\n",
      "CALL {\n",
      "\tWITH row\n",
      "\tMATCH (source:Person{name: row.name})\n",
      "\tMATCH (target:Pet{name: row.name})\n",
      "\tMERGE (source)-[:HAS_PET]->(target)\n",
      "} IN TRANSACTIONS OF 10000 ROWS;\n",
      "LOAD CSV WITH HEADERS FROM 'file:///file_name' as row\n",
      "CALL {\n",
      "\tWITH row\n",
      "\tMATCH (source:Pet{name: row.name})\n",
      "\tMATCH (target:Toy{name: row.name})\n",
      "\tMERGE (source)-[:PLAYS_WITH]->(target)\n",
      "} IN TRANSACTIONS OF 10000 ROWS;\n",
      "\n"
     ]
    }
   ],
   "source": [
    "print(gen.generate_load_csv())"
   ]
  }
 ],
 "metadata": {
  "kernelspec": {
   "display_name": "venv",
   "language": "python",
   "name": "python3"
  },
  "language_info": {
   "codemirror_mode": {
    "name": "ipython",
    "version": 3
   },
   "file_extension": ".py",
   "mimetype": "text/x-python",
   "name": "python",
   "nbconvert_exporter": "python",
   "pygments_lexer": "ipython3",
   "version": "3.11.3"
  }
 },
 "nbformat": 4,
 "nbformat_minor": 2
}

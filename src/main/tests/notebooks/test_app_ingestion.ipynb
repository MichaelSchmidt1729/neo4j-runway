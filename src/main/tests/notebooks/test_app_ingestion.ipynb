{
 "cells": [
  {
   "cell_type": "code",
   "execution_count": 1,
   "metadata": {},
   "outputs": [],
   "source": [
    "import sys\n",
    "sys.path.append(\"../../\")\n",
    "\n",
    "import json\n",
    "import pandas as pd\n",
    "from ingestion.generate_ingest import IngestionGenerator\n",
    "from pyingest.pyingest import PyIngestForStreamlit"
   ]
  },
  {
   "cell_type": "code",
   "execution_count": 2,
   "metadata": {},
   "outputs": [],
   "source": [
    "username = \"neo4j\"\n",
    "password = \"password\"\n",
    "database = \"neo4j\"\n",
    "uri = \"bolt://localhost:7687\""
   ]
  },
  {
   "cell_type": "code",
   "execution_count": 3,
   "metadata": {},
   "outputs": [],
   "source": [
    "data_model = \"\"\"\n",
    "{\"nodes\": [{\"label\": \"Battle\", \"properties\": [\"name\", \"year\", \"battle_number\", \"attacker_king\", \"defender_king\", \"attacker_1\", \"attacker_2\", \"attacker_3\", \"attacker_4\", \"defender_1\", \"defender_2\", \"defender_3\", \"defender_4\", \"attacker_outcome\", \"battle_type\", \"major_death\", \"major_capture\", \"attacker_size\", \"defender_size\", \"attacker_commander\", \"defender_commander\", \"summer\", \"location\", \"region\", \"note\"], \"unique_constraints\": [\"name\"]}, {\"label\": \"King\", \"properties\": [\"name\"], \"unique_constraints\": [\"name\"]}, {\"label\": \"Commander\", \"properties\": [\"name\"], \"unique_constraints\": [\"name\"]}, {\"label\": \"Location\", \"properties\": [\"name\"], \"unique_constraints\": [\"name\"]}, {\"label\": \"Region\", \"properties\": [\"name\"], \"unique_constraints\": [\"name\"]}, {\"label\": \"BattleOutcome\", \"properties\": [], \"unique_constraints\": [\"name\"]}, {\"label\": \"BattleType\", \"properties\": [], \"unique_constraints\": [\"name\"]}, {\"label\": \"MajorEvent\", \"properties\": [], \"unique_constraints\": [\"name\"]}], \"relationships\": [{\"type\": \"ATTACKED\", \"properties\": [], \"unique_constraints\": [], \"source\": \"Battle\", \"target\": \"King\"}, {\"type\": \"DEFENDED\", \"properties\": [], \"unique_constraints\": [], \"source\": \"Battle\", \"target\": \"King\"}, {\"type\": \"ATTACKED_WITH\", \"properties\": [], \"unique_constraints\": [], \"source\": \"Battle\", \"target\": \"Commander\"}, {\"type\": \"DEFENDED_WITH\", \"properties\": [], \"unique_constraints\": [], \"source\": \"Battle\", \"target\": \"Commander\"}, {\"type\": \"TOOK_PLACE_IN\", \"properties\": [], \"unique_constraints\": [], \"source\": \"Battle\", \"target\": \"Location\"}, {\"type\": \"LOCATED_IN\", \"properties\": [], \"unique_constraints\": [], \"source\": \"Location\", \"target\": \"Region\"}, {\"type\": \"HAD_OUTCOME\", \"properties\": [], \"unique_constraints\": [], \"source\": \"Battle\", \"target\": \"BattleOutcome\"}, {\"type\": \"OF_TYPE\", \"properties\": [], \"unique_constraints\": [], \"source\": \"Battle\", \"target\": \"BattleType\"}, {\"type\": \"EXPERIENCED_EVENT\", \"properties\": [], \"unique_constraints\": [], \"source\": \"Battle\", \"target\": \"MajorEvent\"}]}\n",
    "\"\"\""
   ]
  },
  {
   "cell_type": "code",
   "execution_count": 4,
   "metadata": {},
   "outputs": [],
   "source": [
    "csv_name = \"got-battles.csv\"\n",
    "csv_dir = \"../../data/csv/\""
   ]
  },
  {
   "cell_type": "code",
   "execution_count": 5,
   "metadata": {},
   "outputs": [],
   "source": [
    "input_dataframe = pd.read_csv(csv_dir+csv_name)"
   ]
  },
  {
   "cell_type": "code",
   "execution_count": 6,
   "metadata": {},
   "outputs": [],
   "source": [
    "# if a model other than most recent is desired, then uncomment these lines and select the version number appropriately\n",
    "# model_version_to_use = []\n",
    "# model_to_use = summarizer.model_history[model_version_to_use-1].dict\n",
    "\n",
    "gen = IngestionGenerator(data_model=json.loads(data_model),\n",
    "                         username=username,\n",
    "                         password=password,\n",
    "                         database=database,\n",
    "                         uri=uri,\n",
    "                         csv_name=csv_name,\n",
    "                         csv_dir=csv_dir)"
   ]
  },
  {
   "cell_type": "code",
   "execution_count": 7,
   "metadata": {},
   "outputs": [
    {
     "data": {
      "text/plain": [
       "[{'url': '$BASE/../../data/csv/got-battles.csv',\n",
       "  'cql': 'WITH $dict.rows AS rows\\nUNWIND rows AS row\\nMERGE (n:Battle {name: row.name})\\nSET n.attacker_commander = row.attacker_commander, n.major_death = row.major_death, n.attacker_size = row.attacker_size, n.battle_type = row.battle_type, n.location = row.location, n.region = row.region, n.defender_size = row.defender_size, n.attacker_2 = row.attacker_2, n.battle_number = row.battle_number, n.defender_2 = row.defender_2, n.attacker_4 = row.attacker_4, n.note = row.note, n.attacker_1 = row.attacker_1, n.defender_king = row.defender_king, n.attacker_outcome = row.attacker_outcome, n.major_capture = row.major_capture, n.attacker_3 = row.attacker_3, n.defender_4 = row.defender_4, n.attacker_king = row.attacker_king, n.defender_3 = row.defender_3, n.year = row.year, n.summer = row.summer, n.defender_1 = row.defender_1, n.defender_commander = row.defender_commander',\n",
       "  'chunk_size': 100},\n",
       " {'url': '$BASE/../../data/csv/got-battles.csv',\n",
       "  'cql': 'WITH $dict.rows AS rows\\nUNWIND rows AS row\\nMERGE (n:King {name: row.name})\\n',\n",
       "  'chunk_size': 100},\n",
       " {'url': '$BASE/../../data/csv/got-battles.csv',\n",
       "  'cql': 'WITH $dict.rows AS rows\\nUNWIND rows AS row\\nMERGE (n:Commander {name: row.name})\\n',\n",
       "  'chunk_size': 100},\n",
       " {'url': '$BASE/../../data/csv/got-battles.csv',\n",
       "  'cql': 'WITH $dict.rows AS rows\\nUNWIND rows AS row\\nMERGE (n:Location {name: row.name})\\n',\n",
       "  'chunk_size': 100},\n",
       " {'url': '$BASE/../../data/csv/got-battles.csv',\n",
       "  'cql': 'WITH $dict.rows AS rows\\nUNWIND rows AS row\\nMERGE (n:Region {name: row.name})\\n',\n",
       "  'chunk_size': 100},\n",
       " {'url': '$BASE/../../data/csv/got-battles.csv',\n",
       "  'cql': 'WITH $dict.rows AS rows\\nUNWIND rows AS row\\nMERGE (n:BattleOutcome {name: row.name})\\n',\n",
       "  'chunk_size': 100},\n",
       " {'url': '$BASE/../../data/csv/got-battles.csv',\n",
       "  'cql': 'WITH $dict.rows AS rows\\nUNWIND rows AS row\\nMERGE (n:BattleType {name: row.name})\\n',\n",
       "  'chunk_size': 100},\n",
       " {'url': '$BASE/../../data/csv/got-battles.csv',\n",
       "  'cql': 'WITH $dict.rows AS rows\\nUNWIND rows AS row\\nMERGE (n:MajorEvent {name: row.name})\\n',\n",
       "  'chunk_size': 100},\n",
       " {'url': '$BASE/../../data/csv/got-battles.csv',\n",
       "  'cql': 'WITH $dict.rows AS rows\\nUNWIND rows as row\\nMATCH (source:Battle{name: row.name})\\nMATCH (target:King{name: row.name})\\nMERGE (source)-[:DEFENDED]->(target)',\n",
       "  'chunk_size': 100},\n",
       " {'url': '$BASE/../../data/csv/got-battles.csv',\n",
       "  'cql': 'WITH $dict.rows AS rows\\nUNWIND rows as row\\nMATCH (source:Battle{name: row.name})\\nMATCH (target:Commander{name: row.name})\\nMERGE (source)-[:DEFENDED_WITH]->(target)',\n",
       "  'chunk_size': 100},\n",
       " {'url': '$BASE/../../data/csv/got-battles.csv',\n",
       "  'cql': 'WITH $dict.rows AS rows\\nUNWIND rows as row\\nMATCH (source:Battle{name: row.name})\\nMATCH (target:Location{name: row.name})\\nMERGE (source)-[:TOOK_PLACE_IN]->(target)',\n",
       "  'chunk_size': 100},\n",
       " {'url': '$BASE/../../data/csv/got-battles.csv',\n",
       "  'cql': 'WITH $dict.rows AS rows\\nUNWIND rows as row\\nMATCH (source:Location{name: row.name})\\nMATCH (target:Region{name: row.name})\\nMERGE (source)-[:LOCATED_IN]->(target)',\n",
       "  'chunk_size': 100},\n",
       " {'url': '$BASE/../../data/csv/got-battles.csv',\n",
       "  'cql': 'WITH $dict.rows AS rows\\nUNWIND rows as row\\nMATCH (source:Battle{name: row.name})\\nMATCH (target:BattleOutcome{name: row.name})\\nMERGE (source)-[:HAD_OUTCOME]->(target)',\n",
       "  'chunk_size': 100},\n",
       " {'url': '$BASE/../../data/csv/got-battles.csv',\n",
       "  'cql': 'WITH $dict.rows AS rows\\nUNWIND rows as row\\nMATCH (source:Battle{name: row.name})\\nMATCH (target:BattleType{name: row.name})\\nMERGE (source)-[:OF_TYPE]->(target)',\n",
       "  'chunk_size': 100},\n",
       " {'url': '$BASE/../../data/csv/got-battles.csv',\n",
       "  'cql': 'WITH $dict.rows AS rows\\nUNWIND rows as row\\nMATCH (source:Battle{name: row.name})\\nMATCH (target:MajorEvent{name: row.name})\\nMERGE (source)-[:EXPERIENCED_EVENT]->(target)',\n",
       "  'chunk_size': 100}]"
      ]
     },
     "execution_count": 7,
     "metadata": {},
     "output_type": "execute_result"
    }
   ],
   "source": [
    "gen.config_files_list"
   ]
  },
  {
   "cell_type": "code",
   "execution_count": 8,
   "metadata": {},
   "outputs": [],
   "source": [
    "yaml_string = gen.generate_pyingest_yaml_string()"
   ]
  },
  {
   "cell_type": "code",
   "execution_count": 9,
   "metadata": {},
   "outputs": [
    {
     "name": "stdout",
     "output_type": "stream",
     "text": [
      "server_uri: bolt://localhost:7687\n",
      "admin_user: neo4j\n",
      "admin_pass: password\n",
      "database: neo4j\n",
      "basepath: file:./\n",
      "\n",
      "pre_ingest:\n",
      "  - CREATE CONSTRAINT battle_name IF NOT EXISTS FOR (n:Battle) REQUIRE n.name IS UNIQUE;\n",
      "  - CREATE CONSTRAINT king_name IF NOT EXISTS FOR (n:King) REQUIRE n.name IS UNIQUE;\n",
      "  - CREATE CONSTRAINT commander_name IF NOT EXISTS FOR (n:Commander) REQUIRE n.name IS UNIQUE;\n",
      "  - CREATE CONSTRAINT location_name IF NOT EXISTS FOR (n:Location) REQUIRE n.name IS UNIQUE;\n",
      "  - CREATE CONSTRAINT region_name IF NOT EXISTS FOR (n:Region) REQUIRE n.name IS UNIQUE;\n",
      "  - CREATE CONSTRAINT battleoutcome_name IF NOT EXISTS FOR (n:BattleOutcome) REQUIRE n.name IS UNIQUE;\n",
      "  - CREATE CONSTRAINT battletype_name IF NOT EXISTS FOR (n:BattleType) REQUIRE n.name IS UNIQUE;\n",
      "  - CREATE CONSTRAINT majorevent_name IF NOT EXISTS FOR (n:MajorEvent) REQUIRE n.name IS UNIQUE;\n",
      "files:\n",
      "- chunk_size: 100\n",
      "  cql: |-\n",
      "    WITH $dict.rows AS rows\n",
      "    UNWIND rows AS row\n",
      "    MERGE (n:Battle {name: row.name})\n",
      "    SET n.attacker_commander = row.attacker_commander, n.major_death = row.major_death, n.attacker_size = row.attacker_size, n.battle_type = row.battle_type, n.location = row.location, n.region = row.region, n.defender_size = row.defender_size, n.attacker_2 = row.attacker_2, n.battle_number = row.battle_number, n.defender_2 = row.defender_2, n.attacker_4 = row.attacker_4, n.note = row.note, n.attacker_1 = row.attacker_1, n.defender_king = row.defender_king, n.attacker_outcome = row.attacker_outcome, n.major_capture = row.major_capture, n.attacker_3 = row.attacker_3, n.defender_4 = row.defender_4, n.attacker_king = row.attacker_king, n.defender_3 = row.defender_3, n.year = row.year, n.summer = row.summer, n.defender_1 = row.defender_1, n.defender_commander = row.defender_commander\n",
      "  url: $BASE/../../data/csv/got-battles.csv\n",
      "- chunk_size: 100\n",
      "  cql: |\n",
      "    WITH $dict.rows AS rows\n",
      "    UNWIND rows AS row\n",
      "    MERGE (n:King {name: row.name})\n",
      "  url: $BASE/../../data/csv/got-battles.csv\n",
      "- chunk_size: 100\n",
      "  cql: |\n",
      "    WITH $dict.rows AS rows\n",
      "    UNWIND rows AS row\n",
      "    MERGE (n:Commander {name: row.name})\n",
      "  url: $BASE/../../data/csv/got-battles.csv\n",
      "- chunk_size: 100\n",
      "  cql: |\n",
      "    WITH $dict.rows AS rows\n",
      "    UNWIND rows AS row\n",
      "    MERGE (n:Location {name: row.name})\n",
      "  url: $BASE/../../data/csv/got-battles.csv\n",
      "- chunk_size: 100\n",
      "  cql: |\n",
      "    WITH $dict.rows AS rows\n",
      "    UNWIND rows AS row\n",
      "    MERGE (n:Region {name: row.name})\n",
      "  url: $BASE/../../data/csv/got-battles.csv\n",
      "- chunk_size: 100\n",
      "  cql: |\n",
      "    WITH $dict.rows AS rows\n",
      "    UNWIND rows AS row\n",
      "    MERGE (n:BattleOutcome {name: row.name})\n",
      "  url: $BASE/../../data/csv/got-battles.csv\n",
      "- chunk_size: 100\n",
      "  cql: |\n",
      "    WITH $dict.rows AS rows\n",
      "    UNWIND rows AS row\n",
      "    MERGE (n:BattleType {name: row.name})\n",
      "  url: $BASE/../../data/csv/got-battles.csv\n",
      "- chunk_size: 100\n",
      "  cql: |\n",
      "    WITH $dict.rows AS rows\n",
      "    UNWIND rows AS row\n",
      "    MERGE (n:MajorEvent {name: row.name})\n",
      "  url: $BASE/../../data/csv/got-battles.csv\n",
      "- chunk_size: 100\n",
      "  cql: |-\n",
      "    WITH $dict.rows AS rows\n",
      "    UNWIND rows as row\n",
      "    MATCH (source:Battle{name: row.name})\n",
      "    MATCH (target:King{name: row.name})\n",
      "    MERGE (source)-[:DEFENDED]->(target)\n",
      "  url: $BASE/../../data/csv/got-battles.csv\n",
      "- chunk_size: 100\n",
      "  cql: |-\n",
      "    WITH $dict.rows AS rows\n",
      "    UNWIND rows as row\n",
      "    MATCH (source:Battle{name: row.name})\n",
      "    MATCH (target:Commander{name: row.name})\n",
      "    MERGE (source)-[:DEFENDED_WITH]->(target)\n",
      "  url: $BASE/../../data/csv/got-battles.csv\n",
      "- chunk_size: 100\n",
      "  cql: |-\n",
      "    WITH $dict.rows AS rows\n",
      "    UNWIND rows as row\n",
      "    MATCH (source:Battle{name: row.name})\n",
      "    MATCH (target:Location{name: row.name})\n",
      "    MERGE (source)-[:TOOK_PLACE_IN]->(target)\n",
      "  url: $BASE/../../data/csv/got-battles.csv\n",
      "- chunk_size: 100\n",
      "  cql: |-\n",
      "    WITH $dict.rows AS rows\n",
      "    UNWIND rows as row\n",
      "    MATCH (source:Location{name: row.name})\n",
      "    MATCH (target:Region{name: row.name})\n",
      "    MERGE (source)-[:LOCATED_IN]->(target)\n",
      "  url: $BASE/../../data/csv/got-battles.csv\n",
      "- chunk_size: 100\n",
      "  cql: |-\n",
      "    WITH $dict.rows AS rows\n",
      "    UNWIND rows as row\n",
      "    MATCH (source:Battle{name: row.name})\n",
      "    MATCH (target:BattleOutcome{name: row.name})\n",
      "    MERGE (source)-[:HAD_OUTCOME]->(target)\n",
      "  url: $BASE/../../data/csv/got-battles.csv\n",
      "- chunk_size: 100\n",
      "  cql: |-\n",
      "    WITH $dict.rows AS rows\n",
      "    UNWIND rows as row\n",
      "    MATCH (source:Battle{name: row.name})\n",
      "    MATCH (target:BattleType{name: row.name})\n",
      "    MERGE (source)-[:OF_TYPE]->(target)\n",
      "  url: $BASE/../../data/csv/got-battles.csv\n",
      "- chunk_size: 100\n",
      "  cql: |-\n",
      "    WITH $dict.rows AS rows\n",
      "    UNWIND rows as row\n",
      "    MATCH (source:Battle{name: row.name})\n",
      "    MATCH (target:MajorEvent{name: row.name})\n",
      "    MERGE (source)-[:EXPERIENCED_EVENT]->(target)\n",
      "  url: $BASE/../../data/csv/got-battles.csv\n",
      "\n"
     ]
    }
   ],
   "source": [
    "print(yaml_string)"
   ]
  },
  {
   "cell_type": "code",
   "execution_count": 10,
   "metadata": {},
   "outputs": [
    {
     "name": "stdout",
     "output_type": "stream",
     "text": [
      "{} : Reading file 2024-03-02 15:36:46.503699\n",
      "File {} file:.//../../data/csv/got-battles.csv\n",
      "file:.//../../data/csv/got-battles.csv 0 2024-03-02 15:36:46.505308\n"
     ]
    },
    {
     "name": "stdout",
     "output_type": "stream",
     "text": [
      "{} : Completed file 2024-03-02 15:36:46.594753\n",
      "{} : Reading file 2024-03-02 15:36:46.595354\n",
      "File {} file:.//../../data/csv/got-battles.csv\n",
      "file:.//../../data/csv/got-battles.csv 0 2024-03-02 15:36:46.596843\n",
      "{} : Completed file 2024-03-02 15:36:46.602816\n",
      "{} : Reading file 2024-03-02 15:36:46.603117\n",
      "File {} file:.//../../data/csv/got-battles.csv\n",
      "file:.//../../data/csv/got-battles.csv 0 2024-03-02 15:36:46.604184\n",
      "{} : Completed file 2024-03-02 15:36:46.609417\n",
      "{} : Reading file 2024-03-02 15:36:46.609671\n",
      "File {} file:.//../../data/csv/got-battles.csv\n",
      "file:.//../../data/csv/got-battles.csv 0 2024-03-02 15:36:46.610770\n",
      "{} : Completed file 2024-03-02 15:36:46.616242\n",
      "{} : Reading file 2024-03-02 15:36:46.616495\n",
      "File {} file:.//../../data/csv/got-battles.csv\n",
      "file:.//../../data/csv/got-battles.csv 0 2024-03-02 15:36:46.617556\n",
      "{} : Completed file 2024-03-02 15:36:46.623007\n",
      "{} : Reading file 2024-03-02 15:36:46.623266\n",
      "File {} file:.//../../data/csv/got-battles.csv\n",
      "file:.//../../data/csv/got-battles.csv 0 2024-03-02 15:36:46.624422\n",
      "{} : Completed file 2024-03-02 15:36:46.629747\n",
      "{} : Reading file 2024-03-02 15:36:46.630104\n",
      "File {} file:.//../../data/csv/got-battles.csv\n",
      "file:.//../../data/csv/got-battles.csv 0 2024-03-02 15:36:46.631216\n",
      "{} : Completed file 2024-03-02 15:36:46.636400\n",
      "{} : Reading file 2024-03-02 15:36:46.636668\n",
      "File {} file:.//../../data/csv/got-battles.csv\n",
      "file:.//../../data/csv/got-battles.csv 0 2024-03-02 15:36:46.637638\n",
      "{} : Completed file 2024-03-02 15:36:46.642955\n",
      "{} : Reading file 2024-03-02 15:36:46.643180\n",
      "File {} file:.//../../data/csv/got-battles.csv\n",
      "file:.//../../data/csv/got-battles.csv 0 2024-03-02 15:36:46.644138\n",
      "{} : Completed file 2024-03-02 15:36:46.655221\n",
      "{} : Reading file 2024-03-02 15:36:46.655557\n",
      "File {} file:.//../../data/csv/got-battles.csv\n",
      "file:.//../../data/csv/got-battles.csv 0 2024-03-02 15:36:46.658512\n",
      "{} : Completed file 2024-03-02 15:36:46.663995\n",
      "{} : Reading file 2024-03-02 15:36:46.664273\n",
      "File {} file:.//../../data/csv/got-battles.csv\n",
      "file:.//../../data/csv/got-battles.csv 0 2024-03-02 15:36:46.665298\n",
      "{} : Completed file 2024-03-02 15:36:46.670553\n",
      "{} : Reading file 2024-03-02 15:36:46.670768\n",
      "File {} file:.//../../data/csv/got-battles.csv\n",
      "file:.//../../data/csv/got-battles.csv 0 2024-03-02 15:36:46.671851\n",
      "{} : Completed file 2024-03-02 15:36:46.677906\n",
      "{} : Reading file 2024-03-02 15:36:46.678146\n",
      "File {} file:.//../../data/csv/got-battles.csv\n",
      "file:.//../../data/csv/got-battles.csv 0 2024-03-02 15:36:46.679198\n",
      "{} : Completed file 2024-03-02 15:36:46.684945\n",
      "{} : Reading file 2024-03-02 15:36:46.685160\n",
      "File {} file:.//../../data/csv/got-battles.csv\n",
      "file:.//../../data/csv/got-battles.csv 0 2024-03-02 15:36:46.686085\n",
      "{} : Completed file 2024-03-02 15:36:46.691734\n",
      "{} : Reading file 2024-03-02 15:36:46.691962\n",
      "File {} file:.//../../data/csv/got-battles.csv\n",
      "file:.//../../data/csv/got-battles.csv 0 2024-03-02 15:36:46.692941\n",
      "{} : Completed file 2024-03-02 15:36:46.698282\n"
     ]
    }
   ],
   "source": [
    "outputs = []\n",
    "for prog in PyIngestForStreamlit(yaml_string=yaml_string):\n",
    "    outputs.append(prog)"
   ]
  },
  {
   "cell_type": "code",
   "execution_count": 11,
   "metadata": {},
   "outputs": [
    {
     "data": {
      "text/plain": [
       "[0.06666666666666667,\n",
       " 0.13333333333333333,\n",
       " 0.2,\n",
       " 0.26666666666666666,\n",
       " 0.3333333333333333,\n",
       " 0.4,\n",
       " 0.4666666666666667,\n",
       " 0.5333333333333333,\n",
       " 0.6,\n",
       " 0.6666666666666666,\n",
       " 0.7333333333333333,\n",
       " 0.8,\n",
       " 0.8666666666666667,\n",
       " 0.9333333333333333,\n",
       " 1.0]"
      ]
     },
     "execution_count": 11,
     "metadata": {},
     "output_type": "execute_result"
    }
   ],
   "source": [
    "outputs"
   ]
  },
  {
   "cell_type": "code",
   "execution_count": null,
   "metadata": {},
   "outputs": [],
   "source": []
  }
 ],
 "metadata": {
  "kernelspec": {
   "display_name": "venv",
   "language": "python",
   "name": "python3"
  },
  "language_info": {
   "codemirror_mode": {
    "name": "ipython",
    "version": 3
   },
   "file_extension": ".py",
   "mimetype": "text/x-python",
   "name": "python",
   "nbconvert_exporter": "python",
   "pygments_lexer": "ipython3",
   "version": "3.11.3"
  }
 },
 "nbformat": 4,
 "nbformat_minor": 2
}

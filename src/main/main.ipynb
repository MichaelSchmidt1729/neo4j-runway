{
 "cells": [
  {
   "cell_type": "markdown",
   "metadata": {},
   "source": [
    "# Demo CSV --> Graph Notebook"
   ]
  },
  {
   "cell_type": "markdown",
   "metadata": {},
   "source": [
    "This notebooks demonstrates the data flow of generating a graph from a CSV file. "
   ]
  },
  {
   "cell_type": "code",
   "execution_count": 1,
   "metadata": {},
   "outputs": [],
   "source": [
    "import os\n",
    "\n",
    "import json\n",
    "import pandas as pd\n",
    "import regex as re\n",
    "\n",
    "from summarizer.summarizer import Summarizer\n",
    "from llm.llm import LLM"
   ]
  },
  {
   "cell_type": "markdown",
   "metadata": {},
   "source": [
    "## Initialize Test Data"
   ]
  },
  {
   "cell_type": "code",
   "execution_count": 2,
   "metadata": {},
   "outputs": [],
   "source": [
    "USER_GENERATED_INPUT = {\n",
    "    'General Description': 'The data in my .csv file contains information about financial loans made to businesses.',\n",
    "    'BorrowerName': 'BorrowerName contains the name of the Business that applied for the loan.',\n",
    "    'BusinessType': 'BusinessType contains the type of business (i.e., Corp, Partnership, LLC, etc.)',\n",
    "    'LoanNumber': 'LoanNumber contains the unique identifier for the loan.',\n",
    "    'CurrentApprovalAmount': 'CurrentApprovalAmount contains the financial amount of the loan.',\n",
    "    'JobsReported': 'JobsReported contains the number of jobs the loan supports.',\n",
    "    'ProjectState': 'ProjectState contains the state where the funds will be used.',\n",
    "    'OriginatingLender': 'OriginatingLender contains the lender that originated the loan.',\n",
    "    'UTILITIES_PROCEED': 'UTILITIES_PROCEED contains the amount of the loan the borrower said they will use to pay utilities.',\n",
    "    'PAYROLL_PROCEED': 'PAYROLL_PROCEED contains the amount of the loan the borrower said they will use for payroll.',\n",
    "    'MORTGAGE_INTEREST_PROCEED': 'MORTGAGE_INTEREST_PROCEED contains the amount of the loan the borrower said they will use to pay mortgage interest.',\n",
    "    'RENT_PROCEED': 'RENT_PROCEED contains the amount of the loan the borrower said they will use to pay rent.',\n",
    "    'REFINANCE_EIDL_PROCEED': 'REFINANCE_EIDL_PROCEED contains the amount of the loan the borrower said they will use to refinance an existing loan.',\n",
    "    'HEALTH_CARE_PROCEED': 'HEALTH_CARE_PROCEED contains the amount of the loan the borrower said they will use to pay employee health care.',\n",
    "    'DEBT_INTEREST_PROCEED': 'DEBT_INTEREST_PROCEED contains the amount of the loan the borrower said they will use to pay debt interest.'\n",
    "}"
   ]
  },
  {
   "cell_type": "code",
   "execution_count": 3,
   "metadata": {},
   "outputs": [],
   "source": [
    "data = pd.read_csv(\"data/csv/ppp_loan_data.csv\")"
   ]
  },
  {
   "cell_type": "markdown",
   "metadata": {},
   "source": [
    "## Initialize LLM"
   ]
  },
  {
   "cell_type": "code",
   "execution_count": 4,
   "metadata": {},
   "outputs": [],
   "source": [
    "llm = LLM()"
   ]
  },
  {
   "cell_type": "code",
   "execution_count": 5,
   "metadata": {},
   "outputs": [],
   "source": [
    "summarizer = Summarizer(llm=llm, user_input=USER_GENERATED_INPUT, data=data)"
   ]
  },
  {
   "cell_type": "code",
   "execution_count": 6,
   "metadata": {},
   "outputs": [
    {
     "name": "stdout",
     "output_type": "stream",
     "text": [
      "Based on the initial analysis of the data, we can see that we have a large dataset, containing 968,525 entries and 14 features. The memory usage is 103.4+ MB.\n",
      "\n",
      "Below are some important details about the dataset:\n",
      "\n",
      "1. Missing Values: Some columns have missing values, such as `BorrowerName`, `BusinessType`, `JobsReported`, `ProjectState` and all columns related to the purposes of the loan, e.g., `UTILITIES_PROCEED`, `PAYROLL_PROCEED`, etc. This missing data will need to be addressed during data preprocessing.\n",
      "\n",
      "2. Distributions: The distributions of the `CurrentApprovalAmount` and `LoanNumber` seem to be right-skewed, meaning most of the loan amounts and numbers are on the lower end of the scale, but there are some loans with very high amounts and numbers. The `JobsReported` is also right-skewed, suggesting that most loans support a lesser number of jobs, but a few loans support a large number of jobs.\n",
      "\n",
      "3. Unique Values: `BorrowerName` has 857334 unique values, indicating a high cardinality for this feature. This might pose challenges during encoding if we plan to use this feature in our model. The same applies to `OriginatingLender` with 4236 unique values.\n",
      "\n",
      "4. Categorical Variables: Variables like `BusinessType`, `ProjectState`, `OriginatingLender` are categorical in nature and would need to be handled appropriately during modeling. For example, `BusinessType` has 25 unique categories.\n",
      "\n",
      "The most important features in the dataset would likely be `CurrentApprovalAmount`, `JobsReported`, and `LoanNumber`, given they provide key insights into the loan amount, the number of jobs supported, and unique identification of loans, respectively. \n",
      "\n",
      "Other important features could be `BusinessType`, `ProjectState`, and `OriginatingLender` as they provide context about the nature of the business, where it operates, and who provided the loan.\n",
      "\n",
      "The columns representing the purpose of the loan (`UTILITIES_PROCEED`, `PAYROLL_PROCEED`, etc.) can provide useful insights into how the businesses plan to use their loans, though they have a substantial amount of missing data. These might be important depending on the specific questions we hope to answer with our analysis. \n",
      "\n",
      "This is just a preliminary analysis. Once we dive deeper into the data, we may find other important features or details.\n"
     ]
    }
   ],
   "source": [
    "discovery = summarizer.run_discovery()\n",
    "print(discovery)"
   ]
  },
  {
   "cell_type": "code",
   "execution_count": 7,
   "metadata": {},
   "outputs": [
    {
     "name": "stdout",
     "output_type": "stream",
     "text": [
      "Sure, here's a preliminary suggestion for translating your data into a Neo4j graph data model. \n",
      "\n",
      "```\n",
      "{\n",
      "    \"Nodes\": [\n",
      "        {\n",
      "            \"Label\": \"Loan\",\n",
      "            \"Properties\": [\"LoanNumber\", \"CurrentApprovalAmount\", \"UTILITIES_PROCEED\", \"PAYROLL_PROCEED\"],\n",
      "            \"Reasoning\": \"Each loan can be uniquely identified by its LoanNumber, and it encapsulates key details about the loan like the amount and purpose. These attributes are important for identifying patterns related to potential fraud.\"\n",
      "        },\n",
      "        {\n",
      "            \"Label\": \"Borrower\",\n",
      "            \"Properties\": [\"BorrowerName\", \"BusinessType\"],\n",
      "            \"Reasoning\": \"Each borrower is a distinct entity that can be uniquely identified by its name. The business type can provide context about the borrower and might be relevant for fraud detection.\"\n",
      "        },\n",
      "        {\n",
      "            \"Label\": \"Lender\",\n",
      "            \"Properties\": [\"OriginatingLender\"],\n",
      "            \"Reasoning\": \"The lender is a distinct entity and can provide valuable information about the loan's origin. Patterns from specific lenders might be indicative of fraud.\"\n",
      "        },\n",
      "        {\n",
      "            \"Label\": \"State\",\n",
      "            \"Properties\": [\"ProjectState\"],\n",
      "            \"Reasoning\": \"The state where the project is located can provide geographical context that could be relevant for identifying regional patterns in fraudulent behavior.\"\n",
      "        }\n",
      "    ],\n",
      "    \"Relationships\": [\n",
      "        {\n",
      "            \"Label\": \"OFFERS\",\n",
      "            \"Properties\": [],\n",
      "            \"From\": \"Lender\",\n",
      "            \"To\": \"Loan\",\n",
      "            \"Reasoning\": \"This relationship represents that a lender offers a loan. It might be useful for identifying patterns where specific lenders often offer loans that turn out to be fraudulent.\"\n",
      "        },\n",
      "        {\n",
      "            \"Label\": \"TAKES\",\n",
      "            \"Properties\": [\"JobsReported\"],\n",
      "            \"From\": \"Borrower\",\n",
      "            \"To\": \"Loan\",\n",
      "            \"Reasoning\": \"This relationship represents that a borrower takes a loan, with the jobs reported as a property of the relationship. This could be useful for identifying patterns where fraudulent behavior is correlated with the number of jobs reported for a loan.\"\n",
      "        },\n",
      "        {\n",
      "            \"Label\": \"LOCATED_IN\",\n",
      "            \"Properties\": [],\n",
      "            \"From\": \"Loan\",\n",
      "            \"To\": \"State\",\n",
      "            \"Reasoning\": \"This relationship shows that a loan is located in a state. It might be useful for identifying regional patterns in fraudulent behavior.\"\n",
      "        }\n",
      "    ]\n",
      "}\n",
      "```\n",
      "\n",
      "This model focuses on the entities (Loans, Borrowers, Lenders, and States) and their relationships (OFFERS, TAKES, LOCATED_IN) that could potentially provide valuable insights for fraud detection. Each entity and relationship includes the most relevant features from your dataset. Of course, this is just a suggestion and the final model might need adjustments based on further insights from the data.\n"
     ]
    }
   ],
   "source": [
    "initial_model = summarizer.create_initial_model()\n",
    "print(initial_model)"
   ]
  },
  {
   "cell_type": "code",
   "execution_count": 8,
   "metadata": {},
   "outputs": [
    {
     "data": {
      "text/plain": [
       "'Certainly, based on your feedback, we might extract more granularity from the data by considering the \\'UTILITIES_PROCEED\\' and \\'PAYROLL_PROCEED\\' as separate nodes instead of properties of the \\'Loan\\' node. This could help in identifying patterns where specific types of loans are more prone to fraudulent behavior.\\n\\nHere\\'s the updated suggestion for the data model.\\n\\n```\\n{\\n    \"Nodes\": [\\n        {\\n            \"Label\": \"Loan\",\\n            \"Properties\": [\"LoanNumber\", \"CurrentApprovalAmount\"],\\n            \"Reasoning\": \"Each loan can be uniquely identified by its LoanNumber, and the CurrentApprovalAmount provides key information about the loan. These attributes form the core identity of a loan.\"\\n        },\\n        {\\n            \"Label\": \"Borrower\",\\n            \"Properties\": [\"BorrowerName\", \"BusinessType\"],\\n            \"Reasoning\": \"Each borrower is a distinct entity that can be uniquely identified by its name. The business type can provide context about the borrower and might be relevant for fraud detection.\"\\n        },\\n        {\\n            \"Label\": \"Lender\",\\n            \"Properties\": [\"OriginatingLender\"],\\n            \"Reasoning\": \"The lender is a distinct entity and can provide valuable information about the loan\\'s origin. Patterns from specific lenders might be indicative of fraud.\"\\n        },\\n        {\\n            \"Label\": \"State\",\\n            \"Properties\": [\"ProjectState\"],\\n            \"Reasoning\": \"The state where the project is located can provide geographical context that could be relevant for identifying regional patterns in fraudulent behavior.\"\\n        },\\n        {\\n            \"Label\": \"Proceed\",\\n            \"Properties\": [\"ProceedType\"],\\n            \"Reasoning\": \"Creating a separate node for the type of proceeds allows us to analyze if certain types of proceeds are more susceptible to fraud. It also decreases the complexity of the \\'Loan\\' node.\"\\n        }\\n    ],\\n    \"Relationships\": [\\n        {\\n            \"Label\": \"OFFERS\",\\n            \"Properties\": [],\\n            \"From\": \"Lender\",\\n            \"To\": \"Loan\",\\n            \"Reasoning\": \"This relationship represents that a lender offers a loan. It might be useful for identifying patterns where specific lenders often offer loans that turn out to be fraudulent.\"\\n        },\\n        {\\n            \"Label\": \"TAKES\",\\n            \"Properties\": [\"JobsReported\"],\\n            \"From\": \"Borrower\",\\n            \"To\": \"Loan\",\\n            \"Reasoning\": \"This relationship represents that a borrower takes a loan, with the jobs reported as a property of the relationship. This could be useful for identifying patterns where fraudulent behavior is correlated with the number of jobs reported for a loan.\"\\n        },\\n        {\\n            \"Label\": \"LOCATED_IN\",\\n            \"Properties\": [],\\n            \"From\": \"Loan\",\\n            \"To\": \"State\",\\n            \"Reasoning\": \"This relationship shows that a loan is located in a state. It might be useful for identifying regional patterns in fraudulent behavior.\"\\n        },\\n        {\\n            \"Label\": \"HAS_PROCEED\",\\n            \"Properties\": [],\\n            \"From\": \"Loan\",\\n            \"To\": \"Proceed\",\\n            \"Reasoning\": \"This relationship links the loan to the type of proceeds, which can help in identifying if certain types of proceeds are more prone to fraudulent behavior.\"\\n        }\\n    ]\\n}\\n```\\n\\nI hope this updated model will provide more detailed insights for your fraud detection efforts. Please note that this is still an initial suggestion and might require further adjustments based on the specific characteristics of your dataset.'"
      ]
     },
     "execution_count": 8,
     "metadata": {},
     "output_type": "execute_result"
    }
   ],
   "source": [
    "summarizer.iterate_model(iterations=1)"
   ]
  },
  {
   "cell_type": "code",
   "execution_count": 12,
   "metadata": {},
   "outputs": [
    {
     "data": {
      "text/plain": [
       "'Certainly, based on your feedback, we might extract more granularity from the data by considering the \\'UTILITIES_PROCEED\\' and \\'PAYROLL_PROCEED\\' as separate nodes instead of properties of the \\'Loan\\' node. This could help in identifying patterns where specific types of loans are more prone to fraudulent behavior.\\n\\nHere\\'s the updated suggestion for the data model.\\n\\n```\\n{\\n    \"Nodes\": [\\n        {\\n            \"Label\": \"Loan\",\\n            \"Properties\": [\"LoanNumber\", \"CurrentApprovalAmount\"],\\n            \"Reasoning\": \"Each loan can be uniquely identified by its LoanNumber, and the CurrentApprovalAmount provides key information about the loan. These attributes form the core identity of a loan.\"\\n        },\\n        {\\n            \"Label\": \"Borrower\",\\n            \"Properties\": [\"BorrowerName\", \"BusinessType\"],\\n            \"Reasoning\": \"Each borrower is a distinct entity that can be uniquely identified by its name. The business type can provide context about the borrower and might be relevant for fraud detection.\"\\n        },\\n        {\\n            \"Label\": \"Lender\",\\n            \"Properties\": [\"OriginatingLender\"],\\n            \"Reasoning\": \"The lender is a distinct entity and can provide valuable information about the loan\\'s origin. Patterns from specific lenders might be indicative of fraud.\"\\n        },\\n        {\\n            \"Label\": \"State\",\\n            \"Properties\": [\"ProjectState\"],\\n            \"Reasoning\": \"The state where the project is located can provide geographical context that could be relevant for identifying regional patterns in fraudulent behavior.\"\\n        },\\n        {\\n            \"Label\": \"Proceed\",\\n            \"Properties\": [\"ProceedType\"],\\n            \"Reasoning\": \"Creating a separate node for the type of proceeds allows us to analyze if certain types of proceeds are more susceptible to fraud. It also decreases the complexity of the \\'Loan\\' node.\"\\n        }\\n    ],\\n    \"Relationships\": [\\n        {\\n            \"Label\": \"OFFERS\",\\n            \"Properties\": [],\\n            \"From\": \"Lender\",\\n            \"To\": \"Loan\",\\n            \"Reasoning\": \"This relationship represents that a lender offers a loan. It might be useful for identifying patterns where specific lenders often offer loans that turn out to be fraudulent.\"\\n        },\\n        {\\n            \"Label\": \"TAKES\",\\n            \"Properties\": [\"JobsReported\"],\\n            \"From\": \"Borrower\",\\n            \"To\": \"Loan\",\\n            \"Reasoning\": \"This relationship represents that a borrower takes a loan, with the jobs reported as a property of the relationship. This could be useful for identifying patterns where fraudulent behavior is correlated with the number of jobs reported for a loan.\"\\n        },\\n        {\\n            \"Label\": \"LOCATED_IN\",\\n            \"Properties\": [],\\n            \"From\": \"Loan\",\\n            \"To\": \"State\",\\n            \"Reasoning\": \"This relationship shows that a loan is located in a state. It might be useful for identifying regional patterns in fraudulent behavior.\"\\n        },\\n        {\\n            \"Label\": \"HAS_PROCEED\",\\n            \"Properties\": [],\\n            \"From\": \"Loan\",\\n            \"To\": \"Proceed\",\\n            \"Reasoning\": \"This relationship links the loan to the type of proceeds, which can help in identifying if certain types of proceeds are more prone to fraudulent behavior.\"\\n        }\\n    ]\\n}\\n```\\n\\nI hope this updated model will provide more detailed insights for your fraud detection efforts. Please note that this is still an initial suggestion and might require further adjustments based on the specific characteristics of your dataset.'"
      ]
     },
     "execution_count": 12,
     "metadata": {},
     "output_type": "execute_result"
    }
   ],
   "source": [
    "summarizer.model_history[-1]"
   ]
  },
  {
   "cell_type": "code",
   "execution_count": 13,
   "metadata": {},
   "outputs": [
    {
     "data": {
      "text/plain": [
       "{'Nodes': [{'Label': 'Loan',\n",
       "   'Properties': ['LoanNumber', 'CurrentApprovalAmount'],\n",
       "   'Reasoning': 'Each loan can be uniquely identified by its LoanNumber, and the CurrentApprovalAmount provides key information about the loan. These attributes form the core identity of a loan.'},\n",
       "  {'Label': 'Borrower',\n",
       "   'Properties': ['BorrowerName', 'BusinessType'],\n",
       "   'Reasoning': 'Each borrower is a distinct entity that can be uniquely identified by its name. The business type can provide context about the borrower and might be relevant for fraud detection.'},\n",
       "  {'Label': 'Lender',\n",
       "   'Properties': ['OriginatingLender'],\n",
       "   'Reasoning': \"The lender is a distinct entity and can provide valuable information about the loan's origin. Patterns from specific lenders might be indicative of fraud.\"},\n",
       "  {'Label': 'State',\n",
       "   'Properties': ['ProjectState'],\n",
       "   'Reasoning': 'The state where the project is located can provide geographical context that could be relevant for identifying regional patterns in fraudulent behavior.'},\n",
       "  {'Label': 'Proceed',\n",
       "   'Properties': ['ProceedType'],\n",
       "   'Reasoning': \"Creating a separate node for the type of proceeds allows us to analyze if certain types of proceeds are more susceptible to fraud. It also decreases the complexity of the 'Loan' node.\"}],\n",
       " 'Relationships': [{'Label': 'OFFERS',\n",
       "   'Properties': [],\n",
       "   'From': 'Lender',\n",
       "   'To': 'Loan',\n",
       "   'Reasoning': 'This relationship represents that a lender offers a loan. It might be useful for identifying patterns where specific lenders often offer loans that turn out to be fraudulent.'},\n",
       "  {'Label': 'TAKES',\n",
       "   'Properties': ['JobsReported'],\n",
       "   'From': 'Borrower',\n",
       "   'To': 'Loan',\n",
       "   'Reasoning': 'This relationship represents that a borrower takes a loan, with the jobs reported as a property of the relationship. This could be useful for identifying patterns where fraudulent behavior is correlated with the number of jobs reported for a loan.'},\n",
       "  {'Label': 'LOCATED_IN',\n",
       "   'Properties': [],\n",
       "   'From': 'Loan',\n",
       "   'To': 'State',\n",
       "   'Reasoning': 'This relationship shows that a loan is located in a state. It might be useful for identifying regional patterns in fraudulent behavior.'},\n",
       "  {'Label': 'HAS_PROCEED',\n",
       "   'Properties': [],\n",
       "   'From': 'Loan',\n",
       "   'To': 'Proceed',\n",
       "   'Reasoning': 'This relationship links the loan to the type of proceeds, which can help in identifying if certain types of proceeds are more prone to fraudulent behavior.'}]}"
      ]
     },
     "execution_count": 13,
     "metadata": {},
     "output_type": "execute_result"
    }
   ],
   "source": [
    "summarizer.parse_model_from_response(summarizer.model_history[-1])"
   ]
  },
  {
   "cell_type": "code",
   "execution_count": 11,
   "metadata": {},
   "outputs": [],
   "source": [
    "# json.loads(re.findall(r\"(?:```\\njson|```)\\n(\\{[\\n\\s\\w\\\"\\:\\[\\]\\{\\\\},\\'\\.\\-]*)```\", test)[0])"
   ]
  },
  {
   "cell_type": "code",
   "execution_count": null,
   "metadata": {},
   "outputs": [],
   "source": []
  }
 ],
 "metadata": {
  "kernelspec": {
   "display_name": "venv",
   "language": "python",
   "name": "python3"
  },
  "language_info": {
   "codemirror_mode": {
    "name": "ipython",
    "version": 3
   },
   "file_extension": ".py",
   "mimetype": "text/x-python",
   "name": "python",
   "nbconvert_exporter": "python",
   "pygments_lexer": "ipython3",
   "version": "3.11.3"
  }
 },
 "nbformat": 4,
 "nbformat_minor": 2
}

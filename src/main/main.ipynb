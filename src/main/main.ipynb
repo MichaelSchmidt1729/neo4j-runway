{
 "cells": [
  {
   "cell_type": "markdown",
   "metadata": {},
   "source": [
    "# Demo CSV --> Graph Notebook"
   ]
  },
  {
   "cell_type": "markdown",
   "metadata": {},
   "source": [
    "This notebooks demonstrates the data flow of generating a graph from a CSV file. "
   ]
  },
  {
   "cell_type": "code",
   "execution_count": 1,
   "metadata": {},
   "outputs": [],
   "source": [
    "import os\n",
    "\n",
    "import json\n",
    "import pandas as pd\n",
    "import regex as re\n",
    "\n",
    "from summarizer.summarizer import Summarizer\n",
    "from llm.llm import LLM"
   ]
  },
  {
   "cell_type": "markdown",
   "metadata": {},
   "source": [
    "## Initialize Test Data"
   ]
  },
  {
   "cell_type": "code",
   "execution_count": 2,
   "metadata": {},
   "outputs": [],
   "source": [
    "USER_GENERATED_INPUT = {\n",
    "    'General Description': 'The data in my .csv file contains information about financial loans made to businesses.',\n",
    "    'BorrowerName': 'BorrowerName contains the name of the Business that applied for the loan.',\n",
    "    'BusinessType': 'BusinessType contains the type of business (i.e., Corp, Partnership, LLC, etc.)',\n",
    "    'LoanNumber': 'LoanNumber contains the unique identifier for the loan.',\n",
    "    'CurrentApprovalAmount': 'CurrentApprovalAmount contains the financial amount of the loan.',\n",
    "    'JobsReported': 'JobsReported contains the number of jobs the loan supports.',\n",
    "    'ProjectState': 'ProjectState contains the state where the funds will be used.',\n",
    "    'OriginatingLender': 'OriginatingLender contains the lender that originated the loan.',\n",
    "    'UTILITIES_PROCEED': 'UTILITIES_PROCEED contains the amount of the loan the borrower said they will use to pay utilities.',\n",
    "    'PAYROLL_PROCEED': 'PAYROLL_PROCEED contains the amount of the loan the borrower said they will use for payroll.',\n",
    "    'MORTGAGE_INTEREST_PROCEED': 'MORTGAGE_INTEREST_PROCEED contains the amount of the loan the borrower said they will use to pay mortgage interest.',\n",
    "    'RENT_PROCEED': 'RENT_PROCEED contains the amount of the loan the borrower said they will use to pay rent.',\n",
    "    'REFINANCE_EIDL_PROCEED': 'REFINANCE_EIDL_PROCEED contains the amount of the loan the borrower said they will use to refinance an existing loan.',\n",
    "    'HEALTH_CARE_PROCEED': 'HEALTH_CARE_PROCEED contains the amount of the loan the borrower said they will use to pay employee health care.',\n",
    "    'DEBT_INTEREST_PROCEED': 'DEBT_INTEREST_PROCEED contains the amount of the loan the borrower said they will use to pay debt interest.'\n",
    "}"
   ]
  },
  {
   "cell_type": "code",
   "execution_count": 3,
   "metadata": {},
   "outputs": [],
   "source": [
    "data = pd.read_csv(\"data/csv/ppp_loan_data.csv\")"
   ]
  },
  {
   "cell_type": "markdown",
   "metadata": {},
   "source": [
    "## Initialize LLM"
   ]
  },
  {
   "cell_type": "code",
   "execution_count": 4,
   "metadata": {},
   "outputs": [],
   "source": [
    "llm = LLM()"
   ]
  },
  {
   "cell_type": "code",
   "execution_count": 5,
   "metadata": {},
   "outputs": [],
   "source": [
    "summarizer = Summarizer(llm=llm, user_input=USER_GENERATED_INPUT, data=data)"
   ]
  },
  {
   "cell_type": "code",
   "execution_count": 6,
   "metadata": {},
   "outputs": [
    {
     "name": "stdout",
     "output_type": "stream",
     "text": [
      "Based on the provided information, here are some preliminary observations about your data:\n",
      "\n",
      "1. **Data Size and Completeness**: The dataset is quite large with 968,525 entries and 14 features. However, there are missing values in several columns that need to be addressed. The columns with the most missing values are `UTILITIES_PROCEED`, `MORTGAGE_INTEREST_PROCEED`, `RENT_PROCEED`, `REFINANCE_EIDL_PROCEED`, `HEALTH_CARE_PROCEED`, and `DEBT_INTEREST_PROCEED`. These missing values could potentially skew any analysis and should be handled appropriately.\n",
      "\n",
      "2. **Data Types**: The dataset contains a mix of numerical (float64 and int64) and categorical (object) data types. The numerical data are mostly amounts related to the loan and its intended use, while the categorical data include the borrower's name, business type, project state, and originating lender.\n",
      "\n",
      "3. **Key Features**: The most important features in this dataset are likely to be `LoanNumber`, `CurrentApprovalAmount`, `JobsReported`, and the various `PROCEED` columns. These provide the most direct information about the loans themselves and their impact. \n",
      "\n",
      "    - `LoanNumber` is a unique identifier for each loan, which could be useful for indexing and referencing.\n",
      "    \n",
      "    - `CurrentApprovalAmount` and `JobsReported` are important as they give us the size of the loan and its potential impact on employment, respectively.\n",
      "    \n",
      "    - The `PROCEED` columns tell us how the loan funds are intended to be used, which could be important for understanding the needs and priorities of the businesses.\n",
      "\n",
      "4. **Categorical Features**: The categorical features `BorrowerName`, `BusinessType`, `ProjectState`, and `OriginatingLender` could provide valuable insights into the types of businesses that are receiving loans, where these businesses are located, and which lenders are most active in providing these loans.\n",
      "\n",
      "5. **Data Distribution**: The distributions of the numerical features show a wide range of values, with some features like `CurrentApprovalAmount` and `JobsReported` having a high standard deviation, indicating a high variability in loan amounts and jobs reported. The `PROCEED` columns also show a wide range of values, indicating that the intended use of the loans varies greatly among borrowers.\n",
      "\n",
      "In summary, this dataset provides a wealth of information about business loans. The most important features are likely to be those directly related to the loans themselves and their intended use. However, the categorical features could also provide valuable insights when analyzed in conjunction with the loan data. The missing values in several columns will need to be addressed before any detailed analysis can be performed.\n"
     ]
    }
   ],
   "source": [
    "discovery = summarizer.run_discovery()\n",
    "print(discovery)"
   ]
  },
  {
   "cell_type": "code",
   "execution_count": 7,
   "metadata": {},
   "outputs": [
    {
     "name": "stdout",
     "output_type": "stream",
     "text": [
      "Validating response...\n",
      "```json\n",
      "{\n",
      "    \"Nodes\": [\n",
      "        {\n",
      "            \"Label\": \"Loan\",\n",
      "            \"Properties\": [\"LoanNumber\", \"CurrentApprovalAmount\", \"JobsReported\", \"UTILITIES_PROCEED\", \"MORTGAGE_INTEREST_PROCEED\", \"RENT_PROCEED\", \"REFINANCE_EIDL_PROCEED\", \"HEALTH_CARE_PROCEED\", \"DEBT_INTEREST_PROCEED\"],\n",
      "            \"Reasoning\": \"The 'Loan' node encapsulates all the key information about each loan. The properties chosen represent the unique identifier of the loan, the amount approved, the number of jobs reported, and the intended use of the loan. These properties are crucial for understanding the characteristics of each loan and can be used to identify patterns that may indicate potential fraud.\"\n",
      "        },\n",
      "        {\n",
      "            \"Label\": \"Borrower\",\n",
      "            \"Properties\": [\"BorrowerName\", \"BusinessType\"],\n",
      "            \"Reasoning\": \"The 'Borrower' node represents the entity that receives the loan. The properties chosen provide information about the borrower's identity and the type of business they operate. This information can be used to identify patterns in the types of businesses that may be more likely to engage in fraudulent activity.\"\n",
      "        },\n",
      "        {\n",
      "            \"Label\": \"Lender\",\n",
      "            \"Properties\": [\"OriginatingLender\"],\n",
      "            \"Reasoning\": \"The 'Lender' node represents the entity that provides the loan. The 'OriginatingLender' property can be used to identify patterns in the lenders that may be more likely to be involved in fraudulent loans.\"\n",
      "        },\n",
      "        {\n",
      "            \"Label\": \"State\",\n",
      "            \"Properties\": [\"ProjectState\"],\n",
      "            \"Reasoning\": \"The 'State' node represents the location where the business project is based. This can be used to identify geographical patterns in potential fraudulent activity.\"\n",
      "        }\n",
      "    ],\n",
      "    \"Relationships\": [\n",
      "        {\n",
      "            \"Label\": \"RECEIVED\",\n",
      "            \"Properties\": [],\n",
      "            \"From\": \"Borrower\",\n",
      "            \"To\": \"Loan\",\n",
      "            \"Reasoning\": \"The 'RECEIVED' relationship represents the action of a borrower receiving a loan. This relationship is crucial for connecting the 'Borrower' and 'Loan' nodes and can be used to identify patterns in the loans received by different borrowers.\"\n",
      "        },\n",
      "        {\n",
      "            \"Label\": \"PROVIDED\",\n",
      "            \"Properties\": [],\n",
      "            \"From\": \"Lender\",\n",
      "            \"To\": \"Loan\",\n",
      "            \"Reasoning\": \"The 'PROVIDED' relationship represents the action of a lender providing a loan. This relationship is crucial for connecting the 'Lender' and 'Loan' nodes and can be used to identify patterns in the loans provided by different lenders.\"\n",
      "        },\n",
      "        {\n",
      "            \"Label\": \"LOCATED_IN\",\n",
      "            \"Properties\": [],\n",
      "            \"From\": \"Loan\",\n",
      "            \"To\": \"State\",\n",
      "            \"Reasoning\": \"The 'LOCATED_IN' relationship represents the geographical location of the business project associated with a loan. This relationship can be used to identify geographical patterns in potential fraudulent activity.\"\n",
      "        }\n",
      "    ]\n",
      "}\n",
      "```\n",
      "This proposed graph data model captures the key entities (loans, borrowers, lenders, and states) and their relationships. It allows for the analysis of patterns in the data that may indicate potential fraud, such as unusual loan amounts, high numbers of jobs reported, or patterns related to specific borrowers, lenders, or locations.\n"
     ]
    }
   ],
   "source": [
    "initial_model = summarizer.create_initial_model()\n",
    "print(initial_model)"
   ]
  },
  {
   "cell_type": "code",
   "execution_count": 8,
   "metadata": {},
   "outputs": [
    {
     "data": {
      "text/plain": [
       "{'Nodes': [{'Label': 'Loan',\n",
       "   'Properties': ['LoanNumber',\n",
       "    'CurrentApprovalAmount',\n",
       "    'JobsReported',\n",
       "    'UTILITIES_PROCEED',\n",
       "    'MORTGAGE_INTEREST_PROCEED',\n",
       "    'RENT_PROCEED',\n",
       "    'REFINANCE_EIDL_PROCEED',\n",
       "    'HEALTH_CARE_PROCEED',\n",
       "    'DEBT_INTEREST_PROCEED'],\n",
       "   'Reasoning': \"The 'Loan' node encapsulates all the key information about each loan. The properties chosen represent the unique identifier of the loan, the amount approved, the number of jobs reported, and the intended use of the loan. These properties are crucial for understanding the characteristics of each loan and can be used to identify patterns that may indicate potential fraud.\"},\n",
       "  {'Label': 'Borrower',\n",
       "   'Properties': ['BorrowerName', 'BusinessType'],\n",
       "   'Reasoning': \"The 'Borrower' node represents the entity that receives the loan. The properties chosen provide information about the borrower's identity and the type of business they operate. This information can be used to identify patterns in the types of businesses that may be more likely to engage in fraudulent activity.\"},\n",
       "  {'Label': 'Lender',\n",
       "   'Properties': ['OriginatingLender'],\n",
       "   'Reasoning': \"The 'Lender' node represents the entity that provides the loan. The 'OriginatingLender' property can be used to identify patterns in the lenders that may be more likely to be involved in fraudulent loans.\"},\n",
       "  {'Label': 'State',\n",
       "   'Properties': ['ProjectState'],\n",
       "   'Reasoning': \"The 'State' node represents the location where the business project is based. This can be used to identify geographical patterns in potential fraudulent activity.\"}],\n",
       " 'Relationships': [{'Label': 'RECEIVED',\n",
       "   'Properties': [],\n",
       "   'From': 'Borrower',\n",
       "   'To': 'Loan',\n",
       "   'Reasoning': \"The 'RECEIVED' relationship represents the action of a borrower receiving a loan. This relationship is crucial for connecting the 'Borrower' and 'Loan' nodes and can be used to identify patterns in the loans received by different borrowers.\"},\n",
       "  {'Label': 'PROVIDED',\n",
       "   'Properties': [],\n",
       "   'From': 'Lender',\n",
       "   'To': 'Loan',\n",
       "   'Reasoning': \"The 'PROVIDED' relationship represents the action of a lender providing a loan. This relationship is crucial for connecting the 'Lender' and 'Loan' nodes and can be used to identify patterns in the loans provided by different lenders.\"},\n",
       "  {'Label': 'LOCATED_IN',\n",
       "   'Properties': [],\n",
       "   'From': 'Loan',\n",
       "   'To': 'State',\n",
       "   'Reasoning': \"The 'LOCATED_IN' relationship represents the geographical location of the business project associated with a loan. This relationship can be used to identify geographical patterns in potential fraudulent activity.\"}]}"
      ]
     },
     "execution_count": 8,
     "metadata": {},
     "output_type": "execute_result"
    }
   ],
   "source": [
    "summarizer.current_model"
   ]
  },
  {
   "cell_type": "code",
   "execution_count": 9,
   "metadata": {},
   "outputs": [
    {
     "name": "stdout",
     "output_type": "stream",
     "text": [
      "Validating response...\n"
     ]
    },
    {
     "data": {
      "text/plain": [
       "'```json\\n{\\n    \"Nodes\": [\\n        {\\n            \"Label\": \"Loan\",\\n            \"Properties\": [\"LoanNumber\", \"CurrentApprovalAmount\", \"JobsReported\", \"UTILITIES_PROCEED\", \"MORTGAGE_INTEREST_PROCEED\", \"RENT_PROCEED\", \"REFINANCE_EIDL_PROCEED\", \"HEALTH_CARE_PROCEED\", \"DEBT_INTEREST_PROCEED\"],\\n            \"Reasoning\": \"The \\'Loan\\' node encapsulates all the key information about each loan. The properties chosen represent the unique identifier of the loan, the amount approved, the number of jobs reported, and the intended use of the loan. These properties are crucial for understanding the characteristics of each loan and can be used to identify patterns that may indicate potential fraud.\"\\n        },\\n        {\\n            \"Label\": \"Borrower\",\\n            \"Properties\": [\"BorrowerName\"],\\n            \"Reasoning\": \"The \\'Borrower\\' node represents the entity that receives the loan. The \\'BorrowerName\\' property provides information about the borrower\\'s identity. This information can be used to identify patterns in the types of borrowers that may be more likely to engage in fraudulent activity.\"\\n        },\\n        {\\n            \"Label\": \"Business\",\\n            \"Properties\": [\"BusinessType\"],\\n            \"Reasoning\": \"The \\'Business\\' node represents the type of business that the borrower operates. This information can be used to identify patterns in the types of businesses that may be more likely to engage in fraudulent activity.\"\\n        },\\n        {\\n            \"Label\": \"Lender\",\\n            \"Properties\": [\"OriginatingLender\"],\\n            \"Reasoning\": \"The \\'Lender\\' node represents the entity that provides the loan. The \\'OriginatingLender\\' property can be used to identify patterns in the lenders that may be more likely to be involved in fraudulent loans.\"\\n        },\\n        {\\n            \"Label\": \"State\",\\n            \"Properties\": [\"ProjectState\"],\\n            \"Reasoning\": \"The \\'State\\' node represents the location where the business project is based. This can be used to identify geographical patterns in potential fraudulent activity.\"\\n        }\\n    ],\\n    \"Relationships\": [\\n        {\\n            \"Label\": \"RECEIVED\",\\n            \"Properties\": [],\\n            \"From\": \"Borrower\",\\n            \"To\": \"Loan\",\\n            \"Reasoning\": \"The \\'RECEIVED\\' relationship represents the action of a borrower receiving a loan. This relationship is crucial for connecting the \\'Borrower\\' and \\'Loan\\' nodes and can be used to identify patterns in the loans received by different borrowers.\"\\n        },\\n        {\\n            \"Label\": \"OPERATES\",\\n            \"Properties\": [],\\n            \"From\": \"Borrower\",\\n            \"To\": \"Business\",\\n            \"Reasoning\": \"The \\'OPERATES\\' relationship represents the connection between a borrower and the type of business they operate. This relationship can be used to identify patterns in the types of businesses operated by borrowers who may be more likely to engage in fraudulent activity.\"\\n        },\\n        {\\n            \"Label\": \"PROVIDED\",\\n            \"Properties\": [],\\n            \"From\": \"Lender\",\\n            \"To\": \"Loan\",\\n            \"Reasoning\": \"The \\'PROVIDED\\' relationship represents the action of a lender providing a loan. This relationship is crucial for connecting the \\'Lender\\' and \\'Loan\\' nodes and can be used to identify patterns in the loans provided by different lenders.\"\\n        },\\n        {\\n            \"Label\": \"LOCATED_IN\",\\n            \"Properties\": [],\\n            \"From\": \"Loan\",\\n            \"To\": \"State\",\\n            \"Reasoning\": \"The \\'LOCATED_IN\\' relationship represents the geographical location of the business project associated with a loan. This relationship can be used to identify geographical patterns in potential fraudulent activity.\"\\n        }\\n    ]\\n}\\n```\\nIn this updated model, I have separated the \\'BusinessType\\' property from the \\'Borrower\\' node and created a new \\'Business\\' node. This allows for a more granular analysis of the types of businesses that may be more likely to engage in fraudulent activity. The \\'OPERATES\\' relationship connects the \\'Borrower\\' and \\'Business\\' nodes, representing the connection between a borrower and the type of business they operate.'"
      ]
     },
     "execution_count": 9,
     "metadata": {},
     "output_type": "execute_result"
    }
   ],
   "source": [
    "summarizer.iterate_model(iterations=1)"
   ]
  },
  {
   "cell_type": "code",
   "execution_count": 10,
   "metadata": {},
   "outputs": [
    {
     "data": {
      "text/plain": [
       "{'Nodes': [{'Label': 'Loan',\n",
       "   'Properties': ['LoanNumber',\n",
       "    'CurrentApprovalAmount',\n",
       "    'JobsReported',\n",
       "    'UTILITIES_PROCEED',\n",
       "    'MORTGAGE_INTEREST_PROCEED',\n",
       "    'RENT_PROCEED',\n",
       "    'REFINANCE_EIDL_PROCEED',\n",
       "    'HEALTH_CARE_PROCEED',\n",
       "    'DEBT_INTEREST_PROCEED'],\n",
       "   'Reasoning': \"The 'Loan' node encapsulates all the key information about each loan. The properties chosen represent the unique identifier of the loan, the amount approved, the number of jobs reported, and the intended use of the loan. These properties are crucial for understanding the characteristics of each loan and can be used to identify patterns that may indicate potential fraud.\"},\n",
       "  {'Label': 'Borrower',\n",
       "   'Properties': ['BorrowerName'],\n",
       "   'Reasoning': \"The 'Borrower' node represents the entity that receives the loan. The 'BorrowerName' property provides information about the borrower's identity. This information can be used to identify patterns in the types of borrowers that may be more likely to engage in fraudulent activity.\"},\n",
       "  {'Label': 'Business',\n",
       "   'Properties': ['BusinessType'],\n",
       "   'Reasoning': \"The 'Business' node represents the type of business that the borrower operates. This information can be used to identify patterns in the types of businesses that may be more likely to engage in fraudulent activity.\"},\n",
       "  {'Label': 'Lender',\n",
       "   'Properties': ['OriginatingLender'],\n",
       "   'Reasoning': \"The 'Lender' node represents the entity that provides the loan. The 'OriginatingLender' property can be used to identify patterns in the lenders that may be more likely to be involved in fraudulent loans.\"},\n",
       "  {'Label': 'State',\n",
       "   'Properties': ['ProjectState'],\n",
       "   'Reasoning': \"The 'State' node represents the location where the business project is based. This can be used to identify geographical patterns in potential fraudulent activity.\"}],\n",
       " 'Relationships': [{'Label': 'RECEIVED',\n",
       "   'Properties': [],\n",
       "   'From': 'Borrower',\n",
       "   'To': 'Loan',\n",
       "   'Reasoning': \"The 'RECEIVED' relationship represents the action of a borrower receiving a loan. This relationship is crucial for connecting the 'Borrower' and 'Loan' nodes and can be used to identify patterns in the loans received by different borrowers.\"},\n",
       "  {'Label': 'OPERATES',\n",
       "   'Properties': [],\n",
       "   'From': 'Borrower',\n",
       "   'To': 'Business',\n",
       "   'Reasoning': \"The 'OPERATES' relationship represents the connection between a borrower and the type of business they operate. This relationship can be used to identify patterns in the types of businesses operated by borrowers who may be more likely to engage in fraudulent activity.\"},\n",
       "  {'Label': 'PROVIDED',\n",
       "   'Properties': [],\n",
       "   'From': 'Lender',\n",
       "   'To': 'Loan',\n",
       "   'Reasoning': \"The 'PROVIDED' relationship represents the action of a lender providing a loan. This relationship is crucial for connecting the 'Lender' and 'Loan' nodes and can be used to identify patterns in the loans provided by different lenders.\"},\n",
       "  {'Label': 'LOCATED_IN',\n",
       "   'Properties': [],\n",
       "   'From': 'Loan',\n",
       "   'To': 'State',\n",
       "   'Reasoning': \"The 'LOCATED_IN' relationship represents the geographical location of the business project associated with a loan. This relationship can be used to identify geographical patterns in potential fraudulent activity.\"}]}"
      ]
     },
     "execution_count": 10,
     "metadata": {},
     "output_type": "execute_result"
    }
   ],
   "source": [
    "summarizer.current_model"
   ]
  },
  {
   "cell_type": "code",
   "execution_count": null,
   "metadata": {},
   "outputs": [],
   "source": []
  }
 ],
 "metadata": {
  "kernelspec": {
   "display_name": "venv",
   "language": "python",
   "name": "python3"
  },
  "language_info": {
   "codemirror_mode": {
    "name": "ipython",
    "version": 3
   },
   "file_extension": ".py",
   "mimetype": "text/x-python",
   "name": "python",
   "nbconvert_exporter": "python",
   "pygments_lexer": "ipython3",
   "version": "3.11.3"
  }
 },
 "nbformat": 4,
 "nbformat_minor": 2
}

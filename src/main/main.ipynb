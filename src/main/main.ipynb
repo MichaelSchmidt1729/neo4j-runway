{
 "cells": [
  {
   "cell_type": "markdown",
   "metadata": {},
   "source": [
    "# Demo CSV --> Graph Notebook"
   ]
  },
  {
   "cell_type": "markdown",
   "metadata": {},
   "source": [
    "This notebooks demonstrates the data flow of generating a graph from a CSV file. "
   ]
  },
  {
   "cell_type": "code",
   "execution_count": 1,
   "metadata": {},
   "outputs": [],
   "source": [
    "import os\n",
    "\n",
    "import json\n",
    "import pandas as pd\n",
    "import regex as re\n",
    "\n",
    "from summarizer.summarizer import Summarizer\n",
    "from llm.llm import LLM"
   ]
  },
  {
   "cell_type": "markdown",
   "metadata": {},
   "source": [
    "## Initialize Test Data"
   ]
  },
  {
   "cell_type": "code",
   "execution_count": 2,
   "metadata": {},
   "outputs": [],
   "source": [
    "USER_GENERATED_INPUT = {\n",
    "    'General Description': 'The data in my .csv file contains information about financial loans made to businesses.',\n",
    "    'BorrowerName': 'BorrowerName contains the name of the Business that applied for the loan.',\n",
    "    'BusinessType': 'BusinessType contains the type of business (i.e., Corp, Partnership, LLC, etc.)',\n",
    "    'LoanNumber': 'LoanNumber contains the unique identifier for the loan.',\n",
    "    'CurrentApprovalAmount': 'CurrentApprovalAmount contains the financial amount of the loan.',\n",
    "    'JobsReported': 'JobsReported contains the number of jobs the loan supports.',\n",
    "    'ProjectState': 'ProjectState contains the state where the funds will be used.',\n",
    "    'OriginatingLender': 'OriginatingLender contains the lender that originated the loan.',\n",
    "    'UTILITIES_PROCEED': 'UTILITIES_PROCEED contains the amount of the loan the borrower said they will use to pay utilities.',\n",
    "    'PAYROLL_PROCEED': 'PAYROLL_PROCEED contains the amount of the loan the borrower said they will use for payroll.',\n",
    "    'MORTGAGE_INTEREST_PROCEED': 'MORTGAGE_INTEREST_PROCEED contains the amount of the loan the borrower said they will use to pay mortgage interest.',\n",
    "    'RENT_PROCEED': 'RENT_PROCEED contains the amount of the loan the borrower said they will use to pay rent.',\n",
    "    'REFINANCE_EIDL_PROCEED': 'REFINANCE_EIDL_PROCEED contains the amount of the loan the borrower said they will use to refinance an existing loan.',\n",
    "    'HEALTH_CARE_PROCEED': 'HEALTH_CARE_PROCEED contains the amount of the loan the borrower said they will use to pay employee health care.',\n",
    "    'DEBT_INTEREST_PROCEED': 'DEBT_INTEREST_PROCEED contains the amount of the loan the borrower said they will use to pay debt interest.'\n",
    "}"
   ]
  },
  {
   "cell_type": "code",
   "execution_count": 3,
   "metadata": {},
   "outputs": [],
   "source": [
    "data = pd.read_csv(\"data/csv/ppp_loan_data.csv\")"
   ]
  },
  {
   "cell_type": "markdown",
   "metadata": {},
   "source": [
    "## Initialize LLM"
   ]
  },
  {
   "cell_type": "code",
   "execution_count": 4,
   "metadata": {},
   "outputs": [],
   "source": [
    "llm = LLM()"
   ]
  },
  {
   "cell_type": "code",
   "execution_count": 5,
   "metadata": {},
   "outputs": [],
   "source": [
    "summarizer = Summarizer(llm=llm, user_input=USER_GENERATED_INPUT, data=data)"
   ]
  },
  {
   "cell_type": "code",
   "execution_count": 6,
   "metadata": {},
   "outputs": [
    {
     "name": "stdout",
     "output_type": "stream",
     "text": [
      "Based on the provided information, here are some preliminary observations about your data:\n",
      "\n",
      "1. **Data Size and Completeness**: The dataset is quite large with 968,525 entries and 14 features. However, there are missing values in several columns that need to be addressed. The columns with the most missing values are `UTILITIES_PROCEED`, `MORTGAGE_INTEREST_PROCEED`, `RENT_PROCEED`, `REFINANCE_EIDL_PROCEED`, `HEALTH_CARE_PROCEED`, and `DEBT_INTEREST_PROCEED`. These missing values could potentially skew the analysis and should be handled appropriately.\n",
      "\n",
      "2. **Data Types**: The dataset contains a mix of numerical (float64 and int64) and categorical (object) data types. The numerical data are mostly amounts related to the loan and its intended use, while the categorical data include the borrower's name, business type, project state, and originating lender.\n",
      "\n",
      "3. **Key Features**: The most important features in this dataset are likely to be `LoanNumber`, `CurrentApprovalAmount`, `JobsReported`, and the various `PROCEED` columns. These provide the most direct information about the loans themselves and their impacts. The `LoanNumber` is a unique identifier for each loan, while `CurrentApprovalAmount` and `JobsReported` give the size of the loan and its potential economic impact, respectively. The `PROCEED` columns show how the loan funds are intended to be used, which could be important for understanding the needs and priorities of the businesses.\n",
      "\n",
      "4. **Categorical Features**: The categorical features `BorrowerName`, `BusinessType`, `ProjectState`, and `OriginatingLender` could provide valuable insights into the types of businesses receiving loans, where those businesses are located, and which lenders are most active in providing loans. However, these features have a high cardinality (many unique values), which could make them challenging to analyze and visualize.\n",
      "\n",
      "5. **Distributions**: The distributions of the numerical features show a wide range of values, with many skewed towards lower amounts. This is especially true for the `PROCEED` columns, where the 75th percentile is often much lower than the maximum value. This suggests that a small number of loans have very high amounts for these uses, which could be outliers or could indicate larger businesses or specific industries with higher costs.\n",
      "\n",
      "In the next step, we can delve deeper into these features and their relationships to each other, which will help inform the creation of the Neo4j graph data model.\n"
     ]
    }
   ],
   "source": [
    "discovery = summarizer.run_discovery()\n",
    "print(discovery)"
   ]
  },
  {
   "cell_type": "code",
   "execution_count": 7,
   "metadata": {},
   "outputs": [
    {
     "name": "stdout",
     "output_type": "stream",
     "text": [
      "Validating response...\n",
      "Sure, here's a proposed data model for your Neo4j graph:\n",
      "\n",
      "```\n",
      "{\n",
      "    \"Nodes\": [\n",
      "        {\n",
      "            \"Label\": \"Loan\",\n",
      "            \"Properties\": [\"LoanNumber\", \"CurrentApprovalAmount\", \"JobsReported\", \"UTILITIES_PROCEED\", \"MORTGAGE_INTEREST_PROCEED\", \"RENT_PROCEED\", \"REFINANCE_EIDL_PROCEED\", \"HEALTH_CARE_PROCEED\", \"DEBT_INTEREST_PROCEED\"],\n",
      "            \"Unique Constraints\": [\"LoanNumber\"],\n",
      "            \"Reasoning\": \"The 'Loan' node represents each unique loan in the dataset. The properties are all the features related to the loan itself. 'LoanNumber' is a unique identifier for each loan, so it has a uniqueness constraint.\"\n",
      "        },\n",
      "        {\n",
      "            \"Label\": \"Borrower\",\n",
      "            \"Properties\": [\"BorrowerName\", \"BusinessType\"],\n",
      "            \"Unique Constraints\": [\"BorrowerName\"],\n",
      "            \"Reasoning\": \"The 'Borrower' node represents each unique borrower in the dataset. The properties are all the features related to the borrower. 'BorrowerName' is a unique identifier for each borrower, so it has a uniqueness constraint.\"\n",
      "        },\n",
      "        {\n",
      "            \"Label\": \"Lender\",\n",
      "            \"Properties\": [\"OriginatingLender\"],\n",
      "            \"Unique Constraints\": [\"OriginatingLender\"],\n",
      "            \"Reasoning\": \"The 'Lender' node represents each unique lender in the dataset. The 'OriginatingLender' property is the name of the lender, which is a unique identifier, so it has a uniqueness constraint.\"\n",
      "        },\n",
      "        {\n",
      "            \"Label\": \"Location\",\n",
      "            \"Properties\": [\"ProjectState\"],\n",
      "            \"Unique Constraints\": [],\n",
      "            \"Reasoning\": \"The 'Location' node represents the location of the project for which the loan was taken. The 'ProjectState' property is the state of the project. There are no unique constraints as multiple projects can be in the same state.\"\n",
      "        }\n",
      "    ],\n",
      "    \"Relationships\": [\n",
      "        {\n",
      "            \"Type\": \"BORROWED\",\n",
      "            \"Properties\": [],\n",
      "            \"Unique Constraints\": [],\n",
      "            \"From\": \"Borrower\",\n",
      "            \"To\": \"Loan\",\n",
      "            \"Reasoning\": \"The 'BORROWED' relationship represents the action of a borrower taking a loan. There are no properties or unique constraints on this relationship.\"\n",
      "        },\n",
      "        {\n",
      "            \"Type\": \"LENT\",\n",
      "            \"Properties\": [],\n",
      "            \"Unique Constraints\": [],\n",
      "            \"From\": \"Lender\",\n",
      "            \"To\": \"Loan\",\n",
      "            \"Reasoning\": \"The 'LENT' relationship represents the action of a lender providing a loan. There are no properties or unique constraints on this relationship.\"\n",
      "        },\n",
      "        {\n",
      "            \"Type\": \"LOCATED_IN\",\n",
      "            \"Properties\": [],\n",
      "            \"Unique Constraints\": [],\n",
      "            \"From\": \"Loan\",\n",
      "            \"To\": \"Location\",\n",
      "            \"Reasoning\": \"The 'LOCATED_IN' relationship represents the location of the project for which the loan was taken. There are no properties or unique constraints on this relationship.\"\n",
      "        }\n",
      "    ]\n",
      "}\n",
      "```\n",
      "\n",
      "This model captures the key entities in your dataset (loans, borrowers, lenders, and locations) and the relationships between them. It also includes all the features from your .csv file as properties of these entities. The unique constraints ensure that each loan, borrower, and lender is represented only once in the graph.\n"
     ]
    }
   ],
   "source": [
    "initial_model = summarizer.create_initial_model()\n",
    "print(initial_model)"
   ]
  },
  {
   "cell_type": "code",
   "execution_count": 8,
   "metadata": {},
   "outputs": [
    {
     "data": {
      "text/plain": [
       "{'Nodes': [{'Label': 'Loan',\n",
       "   'Properties': ['LoanNumber',\n",
       "    'CurrentApprovalAmount',\n",
       "    'JobsReported',\n",
       "    'UTILITIES_PROCEED',\n",
       "    'MORTGAGE_INTEREST_PROCEED',\n",
       "    'RENT_PROCEED',\n",
       "    'REFINANCE_EIDL_PROCEED',\n",
       "    'HEALTH_CARE_PROCEED',\n",
       "    'DEBT_INTEREST_PROCEED'],\n",
       "   'Unique Constraints': ['LoanNumber'],\n",
       "   'Reasoning': \"The 'Loan' node represents each unique loan in the dataset. The properties are all the features related to the loan itself. 'LoanNumber' is a unique identifier for each loan, so it has a uniqueness constraint.\"},\n",
       "  {'Label': 'Borrower',\n",
       "   'Properties': ['BorrowerName', 'BusinessType'],\n",
       "   'Unique Constraints': ['BorrowerName'],\n",
       "   'Reasoning': \"The 'Borrower' node represents each unique borrower in the dataset. The properties are all the features related to the borrower. 'BorrowerName' is a unique identifier for each borrower, so it has a uniqueness constraint.\"},\n",
       "  {'Label': 'Lender',\n",
       "   'Properties': ['OriginatingLender'],\n",
       "   'Unique Constraints': ['OriginatingLender'],\n",
       "   'Reasoning': \"The 'Lender' node represents each unique lender in the dataset. The 'OriginatingLender' property is the name of the lender, which is a unique identifier, so it has a uniqueness constraint.\"},\n",
       "  {'Label': 'Location',\n",
       "   'Properties': ['ProjectState'],\n",
       "   'Unique Constraints': [],\n",
       "   'Reasoning': \"The 'Location' node represents the location of the project for which the loan was taken. The 'ProjectState' property is the state of the project. There are no unique constraints as multiple projects can be in the same state.\"}],\n",
       " 'Relationships': [{'Type': 'BORROWED',\n",
       "   'Properties': [],\n",
       "   'Unique Constraints': [],\n",
       "   'From': 'Borrower',\n",
       "   'To': 'Loan',\n",
       "   'Reasoning': \"The 'BORROWED' relationship represents the action of a borrower taking a loan. There are no properties or unique constraints on this relationship.\"},\n",
       "  {'Type': 'LENT',\n",
       "   'Properties': [],\n",
       "   'Unique Constraints': [],\n",
       "   'From': 'Lender',\n",
       "   'To': 'Loan',\n",
       "   'Reasoning': \"The 'LENT' relationship represents the action of a lender providing a loan. There are no properties or unique constraints on this relationship.\"},\n",
       "  {'Type': 'LOCATED_IN',\n",
       "   'Properties': [],\n",
       "   'Unique Constraints': [],\n",
       "   'From': 'Loan',\n",
       "   'To': 'Location',\n",
       "   'Reasoning': \"The 'LOCATED_IN' relationship represents the location of the project for which the loan was taken. There are no properties or unique constraints on this relationship.\"}]}"
      ]
     },
     "execution_count": 8,
     "metadata": {},
     "output_type": "execute_result"
    }
   ],
   "source": [
    "summarizer.current_model"
   ]
  },
  {
   "cell_type": "code",
   "execution_count": 9,
   "metadata": {},
   "outputs": [
    {
     "name": "stdout",
     "output_type": "stream",
     "text": [
      "Validating response...\n"
     ]
    },
    {
     "data": {
      "text/plain": [
       "'Sure, I can suggest a few improvements to the data model. One thing that stands out is that the \\'BusinessType\\' property of the \\'Borrower\\' node could be converted into a separate node. This would allow us to capture more information about the types of businesses that are borrowing loans. Similarly, the \\'ProjectState\\' property of the \\'Location\\' node could be converted into a separate node to capture more information about the states where the projects are located. Here\\'s the updated data model:\\n\\n```\\n{\\n    \"Nodes\": [\\n        {\\n            \"Label\": \"Loan\",\\n            \"Properties\": [\"LoanNumber\", \"CurrentApprovalAmount\", \"JobsReported\", \"UTILITIES_PROCEED\", \"MORTGAGE_INTEREST_PROCEED\", \"RENT_PROCEED\", \"REFINANCE_EIDL_PROCEED\", \"HEALTH_CARE_PROCEED\", \"DEBT_INTEREST_PROCEED\"],\\n            \"Unique Constraints\": [\"LoanNumber\"],\\n            \"Reasoning\": \"The \\'Loan\\' node represents each unique loan in the dataset. The properties are all the features related to the loan itself. \\'LoanNumber\\' is a unique identifier for each loan, so it has a uniqueness constraint.\"\\n        },\\n        {\\n            \"Label\": \"Borrower\",\\n            \"Properties\": [\"BorrowerName\"],\\n            \"Unique Constraints\": [\"BorrowerName\"],\\n            \"Reasoning\": \"The \\'Borrower\\' node represents each unique borrower in the dataset. \\'BorrowerName\\' is a unique identifier for each borrower, so it has a uniqueness constraint.\"\\n        },\\n        {\\n            \"Label\": \"BusinessType\",\\n            \"Properties\": [\"BusinessType\"],\\n            \"Unique Constraints\": [\"BusinessType\"],\\n            \"Reasoning\": \"The \\'BusinessType\\' node represents the type of business of the borrower. This allows us to capture more information about the types of businesses that are borrowing loans.\"\\n        },\\n        {\\n            \"Label\": \"Lender\",\\n            \"Properties\": [\"OriginatingLender\"],\\n            \"Unique Constraints\": [\"OriginatingLender\"],\\n            \"Reasoning\": \"The \\'Lender\\' node represents each unique lender in the dataset. The \\'OriginatingLender\\' property is the name of the lender, which is a unique identifier, so it has a uniqueness constraint.\"\\n        },\\n        {\\n            \"Label\": \"Location\",\\n            \"Properties\": [],\\n            \"Unique Constraints\": [],\\n            \"Reasoning\": \"The \\'Location\\' node represents the location of the project for which the loan was taken.\"\\n        },\\n        {\\n            \"Label\": \"State\",\\n            \"Properties\": [\"ProjectState\"],\\n            \"Unique Constraints\": [\"ProjectState\"],\\n            \"Reasoning\": \"The \\'State\\' node represents the state where the project is located. This allows us to capture more information about the states where the projects are located.\"\\n        }\\n    ],\\n    \"Relationships\": [\\n        {\\n            \"Type\": \"BORROWED\",\\n            \"Properties\": [],\\n            \"Unique Constraints\": [],\\n            \"From\": \"Borrower\",\\n            \"To\": \"Loan\",\\n            \"Reasoning\": \"The \\'BORROWED\\' relationship represents the action of a borrower taking a loan. There are no properties or unique constraints on this relationship.\"\\n        },\\n        {\\n            \"Type\": \"OF_TYPE\",\\n            \"Properties\": [],\\n            \"Unique Constraints\": [],\\n            \"From\": \"Borrower\",\\n            \"To\": \"BusinessType\",\\n            \"Reasoning\": \"The \\'OF_TYPE\\' relationship represents the type of business of the borrower.\"\\n        },\\n        {\\n            \"Type\": \"LENT\",\\n            \"Properties\": [],\\n            \"Unique Constraints\": [],\\n            \"From\": \"Lender\",\\n            \"To\": \"Loan\",\\n            \"Reasoning\": \"The \\'LENT\\' relationship represents the action of a lender providing a loan. There are no properties or unique constraints on this relationship.\"\\n        },\\n        {\\n            \"Type\": \"LOCATED_IN\",\\n            \"Properties\": [],\\n            \"Unique Constraints\": [],\\n            \"From\": \"Loan\",\\n            \"To\": \"Location\",\\n            \"Reasoning\": \"The \\'LOCATED_IN\\' relationship represents the location of the project for which the loan was taken. There are no properties or unique constraints on this relationship.\"\\n        },\\n        {\\n            \"Type\": \"IN_STATE\",\\n            \"Properties\": [],\\n            \"Unique Constraints\": [],\\n            \"From\": \"Location\",\\n            \"To\": \"State\",\\n            \"Reasoning\": \"The \\'IN_STATE\\' relationship represents the state where the project is located.\"\\n        }\\n    ]\\n}\\n```\\n\\nThis updated model captures more information about the types of businesses that are borrowing loans and the states where the projects are located. It also ensures that each loan, borrower, business type, lender, and state is represented only once in the graph.'"
      ]
     },
     "execution_count": 9,
     "metadata": {},
     "output_type": "execute_result"
    }
   ],
   "source": [
    "summarizer.iterate_model(iterations=1)"
   ]
  },
  {
   "cell_type": "code",
   "execution_count": 10,
   "metadata": {},
   "outputs": [
    {
     "data": {
      "text/plain": [
       "{'Nodes': [{'Label': 'Loan',\n",
       "   'Properties': ['LoanNumber',\n",
       "    'CurrentApprovalAmount',\n",
       "    'JobsReported',\n",
       "    'UTILITIES_PROCEED',\n",
       "    'MORTGAGE_INTEREST_PROCEED',\n",
       "    'RENT_PROCEED',\n",
       "    'REFINANCE_EIDL_PROCEED',\n",
       "    'HEALTH_CARE_PROCEED',\n",
       "    'DEBT_INTEREST_PROCEED'],\n",
       "   'Unique Constraints': ['LoanNumber'],\n",
       "   'Reasoning': \"The 'Loan' node represents each unique loan in the dataset. The properties are all the features related to the loan itself. 'LoanNumber' is a unique identifier for each loan, so it has a uniqueness constraint.\"},\n",
       "  {'Label': 'Borrower',\n",
       "   'Properties': ['BorrowerName'],\n",
       "   'Unique Constraints': ['BorrowerName'],\n",
       "   'Reasoning': \"The 'Borrower' node represents each unique borrower in the dataset. 'BorrowerName' is a unique identifier for each borrower, so it has a uniqueness constraint.\"},\n",
       "  {'Label': 'BusinessType',\n",
       "   'Properties': ['BusinessType'],\n",
       "   'Unique Constraints': ['BusinessType'],\n",
       "   'Reasoning': \"The 'BusinessType' node represents the type of business of the borrower. This allows us to capture more information about the types of businesses that are borrowing loans.\"},\n",
       "  {'Label': 'Lender',\n",
       "   'Properties': ['OriginatingLender'],\n",
       "   'Unique Constraints': ['OriginatingLender'],\n",
       "   'Reasoning': \"The 'Lender' node represents each unique lender in the dataset. The 'OriginatingLender' property is the name of the lender, which is a unique identifier, so it has a uniqueness constraint.\"},\n",
       "  {'Label': 'Location',\n",
       "   'Properties': [],\n",
       "   'Unique Constraints': [],\n",
       "   'Reasoning': \"The 'Location' node represents the location of the project for which the loan was taken.\"},\n",
       "  {'Label': 'State',\n",
       "   'Properties': ['ProjectState'],\n",
       "   'Unique Constraints': ['ProjectState'],\n",
       "   'Reasoning': \"The 'State' node represents the state where the project is located. This allows us to capture more information about the states where the projects are located.\"}],\n",
       " 'Relationships': [{'Type': 'BORROWED',\n",
       "   'Properties': [],\n",
       "   'Unique Constraints': [],\n",
       "   'From': 'Borrower',\n",
       "   'To': 'Loan',\n",
       "   'Reasoning': \"The 'BORROWED' relationship represents the action of a borrower taking a loan. There are no properties or unique constraints on this relationship.\"},\n",
       "  {'Type': 'OF_TYPE',\n",
       "   'Properties': [],\n",
       "   'Unique Constraints': [],\n",
       "   'From': 'Borrower',\n",
       "   'To': 'BusinessType',\n",
       "   'Reasoning': \"The 'OF_TYPE' relationship represents the type of business of the borrower.\"},\n",
       "  {'Type': 'LENT',\n",
       "   'Properties': [],\n",
       "   'Unique Constraints': [],\n",
       "   'From': 'Lender',\n",
       "   'To': 'Loan',\n",
       "   'Reasoning': \"The 'LENT' relationship represents the action of a lender providing a loan. There are no properties or unique constraints on this relationship.\"},\n",
       "  {'Type': 'LOCATED_IN',\n",
       "   'Properties': [],\n",
       "   'Unique Constraints': [],\n",
       "   'From': 'Loan',\n",
       "   'To': 'Location',\n",
       "   'Reasoning': \"The 'LOCATED_IN' relationship represents the location of the project for which the loan was taken. There are no properties or unique constraints on this relationship.\"},\n",
       "  {'Type': 'IN_STATE',\n",
       "   'Properties': [],\n",
       "   'Unique Constraints': [],\n",
       "   'From': 'Location',\n",
       "   'To': 'State',\n",
       "   'Reasoning': \"The 'IN_STATE' relationship represents the state where the project is located.\"}]}"
      ]
     },
     "execution_count": 10,
     "metadata": {},
     "output_type": "execute_result"
    }
   ],
   "source": [
    "summarizer.current_model"
   ]
  },
  {
   "cell_type": "code",
   "execution_count": null,
   "metadata": {},
   "outputs": [],
   "source": []
  }
 ],
 "metadata": {
  "kernelspec": {
   "display_name": "venv",
   "language": "python",
   "name": "python3"
  },
  "language_info": {
   "codemirror_mode": {
    "name": "ipython",
    "version": 3
   },
   "file_extension": ".py",
   "mimetype": "text/x-python",
   "name": "python",
   "nbconvert_exporter": "python",
   "pygments_lexer": "ipython3",
   "version": "3.11.3"
  }
 },
 "nbformat": 4,
 "nbformat_minor": 2
}

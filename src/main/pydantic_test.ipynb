{
 "cells": [
  {
   "cell_type": "markdown",
   "metadata": {},
   "source": [
    "# Demo CSV --> Graph Notebook"
   ]
  },
  {
   "cell_type": "markdown",
   "metadata": {},
   "source": [
    "This notebooks demonstrates the data flow of generating a graph from a CSV file. "
   ]
  },
  {
   "cell_type": "code",
   "execution_count": 1,
   "metadata": {},
   "outputs": [],
   "source": [
    "import os\n",
    "\n",
    "import json\n",
    "import pandas as pd\n",
    "import regex as re\n",
    "\n",
    "from summarizer.summarizer import Summarizer\n",
    "from llm.llm import LLM"
   ]
  },
  {
   "cell_type": "markdown",
   "metadata": {},
   "source": [
    "## Initialize Test Data"
   ]
  },
  {
   "cell_type": "code",
   "execution_count": 2,
   "metadata": {},
   "outputs": [],
   "source": [
    "USER_GENERATED_INPUT = {\n",
    "    'General Description': 'The data in my .csv file contains information about financial loans made to businesses.',\n",
    "    'BorrowerName': 'BorrowerName contains the name of the Business that applied for the loan.',\n",
    "    'BusinessType': 'BusinessType contains the type of business (i.e., Corp, Partnership, LLC, etc.)',\n",
    "    'LoanNumber': 'LoanNumber contains the unique identifier for the loan.',\n",
    "    'CurrentApprovalAmount': 'CurrentApprovalAmount contains the financial amount of the loan.',\n",
    "    'JobsReported': 'JobsReported contains the number of jobs the loan supports.',\n",
    "    'ProjectState': 'ProjectState contains the state where the funds will be used.',\n",
    "    'OriginatingLender': 'OriginatingLender contains the lender that originated the loan.',\n",
    "    'UTILITIES_PROCEED': 'UTILITIES_PROCEED contains the amount of the loan the borrower said they will use to pay utilities.',\n",
    "    'PAYROLL_PROCEED': 'PAYROLL_PROCEED contains the amount of the loan the borrower said they will use for payroll.',\n",
    "    'MORTGAGE_INTEREST_PROCEED': 'MORTGAGE_INTEREST_PROCEED contains the amount of the loan the borrower said they will use to pay mortgage interest.',\n",
    "    'RENT_PROCEED': 'RENT_PROCEED contains the amount of the loan the borrower said they will use to pay rent.',\n",
    "    'REFINANCE_EIDL_PROCEED': 'REFINANCE_EIDL_PROCEED contains the amount of the loan the borrower said they will use to refinance an existing loan.',\n",
    "    'HEALTH_CARE_PROCEED': 'HEALTH_CARE_PROCEED contains the amount of the loan the borrower said they will use to pay employee health care.',\n",
    "    'DEBT_INTEREST_PROCEED': 'DEBT_INTEREST_PROCEED contains the amount of the loan the borrower said they will use to pay debt interest.'\n",
    "}"
   ]
  },
  {
   "cell_type": "code",
   "execution_count": 3,
   "metadata": {},
   "outputs": [],
   "source": [
    "data = pd.read_csv(\"data/csv/ppp_loan_data.csv\")"
   ]
  },
  {
   "cell_type": "markdown",
   "metadata": {},
   "source": [
    "## Initialize LLM"
   ]
  },
  {
   "cell_type": "code",
   "execution_count": 4,
   "metadata": {},
   "outputs": [],
   "source": [
    "llm = LLM()"
   ]
  },
  {
   "cell_type": "code",
   "execution_count": 5,
   "metadata": {},
   "outputs": [],
   "source": [
    "summarizer = Summarizer(llm=llm, user_input=USER_GENERATED_INPUT, data=data)"
   ]
  },
  {
   "cell_type": "code",
   "execution_count": 6,
   "metadata": {},
   "outputs": [
    {
     "name": "stdout",
     "output_type": "stream",
     "text": [
      "Based on the preliminary analysis of the data, here are some important details:\n",
      "\n",
      "1. The dataset contains 968,525 entries and 14 columns.\n",
      "2. There are missing values in some columns, such as BorrowerName, BusinessType, JobsReported, ProjectState, UTILITIES_PROCEED, PAYROLL_PROCEED, MORTGAGE_INTEREST_PROCEED, RENT_PROCEED, REFINANCE_EIDL_PROCEED, HEALTH_CARE_PROCEED, and DEBT_INTEREST_PROCEED.\n",
      "3. The LoanNumber column is a unique identifier for each loan, and it has a wide range of values.\n",
      "4. The CurrentApprovalAmount column represents the financial amount of the loan, and it also has a wide range of values.\n",
      "5. The JobsReported column indicates the number of jobs supported by each loan, with a mean of 51.89 and a maximum of 500.\n",
      "6. The UTILITIES_PROCEED, PAYROLL_PROCEED, MORTGAGE_INTEREST_PROCEED, RENT_PROCEED, REFINANCE_EIDL_PROCEED, HEALTH_CARE_PROCEED, and DEBT_INTEREST_PROCEED columns represent the amount of the loan allocated for specific purposes.\n",
      "7. The BorrowerName column contains the names of the businesses that applied for the loans, with some duplicates.\n",
      "8. The BusinessType column indicates the type of business, with \"Corporation\" being the most common type.\n",
      "9. The ProjectState column represents the state where the funds will be used, with California (CA) being the most frequent state.\n",
      "10. The OriginatingLender column contains the names of the lenders that originated the loans, with some lenders appearing more frequently than others.\n",
      "\n",
      "Based on this analysis, the most important features for creating a graph data model could be LoanNumber, CurrentApprovalAmount, JobsReported, BorrowerName, BusinessType, ProjectState, and OriginatingLender. These features provide information about the loans, the businesses, and the lenders involved, which could be useful for creating relationships in the graph data model.\n"
     ]
    }
   ],
   "source": [
    "discovery = summarizer.run_discovery()\n",
    "print(discovery)"
   ]
  },
  {
   "cell_type": "code",
   "execution_count": 7,
   "metadata": {},
   "outputs": [],
   "source": [
    "# print(discovery.choices[0].message.content)"
   ]
  },
  {
   "cell_type": "code",
   "execution_count": 8,
   "metadata": {},
   "outputs": [
    {
     "name": "stdout",
     "output_type": "stream",
     "text": [
      "nodes=[Node(label='Loan', properties=['LoanNumber', 'CurrentApprovalAmount'], unique_constraints=['LoanNumber']), Node(label='Business', properties=['BorrowerName', 'BusinessType'], unique_constraints=['BorrowerName']), Node(label='State', properties=['ProjectState'], unique_constraints=['ProjectState']), Node(label='Lender', properties=['OriginatingLender'], unique_constraints=['OriginatingLender'])] relationships=[Relationship(type='SUPPORTS', properties=['JobsReported'], unique_constraints=[], source='Loan', target='Business'), Relationship(type='LOCATED_IN', properties=[], unique_constraints=[], source='Loan', target='State'), Relationship(type='ORIGINATED_BY', properties=[], unique_constraints=[], source='Loan', target='Lender')]\n"
     ]
    }
   ],
   "source": [
    "initial_model = summarizer.create_initial_model()\n",
    "print(initial_model)"
   ]
  },
  {
   "cell_type": "code",
   "execution_count": 11,
   "metadata": {},
   "outputs": [
    {
     "data": {
      "text/plain": [
       "{'nodes': [Node(label='Loan', properties=['LoanNumber', 'CurrentApprovalAmount'], unique_constraints=['LoanNumber']),\n",
       "  Node(label='Business', properties=['BorrowerName', 'BusinessType'], unique_constraints=['BorrowerName']),\n",
       "  Node(label='State', properties=['ProjectState'], unique_constraints=['ProjectState']),\n",
       "  Node(label='Lender', properties=['OriginatingLender'], unique_constraints=['OriginatingLender'])],\n",
       " 'relationships': [Relationship(type='SUPPORTS', properties=['JobsReported'], unique_constraints=[], source='Loan', target='Business'),\n",
       "  Relationship(type='LOCATED_IN', properties=[], unique_constraints=[], source='Loan', target='State'),\n",
       "  Relationship(type='ORIGINATED_BY', properties=[], unique_constraints=[], source='Loan', target='Lender')],\n",
       " '_raw_response': ChatCompletion(id='chatcmpl-8syPc38A59rhZL5iStMMDIOJo8Vyn', choices=[Choice(finish_reason='stop', index=0, logprobs=None, message=ChatCompletionMessage(content=None, role='assistant', function_call=FunctionCall(arguments='{\\n  \"nodes\": [\\n    {\\n      \"label\": \"Loan\",\\n      \"properties\": [\"LoanNumber\", \"CurrentApprovalAmount\"],\\n      \"unique_constraints\": [\"LoanNumber\"]\\n    },\\n    {\\n      \"label\": \"Business\",\\n      \"properties\": [\"BorrowerName\", \"BusinessType\"],\\n      \"unique_constraints\": [\"BorrowerName\"]\\n    },\\n    {\\n      \"label\": \"State\",\\n      \"properties\": [\"ProjectState\"],\\n      \"unique_constraints\": [\"ProjectState\"]\\n    },\\n    {\\n      \"label\": \"Lender\",\\n      \"properties\": [\"OriginatingLender\"],\\n      \"unique_constraints\": [\"OriginatingLender\"]\\n    }\\n  ],\\n  \"relationships\": [\\n    {\\n      \"type\": \"SUPPORTS\",\\n      \"properties\": [\"JobsReported\"],\\n      \"unique_constraints\": [],\\n      \"source\": \"Loan\",\\n      \"target\": \"Business\"\\n    },\\n    {\\n      \"type\": \"LOCATED_IN\",\\n      \"properties\": [],\\n      \"unique_constraints\": [],\\n      \"source\": \"Loan\",\\n      \"target\": \"State\"\\n    },\\n    {\\n      \"type\": \"ORIGINATED_BY\",\\n      \"properties\": [],\\n      \"unique_constraints\": [],\\n      \"source\": \"Loan\",\\n      \"target\": \"Lender\"\\n    }\\n  ]\\n}', name='DataModel'), tool_calls=None))], created=1708112628, model='gpt-3.5-turbo-0613', object='chat.completion', system_fingerprint=None, usage=CompletionUsage(completion_tokens=266, prompt_tokens=3248, total_tokens=3514))}"
      ]
     },
     "execution_count": 11,
     "metadata": {},
     "output_type": "execute_result"
    }
   ],
   "source": [
    "initial_model.__dict__"
   ]
  },
  {
   "cell_type": "code",
   "execution_count": 10,
   "metadata": {},
   "outputs": [
    {
     "data": {
      "text/plain": [
       "DataModel(nodes=[Node(label='Loan', properties=['LoanNumber', 'CurrentApprovalAmount'], unique_constraints=['LoanNumber']), Node(label='Business', properties=['BorrowerName', 'BusinessType'], unique_constraints=['BorrowerName']), Node(label='State', properties=['ProjectState'], unique_constraints=['ProjectState']), Node(label='Lender', properties=['OriginatingLender'], unique_constraints=['OriginatingLender'])], relationships=[Relationship(type='SUPPORTS', properties=['JobsReported'], unique_constraints=[], source='Loan', target='Business'), Relationship(type='LOCATED_IN', properties=[], unique_constraints=[], source='Loan', target='State'), Relationship(type='ORIGINATED_BY', properties=[], unique_constraints=[], source='Loan', target='Lender')])"
      ]
     },
     "execution_count": 10,
     "metadata": {},
     "output_type": "execute_result"
    }
   ],
   "source": [
    "summarizer.current_model"
   ]
  },
  {
   "cell_type": "code",
   "execution_count": 10,
   "metadata": {},
   "outputs": [
    {
     "name": "stdout",
     "output_type": "stream",
     "text": [
      "Validating response...\n"
     ]
    },
    {
     "data": {
      "text/plain": [
       "'```json\\n{\\n    \"Nodes\": [\\n        {\\n            \"Label\": \"Loan\",\\n            \"Properties\": [\"LoanNumber\", \"CurrentApprovalAmount\", \"JobsReported\", \"UTILITIES_PROCEED\", \"MORTGAGE_INTEREST_PROCEED\", \"RENT_PROCEED\", \"REFINANCE_EIDL_PROCEED\", \"HEALTH_CARE_PROCEED\", \"DEBT_INTEREST_PROCEED\"],\\n            \"Unique Constraints\": [\"LoanNumber\"],\\n            \"Reasoning\": \"The \\'Loan\\' node represents each unique loan in the dataset. The properties are all the features related to the loan itself. The \\'LoanNumber\\' is a unique identifier for each loan, so it is used as a unique constraint.\"\\n        },\\n        {\\n            \"Label\": \"Borrower\",\\n            \"Properties\": [\"BorrowerName\", \"BusinessType\"],\\n            \"Unique Constraints\": [\"BorrowerName\"],\\n            \"Reasoning\": \"The \\'Borrower\\' node represents each unique borrower in the dataset. The properties are all the features related to the borrower. The \\'BorrowerName\\' is a unique identifier for each borrower, so it is used as a unique constraint.\"\\n        },\\n        {\\n            \"Label\": \"Lender\",\\n            \"Properties\": [\"OriginatingLender\"],\\n            \"Unique Constraints\": [\"OriginatingLender\"],\\n            \"Reasoning\": \"The \\'Lender\\' node represents each unique lender in the dataset. The \\'OriginatingLender\\' is a unique identifier for each lender, so it is used as a unique constraint.\"\\n        },\\n        {\\n            \"Label\": \"Project\",\\n            \"Properties\": [\"ProjectState\"],\\n            \"Unique Constraints\": [],\\n            \"Reasoning\": \"The \\'Project\\' node represents the state where the project is located. There are no unique constraints as multiple loans can be associated with the same project state.\"\\n        },\\n        {\\n            \"Label\": \"Proceed\",\\n            \"Properties\": [\"UTILITIES_PROCEED\", \"MORTGAGE_INTEREST_PROCEED\", \"RENT_PROCEED\", \"REFINANCE_EIDL_PROCEED\", \"HEALTH_CARE_PROCEED\", \"DEBT_INTEREST_PROCEED\"],\\n            \"Unique Constraints\": [],\\n            \"Reasoning\": \"The \\'Proceed\\' node represents the different types of proceeds that a loan can have. These are not unique to a loan, so there are no unique constraints. This node is separated from the \\'Loan\\' node to avoid overloading the \\'Loan\\' node with properties and to allow for more flexible queries about the types of proceeds.\"\\n        }\\n    ],\\n    \"Relationships\": [\\n        {\\n            \"Type\": \"BORROWED\",\\n            \"Properties\": [],\\n            \"Unique Constraints\": [],\\n            \"From\": \"Borrower\",\\n            \"To\": \"Loan\",\\n            \"Reasoning\": \"The \\'BORROWED\\' relationship represents the action of a borrower taking out a loan. There are no properties or unique constraints on this relationship.\"\\n        },\\n        {\\n            \"Type\": \"LENT\",\\n            \"Properties\": [],\\n            \"Unique Constraints\": [],\\n            \"From\": \"Lender\",\\n            \"To\": \"Loan\",\\n            \"Reasoning\": \"The \\'LENT\\' relationship represents the action of a lender providing a loan. There are no properties or unique constraints on this relationship.\"\\n        },\\n        {\\n            \"Type\": \"LOCATED_IN\",\\n            \"Properties\": [],\\n            \"Unique Constraints\": [],\\n            \"From\": \"Loan\",\\n            \"To\": \"Project\",\\n            \"Reasoning\": \"The \\'LOCATED_IN\\' relationship represents the location of the project associated with a loan. There are no properties or unique constraints on this relationship.\"\\n        },\\n        {\\n            \"Type\": \"HAS_PROCEED\",\\n            \"Properties\": [],\\n            \"Unique Constraints\": [],\\n            \"From\": \"Loan\",\\n            \"To\": \"Proceed\",\\n            \"Reasoning\": \"The \\'HAS_PROCEED\\' relationship represents the association of a loan with its proceeds. There are no properties or unique constraints on this relationship.\"\\n        }\\n    ]\\n}\\n```\\n\\nIn this updated model, I have added a new \\'Proceed\\' node to represent the different types of proceeds that a loan can have. This node is separated from the \\'Loan\\' node to avoid overloading the \\'Loan\\' node with properties and to allow for more flexible queries about the types of proceeds. A new \\'HAS_PROCEED\\' relationship is also added to represent the association of a loan with its proceeds.'"
      ]
     },
     "execution_count": 10,
     "metadata": {},
     "output_type": "execute_result"
    }
   ],
   "source": [
    "summarizer.iterate_model(iterations=1)"
   ]
  },
  {
   "cell_type": "code",
   "execution_count": 11,
   "metadata": {},
   "outputs": [
    {
     "data": {
      "text/plain": [
       "{'Nodes': [{'Label': 'Loan',\n",
       "   'Properties': ['LoanNumber',\n",
       "    'CurrentApprovalAmount',\n",
       "    'JobsReported',\n",
       "    'UTILITIES_PROCEED',\n",
       "    'MORTGAGE_INTEREST_PROCEED',\n",
       "    'RENT_PROCEED',\n",
       "    'REFINANCE_EIDL_PROCEED',\n",
       "    'HEALTH_CARE_PROCEED',\n",
       "    'DEBT_INTEREST_PROCEED'],\n",
       "   'Unique Constraints': ['LoanNumber'],\n",
       "   'Reasoning': \"The 'Loan' node represents each unique loan in the dataset. The properties are all the features related to the loan itself. The 'LoanNumber' is a unique identifier for each loan, so it is used as a unique constraint.\"},\n",
       "  {'Label': 'Borrower',\n",
       "   'Properties': ['BorrowerName', 'BusinessType'],\n",
       "   'Unique Constraints': ['BorrowerName'],\n",
       "   'Reasoning': \"The 'Borrower' node represents each unique borrower in the dataset. The properties are all the features related to the borrower. The 'BorrowerName' is a unique identifier for each borrower, so it is used as a unique constraint.\"},\n",
       "  {'Label': 'Lender',\n",
       "   'Properties': ['OriginatingLender'],\n",
       "   'Unique Constraints': ['OriginatingLender'],\n",
       "   'Reasoning': \"The 'Lender' node represents each unique lender in the dataset. The 'OriginatingLender' is a unique identifier for each lender, so it is used as a unique constraint.\"},\n",
       "  {'Label': 'Project',\n",
       "   'Properties': ['ProjectState'],\n",
       "   'Unique Constraints': [],\n",
       "   'Reasoning': \"The 'Project' node represents the state where the project is located. There are no unique constraints as multiple loans can be associated with the same project state.\"},\n",
       "  {'Label': 'Proceed',\n",
       "   'Properties': ['UTILITIES_PROCEED',\n",
       "    'MORTGAGE_INTEREST_PROCEED',\n",
       "    'RENT_PROCEED',\n",
       "    'REFINANCE_EIDL_PROCEED',\n",
       "    'HEALTH_CARE_PROCEED',\n",
       "    'DEBT_INTEREST_PROCEED'],\n",
       "   'Unique Constraints': [],\n",
       "   'Reasoning': \"The 'Proceed' node represents the different types of proceeds that a loan can have. These are not unique to a loan, so there are no unique constraints. This node is separated from the 'Loan' node to avoid overloading the 'Loan' node with properties and to allow for more flexible queries about the types of proceeds.\"}],\n",
       " 'Relationships': [{'Type': 'BORROWED',\n",
       "   'Properties': [],\n",
       "   'Unique Constraints': [],\n",
       "   'From': 'Borrower',\n",
       "   'To': 'Loan',\n",
       "   'Reasoning': \"The 'BORROWED' relationship represents the action of a borrower taking out a loan. There are no properties or unique constraints on this relationship.\"},\n",
       "  {'Type': 'LENT',\n",
       "   'Properties': [],\n",
       "   'Unique Constraints': [],\n",
       "   'From': 'Lender',\n",
       "   'To': 'Loan',\n",
       "   'Reasoning': \"The 'LENT' relationship represents the action of a lender providing a loan. There are no properties or unique constraints on this relationship.\"},\n",
       "  {'Type': 'LOCATED_IN',\n",
       "   'Properties': [],\n",
       "   'Unique Constraints': [],\n",
       "   'From': 'Loan',\n",
       "   'To': 'Project',\n",
       "   'Reasoning': \"The 'LOCATED_IN' relationship represents the location of the project associated with a loan. There are no properties or unique constraints on this relationship.\"},\n",
       "  {'Type': 'HAS_PROCEED',\n",
       "   'Properties': [],\n",
       "   'Unique Constraints': [],\n",
       "   'From': 'Loan',\n",
       "   'To': 'Proceed',\n",
       "   'Reasoning': \"The 'HAS_PROCEED' relationship represents the association of a loan with its proceeds. There are no properties or unique constraints on this relationship.\"}]}"
      ]
     },
     "execution_count": 11,
     "metadata": {},
     "output_type": "execute_result"
    }
   ],
   "source": [
    "summarizer.current_model"
   ]
  },
  {
   "cell_type": "code",
   "execution_count": null,
   "metadata": {},
   "outputs": [],
   "source": []
  }
 ],
 "metadata": {
  "kernelspec": {
   "display_name": "venv",
   "language": "python",
   "name": "python3"
  },
  "language_info": {
   "codemirror_mode": {
    "name": "ipython",
    "version": 3
   },
   "file_extension": ".py",
   "mimetype": "text/x-python",
   "name": "python",
   "nbconvert_exporter": "python",
   "pygments_lexer": "ipython3",
   "version": "3.11.3"
  }
 },
 "nbformat": 4,
 "nbformat_minor": 2
}

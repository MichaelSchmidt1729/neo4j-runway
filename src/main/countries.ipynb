{
 "cells": [
  {
   "cell_type": "markdown",
   "metadata": {},
   "source": [
    "# Demo CSV --> Graph Notebook"
   ]
  },
  {
   "cell_type": "markdown",
   "metadata": {},
   "source": [
    "This notebooks demonstrates the data flow of generating a graph from a CSV file. "
   ]
  },
  {
   "cell_type": "code",
   "execution_count": 1,
   "metadata": {},
   "outputs": [],
   "source": [
    "import os\n",
    "\n",
    "import json\n",
    "import pandas as pd\n",
    "import regex as re\n",
    "\n",
    "from modeler.modeler import GraphDataModeler\n",
    "from discovery.discovery import Discovery\n",
    "from llm.llm import LLM"
   ]
  },
  {
   "cell_type": "markdown",
   "metadata": {},
   "source": [
    "## Initialize Test Data"
   ]
  },
  {
   "cell_type": "code",
   "execution_count": 2,
   "metadata": {},
   "outputs": [],
   "source": [
    "USER_GENERATED_INPUT = {\n",
    "    'General Description': 'This is data on different countries.',\n",
    "    'id': 'unique id for a country.',\n",
    "    'name': 'the country name.',\n",
    "    'phone_code': 'country area code.',\n",
    "    'capital': 'the capital of the country.',\n",
    "    'currency_name': \"name of the country's currency\",\n",
    "    'region': 'primary region of the country.',\n",
    "    'subregion': 'subregion location of the country.',\n",
    "    'timezones': 'timezones contained within the country borders.',\n",
    "    'latitude': 'the latitude coordinate of the country center.',\n",
    "    'longitude': 'the longitude coordinate of the country center.'\n",
    "}"
   ]
  },
  {
   "cell_type": "code",
   "execution_count": 3,
   "metadata": {},
   "outputs": [],
   "source": [
    "data = pd.read_csv(\"data/csv/countries.csv\")"
   ]
  },
  {
   "cell_type": "markdown",
   "metadata": {},
   "source": [
    "## Initialize LLM"
   ]
  },
  {
   "cell_type": "code",
   "execution_count": 4,
   "metadata": {},
   "outputs": [],
   "source": [
    "llm = LLM()"
   ]
  },
  {
   "cell_type": "code",
   "execution_count": 5,
   "metadata": {},
   "outputs": [],
   "source": [
    "disc = Discovery(llm=llm, \n",
    "                      user_input=USER_GENERATED_INPUT, \n",
    "                      data=data\n",
    "                      )"
   ]
  },
  {
   "cell_type": "code",
   "execution_count": 6,
   "metadata": {},
   "outputs": [
    {
     "name": "stdout",
     "output_type": "stream",
     "text": [
      "Based on the provided summary of your dataset, here are some key observations and insights regarding the characteristics of your data:\n",
      "\n",
      "### General Overview\n",
      "- Your dataset consists of information on 250 countries, with a total of 10 features for each country.\n",
      "- The data types present in your dataset include integers (`int64`), floating-point numbers (`float64`), and strings (`object`).\n",
      "\n",
      "### Feature Analysis\n",
      "1. **ID (`id`)**: This is a unique identifier for each country, with values ranging from 1 to 250. The distribution is uniform, indicating that each country has a unique ID. This feature is crucial for uniquely identifying records but does not carry intrinsic analytical value.\n",
      "\n",
      "2. **Name (`name`)**: Every country name is unique across the 250 entries, which is expected as each entry represents a different country. This feature is essential for identifying countries by name.\n",
      "\n",
      "3. **Phone Code (`phone_code`)**: There are 235 unique phone codes for 250 countries, indicating some countries share the same phone code. This could be interesting for regional analysis or understanding geopolitical relationships.\n",
      "\n",
      "4. **Capital (`capital`)**: There are 244 unique capitals for 245 non-null entries, with one capital appearing twice. This suggests almost a one-to-one relationship between countries and their capitals, with a minor exception.\n",
      "\n",
      "5. **Currency Name (`currency_name`)**: With 161 unique currencies for 250 countries, this indicates that multiple countries use the same currency, which is common in areas like the Eurozone.\n",
      "\n",
      "6. **Region (`region`)**: The dataset covers countries from 6 primary regions, with Africa being the most represented. This feature is crucial for regional segmentation and analysis.\n",
      "\n",
      "7. **Subregion (`subregion`)**: There are 22 unique subregions, with the Caribbean being the most frequent. This provides a more granular level of geographical segmentation than the `region` feature.\n",
      "\n",
      "8. **Timezones (`timezones`)**: With 245 unique values, this feature indicates the complexity of time zones within and across countries. It's essential for any time-sensitive analysis.\n",
      "\n",
      "9. **Latitude and Longitude (`latitude`, `longitude`)**: These features provide the geographical center of each country. The wide range of values reflects the global distribution of countries. These features are vital for any geospatial analysis, allowing for mapping and distance calculations.\n",
      "\n",
      "### Missing Values\n",
      "- **Capital**: 5 missing values. This might require imputation or a decision on how to handle missing data depending on the analysis or application.\n",
      "- **Region and Subregion**: A few missing values (2 and 3, respectively), which might need similar consideration as `capital`.\n",
      "\n",
      "### Important Features\n",
      "- **Geographical Features (`latitude`, `longitude`)**: Essential for any analysis involving the geographical location or distance between countries.\n",
      "- **Categorical Features (`region`, `subregion`, `currency_name`)**: Important for segmentation and grouping countries based on geographical or economic criteria.\n",
      "- **Unique Identifiers (`id`, `name`)**: Crucial for data integrity and referencing specific countries.\n",
      "\n",
      "### Preliminary Conclusions\n",
      "- The dataset provides a comprehensive overview of countries, including geographical, political, and economic features.\n",
      "- Handling missing values in `capital`, `region`, and `subregion` will be necessary to ensure completeness.\n",
      "- The diversity in `currency_name`, `region`, and `subregion` suggests potential for rich analysis on economic and geographical lines.\n",
      "- The uniqueness of `name` and `id` ensures that each country can be distinctly identified, which is critical for any form of analysis or data modeling.\n",
      "\n",
      "This preliminary analysis suggests that the dataset is well-suited for a wide range of analyses, from geographical and economic studies to more complex geopolitical and regional analyses.\n"
     ]
    }
   ],
   "source": [
    "discovery = disc.run()\n",
    "print(discovery)"
   ]
  },
  {
   "cell_type": "code",
   "execution_count": 7,
   "metadata": {},
   "outputs": [],
   "source": [
    "gdm = GraphDataModeler(\n",
    "    llm=llm,\n",
    "    user_input=USER_GENERATED_INPUT,\n",
    "    discovery=disc.discovery,\n",
    "    general_data_description=disc.general_description,\n",
    "    categorical_data_description=disc.categorical_data_description,\n",
    "    numeric_data_description=disc.numeric_data_description,\n",
    "    feature_descriptions=disc.feature_descriptions\n",
    ")"
   ]
  },
  {
   "cell_type": "code",
   "execution_count": 8,
   "metadata": {},
   "outputs": [
    {
     "name": "stdout",
     "output_type": "stream",
     "text": [
      "recieved a valid response\n",
      "nodes=[Node(label='Country', properties=[Property(name='id', type='int64', csv_mapping='id', is_unique=True), Property(name='name', type='object', csv_mapping='name', is_unique=False), Property(name='latitude', type='float64', csv_mapping='latitude', is_unique=False), Property(name='longitude', type='float64', csv_mapping='longitude', is_unique=False)]), Node(label='Capital', properties=[Property(name='capital', type='object', csv_mapping='capital', is_unique=True)]), Node(label='Currency', properties=[Property(name='currency_name', type='object', csv_mapping='currency_name', is_unique=True)]), Node(label='Region', properties=[Property(name='region', type='object', csv_mapping='region', is_unique=True)]), Node(label='Subregion', properties=[Property(name='subregion', type='object', csv_mapping='subregion', is_unique=True)]), Node(label='PhoneCode', properties=[Property(name='phone_code', type='object', csv_mapping='phone_code', is_unique=True)])] relationships=[Relationship(type='HAS_CAPITAL', properties=[], source='Country', target='Capital'), Relationship(type='USES_CURRENCY', properties=[], source='Country', target='Currency'), Relationship(type='LOCATED_IN_REGION', properties=[], source='Country', target='Region'), Relationship(type='LOCATED_IN_SUBREGION', properties=[], source='Country', target='Subregion'), Relationship(type='HAS_PHONE_CODE', properties=[], source='Country', target='PhoneCode')]\n"
     ]
    }
   ],
   "source": [
    "initial_model = gdm.create_initial_model()\n",
    "print(initial_model)"
   ]
  },
  {
   "cell_type": "code",
   "execution_count": 9,
   "metadata": {},
   "outputs": [
    {
     "data": {
      "text/plain": [
       "DataModel(nodes=[Node(label='Country', properties=[Property(name='id', type='int64', csv_mapping='id', is_unique=True), Property(name='name', type='object', csv_mapping='name', is_unique=False), Property(name='latitude', type='float64', csv_mapping='latitude', is_unique=False), Property(name='longitude', type='float64', csv_mapping='longitude', is_unique=False)]), Node(label='Capital', properties=[Property(name='capital', type='object', csv_mapping='capital', is_unique=True)]), Node(label='Currency', properties=[Property(name='currency_name', type='object', csv_mapping='currency_name', is_unique=True)]), Node(label='Region', properties=[Property(name='region', type='object', csv_mapping='region', is_unique=True)]), Node(label='Subregion', properties=[Property(name='subregion', type='object', csv_mapping='subregion', is_unique=True)]), Node(label='PhoneCode', properties=[Property(name='phone_code', type='object', csv_mapping='phone_code', is_unique=True)])], relationships=[Relationship(type='HAS_CAPITAL', properties=[], source='Country', target='Capital'), Relationship(type='USES_CURRENCY', properties=[], source='Country', target='Currency'), Relationship(type='LOCATED_IN_REGION', properties=[], source='Country', target='Region'), Relationship(type='LOCATED_IN_SUBREGION', properties=[], source='Country', target='Subregion'), Relationship(type='HAS_PHONE_CODE', properties=[], source='Country', target='PhoneCode')])"
      ]
     },
     "execution_count": 9,
     "metadata": {},
     "output_type": "execute_result"
    }
   ],
   "source": [
    "gdm.current_model"
   ]
  },
  {
   "cell_type": "code",
   "execution_count": 10,
   "metadata": {},
   "outputs": [
    {
     "data": {
      "image/svg+xml": [
       "<?xml version=\"1.0\" encoding=\"UTF-8\" standalone=\"no\"?>\n",
       "<!DOCTYPE svg PUBLIC \"-//W3C//DTD SVG 1.1//EN\"\n",
       " \"http://www.w3.org/Graphics/SVG/1.1/DTD/svg11.dtd\">\n",
       "<!-- Generated by graphviz version 10.0.1 (20240210.2158)\n",
       " -->\n",
       "<!-- Pages: 1 -->\n",
       "<svg width=\"1400pt\" height=\"338pt\"\n",
       " viewBox=\"0.00 0.00 1399.79 338.39\" xmlns=\"http://www.w3.org/2000/svg\" xmlns:xlink=\"http://www.w3.org/1999/xlink\">\n",
       "<g id=\"graph0\" class=\"graph\" transform=\"scale(1 1) rotate(0) translate(4 334.39)\">\n",
       "<polygon fill=\"white\" stroke=\"none\" points=\"-4,4 -4,-334.39 1395.79,-334.39 1395.79,4 -4,4\"/>\n",
       "<!-- Country -->\n",
       "<g id=\"node1\" class=\"node\">\n",
       "<title>Country</title>\n",
       "<ellipse fill=\"none\" stroke=\"black\" cx=\"697.71\" cy=\"-243.42\" rx=\"88.74\" ry=\"86.97\"/>\n",
       "<text text-anchor=\"middle\" x=\"697.71\" y=\"-287.62\" font-family=\"Times,serif\" font-size=\"14.00\">Country</text>\n",
       "<text text-anchor=\"middle\" x=\"697.71\" y=\"-255.12\" font-family=\"Times,serif\" font-size=\"14.00\">properties:</text>\n",
       "<text text-anchor=\"middle\" x=\"697.71\" y=\"-238.62\" font-family=\"Times,serif\" font-size=\"14.00\">id: id *unique*</text>\n",
       "<text text-anchor=\"middle\" x=\"697.71\" y=\"-222.12\" font-family=\"Times,serif\" font-size=\"14.00\">name: name</text>\n",
       "<text text-anchor=\"middle\" x=\"697.71\" y=\"-205.62\" font-family=\"Times,serif\" font-size=\"14.00\">latitude: latitude</text>\n",
       "<text text-anchor=\"middle\" x=\"697.71\" y=\"-189.12\" font-family=\"Times,serif\" font-size=\"14.00\">longitude: longitude</text>\n",
       "</g>\n",
       "<!-- Capital -->\n",
       "<g id=\"node2\" class=\"node\">\n",
       "<title>Capital</title>\n",
       "<ellipse fill=\"none\" stroke=\"black\" cx=\"105.71\" cy=\"-51.97\" rx=\"105.71\" ry=\"51.97\"/>\n",
       "<text text-anchor=\"middle\" x=\"105.71\" y=\"-71.42\" font-family=\"Times,serif\" font-size=\"14.00\">Capital</text>\n",
       "<text text-anchor=\"middle\" x=\"105.71\" y=\"-38.92\" font-family=\"Times,serif\" font-size=\"14.00\">properties:</text>\n",
       "<text text-anchor=\"middle\" x=\"105.71\" y=\"-22.42\" font-family=\"Times,serif\" font-size=\"14.00\">capital: capital *unique*</text>\n",
       "</g>\n",
       "<!-- Country&#45;&gt;Capital -->\n",
       "<g id=\"edge1\" class=\"edge\">\n",
       "<title>Country&#45;&gt;Capital</title>\n",
       "<path fill=\"none\" stroke=\"black\" d=\"M611.51,-221.29C514.9,-196.73 354.18,-153.21 219.71,-103.94 210.62,-100.61 201.22,-96.89 191.91,-93.02\"/>\n",
       "<polygon fill=\"black\" stroke=\"black\" points=\"193.42,-89.85 182.85,-89.18 190.69,-96.3 193.42,-89.85\"/>\n",
       "<text text-anchor=\"middle\" x=\"355.09\" y=\"-125.14\" font-family=\"Times,serif\" font-size=\"14.00\">HAS_CAPITAL</text>\n",
       "</g>\n",
       "<!-- Currency -->\n",
       "<g id=\"node3\" class=\"node\">\n",
       "<title>Currency</title>\n",
       "<ellipse fill=\"none\" stroke=\"black\" cx=\"402.71\" cy=\"-51.97\" rx=\"173.59\" ry=\"51.97\"/>\n",
       "<text text-anchor=\"middle\" x=\"402.71\" y=\"-71.42\" font-family=\"Times,serif\" font-size=\"14.00\">Currency</text>\n",
       "<text text-anchor=\"middle\" x=\"402.71\" y=\"-38.92\" font-family=\"Times,serif\" font-size=\"14.00\">properties:</text>\n",
       "<text text-anchor=\"middle\" x=\"402.71\" y=\"-22.42\" font-family=\"Times,serif\" font-size=\"14.00\">currency_name: currency_name *unique*</text>\n",
       "</g>\n",
       "<!-- Country&#45;&gt;Currency -->\n",
       "<g id=\"edge2\" class=\"edge\">\n",
       "<title>Country&#45;&gt;Currency</title>\n",
       "<path fill=\"none\" stroke=\"black\" d=\"M623.65,-194.86C581.36,-167.7 528.24,-133.59 484.7,-105.62\"/>\n",
       "<polygon fill=\"black\" stroke=\"black\" points=\"486.85,-102.85 476.55,-100.39 483.07,-108.74 486.85,-102.85\"/>\n",
       "<text text-anchor=\"middle\" x=\"589.34\" y=\"-125.14\" font-family=\"Times,serif\" font-size=\"14.00\">USES_CURRENCY</text>\n",
       "</g>\n",
       "<!-- Region -->\n",
       "<g id=\"node4\" class=\"node\">\n",
       "<title>Region</title>\n",
       "<ellipse fill=\"none\" stroke=\"black\" cx=\"697.71\" cy=\"-51.97\" rx=\"103.59\" ry=\"51.97\"/>\n",
       "<text text-anchor=\"middle\" x=\"697.71\" y=\"-71.42\" font-family=\"Times,serif\" font-size=\"14.00\">Region</text>\n",
       "<text text-anchor=\"middle\" x=\"697.71\" y=\"-38.92\" font-family=\"Times,serif\" font-size=\"14.00\">properties:</text>\n",
       "<text text-anchor=\"middle\" x=\"697.71\" y=\"-22.42\" font-family=\"Times,serif\" font-size=\"14.00\">region: region *unique*</text>\n",
       "</g>\n",
       "<!-- Country&#45;&gt;Region -->\n",
       "<g id=\"edge3\" class=\"edge\">\n",
       "<title>Country&#45;&gt;Region</title>\n",
       "<path fill=\"none\" stroke=\"black\" d=\"M697.71,-156.01C697.71,-142.35 697.71,-128.46 697.71,-115.48\"/>\n",
       "<polygon fill=\"black\" stroke=\"black\" points=\"701.21,-115.85 697.71,-105.85 694.21,-115.85 701.21,-115.85\"/>\n",
       "<text text-anchor=\"middle\" x=\"767.84\" y=\"-125.14\" font-family=\"Times,serif\" font-size=\"14.00\">LOCATED_IN_REGION</text>\n",
       "</g>\n",
       "<!-- Subregion -->\n",
       "<g id=\"node5\" class=\"node\">\n",
       "<title>Subregion</title>\n",
       "<ellipse fill=\"none\" stroke=\"black\" cx=\"949.71\" cy=\"-51.97\" rx=\"130.11\" ry=\"51.97\"/>\n",
       "<text text-anchor=\"middle\" x=\"949.71\" y=\"-71.42\" font-family=\"Times,serif\" font-size=\"14.00\">Subregion</text>\n",
       "<text text-anchor=\"middle\" x=\"949.71\" y=\"-38.92\" font-family=\"Times,serif\" font-size=\"14.00\">properties:</text>\n",
       "<text text-anchor=\"middle\" x=\"949.71\" y=\"-22.42\" font-family=\"Times,serif\" font-size=\"14.00\">subregion: subregion *unique*</text>\n",
       "</g>\n",
       "<!-- Country&#45;&gt;Subregion -->\n",
       "<g id=\"edge4\" class=\"edge\">\n",
       "<title>Country&#45;&gt;Subregion</title>\n",
       "<path fill=\"none\" stroke=\"black\" d=\"M769.21,-191.74C792.49,-174.99 818.35,-156.11 841.71,-138.44 855.4,-128.09 869.91,-116.83 883.69,-105.97\"/>\n",
       "<polygon fill=\"black\" stroke=\"black\" points=\"885.76,-108.8 891.44,-99.85 881.42,-103.3 885.76,-108.8\"/>\n",
       "<text text-anchor=\"middle\" x=\"945.96\" y=\"-125.14\" font-family=\"Times,serif\" font-size=\"14.00\">LOCATED_IN_SUBREGION</text>\n",
       "</g>\n",
       "<!-- PhoneCode -->\n",
       "<g id=\"node6\" class=\"node\">\n",
       "<title>PhoneCode</title>\n",
       "<ellipse fill=\"none\" stroke=\"black\" cx=\"1244.71\" cy=\"-51.97\" rx=\"147.08\" ry=\"51.97\"/>\n",
       "<text text-anchor=\"middle\" x=\"1244.71\" y=\"-71.42\" font-family=\"Times,serif\" font-size=\"14.00\">PhoneCode</text>\n",
       "<text text-anchor=\"middle\" x=\"1244.71\" y=\"-38.92\" font-family=\"Times,serif\" font-size=\"14.00\">properties:</text>\n",
       "<text text-anchor=\"middle\" x=\"1244.71\" y=\"-22.42\" font-family=\"Times,serif\" font-size=\"14.00\">phone_code: phone_code *unique*</text>\n",
       "</g>\n",
       "<!-- Country&#45;&gt;PhoneCode -->\n",
       "<g id=\"edge5\" class=\"edge\">\n",
       "<title>Country&#45;&gt;PhoneCode</title>\n",
       "<path fill=\"none\" stroke=\"black\" d=\"M783.02,-218.05C851.11,-198.1 948.67,-168.37 1032.71,-138.44 1068.29,-125.78 1106.71,-110.72 1140.94,-96.79\"/>\n",
       "<polygon fill=\"black\" stroke=\"black\" points=\"1142.09,-100.11 1150.02,-93.09 1139.44,-93.63 1142.09,-100.11\"/>\n",
       "<text text-anchor=\"middle\" x=\"1134.84\" y=\"-125.14\" font-family=\"Times,serif\" font-size=\"14.00\">HAS_PHONE_CODE</text>\n",
       "</g>\n",
       "</g>\n",
       "</svg>\n"
      ],
      "text/plain": [
       "<graphviz.graphs.Digraph at 0x16c38fd10>"
      ]
     },
     "execution_count": 10,
     "metadata": {},
     "output_type": "execute_result"
    }
   ],
   "source": [
    "gdm.model.visualize()"
   ]
  },
  {
   "cell_type": "code",
   "execution_count": 11,
   "metadata": {},
   "outputs": [
    {
     "name": "stdout",
     "output_type": "stream",
     "text": [
      "\n"
     ]
    }
   ],
   "source": [
    "print(gdm.model_history[-1].validate_model(csv_columns=list(USER_GENERATED_INPUT.keys())[1:])['message'])"
   ]
  },
  {
   "cell_type": "code",
   "execution_count": 12,
   "metadata": {},
   "outputs": [
    {
     "name": "stdout",
     "output_type": "stream",
     "text": [
      "recieved a valid response\n"
     ]
    },
    {
     "data": {
      "text/plain": [
       "DataModel(nodes=[Node(label='Country', properties=[Property(name='id', type='int64', csv_mapping='id', is_unique=True), Property(name='name', type='object', csv_mapping='name', is_unique=False), Property(name='latitude', type='float64', csv_mapping='latitude', is_unique=False), Property(name='longitude', type='float64', csv_mapping='longitude', is_unique=False)]), Node(label='Capital', properties=[Property(name='capital', type='object', csv_mapping='capital', is_unique=True)]), Node(label='Currency', properties=[Property(name='currency_name', type='object', csv_mapping='currency_name', is_unique=True)]), Node(label='Region', properties=[Property(name='region', type='object', csv_mapping='region', is_unique=True)]), Node(label='Subregion', properties=[Property(name='subregion', type='object', csv_mapping='subregion', is_unique=True)]), Node(label='PhoneCode', properties=[Property(name='phone_code', type='object', csv_mapping='phone_code', is_unique=True)])], relationships=[Relationship(type='HAS_CAPITAL', properties=[], source='Country', target='Capital'), Relationship(type='USES_CURRENCY', properties=[], source='Country', target='Currency'), Relationship(type='LOCATED_IN_REGION', properties=[], source='Country', target='Region'), Relationship(type='LOCATED_IN_SUBREGION', properties=[], source='Country', target='Subregion'), Relationship(type='HAS_PHONE_CODE', properties=[], source='Country', target='PhoneCode')])"
      ]
     },
     "execution_count": 12,
     "metadata": {},
     "output_type": "execute_result"
    }
   ],
   "source": [
    "gdm.iterate_model(iterations=1)"
   ]
  },
  {
   "cell_type": "code",
   "execution_count": 13,
   "metadata": {},
   "outputs": [
    {
     "data": {
      "text/plain": [
       "DataModel(nodes=[Node(label='Country', properties=[Property(name='id', type='int64', csv_mapping='id', is_unique=True), Property(name='name', type='object', csv_mapping='name', is_unique=False), Property(name='latitude', type='float64', csv_mapping='latitude', is_unique=False), Property(name='longitude', type='float64', csv_mapping='longitude', is_unique=False)]), Node(label='Capital', properties=[Property(name='capital', type='object', csv_mapping='capital', is_unique=True)]), Node(label='Currency', properties=[Property(name='currency_name', type='object', csv_mapping='currency_name', is_unique=True)]), Node(label='Region', properties=[Property(name='region', type='object', csv_mapping='region', is_unique=True)]), Node(label='Subregion', properties=[Property(name='subregion', type='object', csv_mapping='subregion', is_unique=True)]), Node(label='PhoneCode', properties=[Property(name='phone_code', type='object', csv_mapping='phone_code', is_unique=True)])], relationships=[Relationship(type='HAS_CAPITAL', properties=[], source='Country', target='Capital'), Relationship(type='USES_CURRENCY', properties=[], source='Country', target='Currency'), Relationship(type='LOCATED_IN_REGION', properties=[], source='Country', target='Region'), Relationship(type='LOCATED_IN_SUBREGION', properties=[], source='Country', target='Subregion'), Relationship(type='HAS_PHONE_CODE', properties=[], source='Country', target='PhoneCode')])"
      ]
     },
     "execution_count": 13,
     "metadata": {},
     "output_type": "execute_result"
    }
   ],
   "source": [
    "gdm.current_model"
   ]
  },
  {
   "cell_type": "code",
   "execution_count": 14,
   "metadata": {},
   "outputs": [
    {
     "data": {
      "image/svg+xml": [
       "<?xml version=\"1.0\" encoding=\"UTF-8\" standalone=\"no\"?>\n",
       "<!DOCTYPE svg PUBLIC \"-//W3C//DTD SVG 1.1//EN\"\n",
       " \"http://www.w3.org/Graphics/SVG/1.1/DTD/svg11.dtd\">\n",
       "<!-- Generated by graphviz version 10.0.1 (20240210.2158)\n",
       " -->\n",
       "<!-- Pages: 1 -->\n",
       "<svg width=\"1400pt\" height=\"338pt\"\n",
       " viewBox=\"0.00 0.00 1399.79 338.39\" xmlns=\"http://www.w3.org/2000/svg\" xmlns:xlink=\"http://www.w3.org/1999/xlink\">\n",
       "<g id=\"graph0\" class=\"graph\" transform=\"scale(1 1) rotate(0) translate(4 334.39)\">\n",
       "<polygon fill=\"white\" stroke=\"none\" points=\"-4,4 -4,-334.39 1395.79,-334.39 1395.79,4 -4,4\"/>\n",
       "<!-- Country -->\n",
       "<g id=\"node1\" class=\"node\">\n",
       "<title>Country</title>\n",
       "<ellipse fill=\"none\" stroke=\"black\" cx=\"697.71\" cy=\"-243.42\" rx=\"88.74\" ry=\"86.97\"/>\n",
       "<text text-anchor=\"middle\" x=\"697.71\" y=\"-287.62\" font-family=\"Times,serif\" font-size=\"14.00\">Country</text>\n",
       "<text text-anchor=\"middle\" x=\"697.71\" y=\"-255.12\" font-family=\"Times,serif\" font-size=\"14.00\">properties:</text>\n",
       "<text text-anchor=\"middle\" x=\"697.71\" y=\"-238.62\" font-family=\"Times,serif\" font-size=\"14.00\">id: id *unique*</text>\n",
       "<text text-anchor=\"middle\" x=\"697.71\" y=\"-222.12\" font-family=\"Times,serif\" font-size=\"14.00\">name: name</text>\n",
       "<text text-anchor=\"middle\" x=\"697.71\" y=\"-205.62\" font-family=\"Times,serif\" font-size=\"14.00\">latitude: latitude</text>\n",
       "<text text-anchor=\"middle\" x=\"697.71\" y=\"-189.12\" font-family=\"Times,serif\" font-size=\"14.00\">longitude: longitude</text>\n",
       "</g>\n",
       "<!-- Capital -->\n",
       "<g id=\"node2\" class=\"node\">\n",
       "<title>Capital</title>\n",
       "<ellipse fill=\"none\" stroke=\"black\" cx=\"105.71\" cy=\"-51.97\" rx=\"105.71\" ry=\"51.97\"/>\n",
       "<text text-anchor=\"middle\" x=\"105.71\" y=\"-71.42\" font-family=\"Times,serif\" font-size=\"14.00\">Capital</text>\n",
       "<text text-anchor=\"middle\" x=\"105.71\" y=\"-38.92\" font-family=\"Times,serif\" font-size=\"14.00\">properties:</text>\n",
       "<text text-anchor=\"middle\" x=\"105.71\" y=\"-22.42\" font-family=\"Times,serif\" font-size=\"14.00\">capital: capital *unique*</text>\n",
       "</g>\n",
       "<!-- Country&#45;&gt;Capital -->\n",
       "<g id=\"edge1\" class=\"edge\">\n",
       "<title>Country&#45;&gt;Capital</title>\n",
       "<path fill=\"none\" stroke=\"black\" d=\"M611.51,-221.29C514.9,-196.73 354.18,-153.21 219.71,-103.94 210.62,-100.61 201.22,-96.89 191.91,-93.02\"/>\n",
       "<polygon fill=\"black\" stroke=\"black\" points=\"193.42,-89.85 182.85,-89.18 190.69,-96.3 193.42,-89.85\"/>\n",
       "<text text-anchor=\"middle\" x=\"355.09\" y=\"-125.14\" font-family=\"Times,serif\" font-size=\"14.00\">HAS_CAPITAL</text>\n",
       "</g>\n",
       "<!-- Currency -->\n",
       "<g id=\"node3\" class=\"node\">\n",
       "<title>Currency</title>\n",
       "<ellipse fill=\"none\" stroke=\"black\" cx=\"402.71\" cy=\"-51.97\" rx=\"173.59\" ry=\"51.97\"/>\n",
       "<text text-anchor=\"middle\" x=\"402.71\" y=\"-71.42\" font-family=\"Times,serif\" font-size=\"14.00\">Currency</text>\n",
       "<text text-anchor=\"middle\" x=\"402.71\" y=\"-38.92\" font-family=\"Times,serif\" font-size=\"14.00\">properties:</text>\n",
       "<text text-anchor=\"middle\" x=\"402.71\" y=\"-22.42\" font-family=\"Times,serif\" font-size=\"14.00\">currency_name: currency_name *unique*</text>\n",
       "</g>\n",
       "<!-- Country&#45;&gt;Currency -->\n",
       "<g id=\"edge2\" class=\"edge\">\n",
       "<title>Country&#45;&gt;Currency</title>\n",
       "<path fill=\"none\" stroke=\"black\" d=\"M623.65,-194.86C581.36,-167.7 528.24,-133.59 484.7,-105.62\"/>\n",
       "<polygon fill=\"black\" stroke=\"black\" points=\"486.85,-102.85 476.55,-100.39 483.07,-108.74 486.85,-102.85\"/>\n",
       "<text text-anchor=\"middle\" x=\"589.34\" y=\"-125.14\" font-family=\"Times,serif\" font-size=\"14.00\">USES_CURRENCY</text>\n",
       "</g>\n",
       "<!-- Region -->\n",
       "<g id=\"node4\" class=\"node\">\n",
       "<title>Region</title>\n",
       "<ellipse fill=\"none\" stroke=\"black\" cx=\"697.71\" cy=\"-51.97\" rx=\"103.59\" ry=\"51.97\"/>\n",
       "<text text-anchor=\"middle\" x=\"697.71\" y=\"-71.42\" font-family=\"Times,serif\" font-size=\"14.00\">Region</text>\n",
       "<text text-anchor=\"middle\" x=\"697.71\" y=\"-38.92\" font-family=\"Times,serif\" font-size=\"14.00\">properties:</text>\n",
       "<text text-anchor=\"middle\" x=\"697.71\" y=\"-22.42\" font-family=\"Times,serif\" font-size=\"14.00\">region: region *unique*</text>\n",
       "</g>\n",
       "<!-- Country&#45;&gt;Region -->\n",
       "<g id=\"edge3\" class=\"edge\">\n",
       "<title>Country&#45;&gt;Region</title>\n",
       "<path fill=\"none\" stroke=\"black\" d=\"M697.71,-156.01C697.71,-142.35 697.71,-128.46 697.71,-115.48\"/>\n",
       "<polygon fill=\"black\" stroke=\"black\" points=\"701.21,-115.85 697.71,-105.85 694.21,-115.85 701.21,-115.85\"/>\n",
       "<text text-anchor=\"middle\" x=\"767.84\" y=\"-125.14\" font-family=\"Times,serif\" font-size=\"14.00\">LOCATED_IN_REGION</text>\n",
       "</g>\n",
       "<!-- Subregion -->\n",
       "<g id=\"node5\" class=\"node\">\n",
       "<title>Subregion</title>\n",
       "<ellipse fill=\"none\" stroke=\"black\" cx=\"949.71\" cy=\"-51.97\" rx=\"130.11\" ry=\"51.97\"/>\n",
       "<text text-anchor=\"middle\" x=\"949.71\" y=\"-71.42\" font-family=\"Times,serif\" font-size=\"14.00\">Subregion</text>\n",
       "<text text-anchor=\"middle\" x=\"949.71\" y=\"-38.92\" font-family=\"Times,serif\" font-size=\"14.00\">properties:</text>\n",
       "<text text-anchor=\"middle\" x=\"949.71\" y=\"-22.42\" font-family=\"Times,serif\" font-size=\"14.00\">subregion: subregion *unique*</text>\n",
       "</g>\n",
       "<!-- Country&#45;&gt;Subregion -->\n",
       "<g id=\"edge4\" class=\"edge\">\n",
       "<title>Country&#45;&gt;Subregion</title>\n",
       "<path fill=\"none\" stroke=\"black\" d=\"M769.21,-191.74C792.49,-174.99 818.35,-156.11 841.71,-138.44 855.4,-128.09 869.91,-116.83 883.69,-105.97\"/>\n",
       "<polygon fill=\"black\" stroke=\"black\" points=\"885.76,-108.8 891.44,-99.85 881.42,-103.3 885.76,-108.8\"/>\n",
       "<text text-anchor=\"middle\" x=\"945.96\" y=\"-125.14\" font-family=\"Times,serif\" font-size=\"14.00\">LOCATED_IN_SUBREGION</text>\n",
       "</g>\n",
       "<!-- PhoneCode -->\n",
       "<g id=\"node6\" class=\"node\">\n",
       "<title>PhoneCode</title>\n",
       "<ellipse fill=\"none\" stroke=\"black\" cx=\"1244.71\" cy=\"-51.97\" rx=\"147.08\" ry=\"51.97\"/>\n",
       "<text text-anchor=\"middle\" x=\"1244.71\" y=\"-71.42\" font-family=\"Times,serif\" font-size=\"14.00\">PhoneCode</text>\n",
       "<text text-anchor=\"middle\" x=\"1244.71\" y=\"-38.92\" font-family=\"Times,serif\" font-size=\"14.00\">properties:</text>\n",
       "<text text-anchor=\"middle\" x=\"1244.71\" y=\"-22.42\" font-family=\"Times,serif\" font-size=\"14.00\">phone_code: phone_code *unique*</text>\n",
       "</g>\n",
       "<!-- Country&#45;&gt;PhoneCode -->\n",
       "<g id=\"edge5\" class=\"edge\">\n",
       "<title>Country&#45;&gt;PhoneCode</title>\n",
       "<path fill=\"none\" stroke=\"black\" d=\"M783.02,-218.05C851.11,-198.1 948.67,-168.37 1032.71,-138.44 1068.29,-125.78 1106.71,-110.72 1140.94,-96.79\"/>\n",
       "<polygon fill=\"black\" stroke=\"black\" points=\"1142.09,-100.11 1150.02,-93.09 1139.44,-93.63 1142.09,-100.11\"/>\n",
       "<text text-anchor=\"middle\" x=\"1134.84\" y=\"-125.14\" font-family=\"Times,serif\" font-size=\"14.00\">HAS_PHONE_CODE</text>\n",
       "</g>\n",
       "</g>\n",
       "</svg>\n"
      ],
      "text/plain": [
       "<graphviz.graphs.Digraph at 0x16c3dc290>"
      ]
     },
     "execution_count": 14,
     "metadata": {},
     "output_type": "execute_result"
    }
   ],
   "source": [
    "gdm.current_model.visualize()"
   ]
  },
  {
   "cell_type": "code",
   "execution_count": null,
   "metadata": {},
   "outputs": [],
   "source": []
  }
 ],
 "metadata": {
  "kernelspec": {
   "display_name": "venv",
   "language": "python",
   "name": "python3"
  },
  "language_info": {
   "codemirror_mode": {
    "name": "ipython",
    "version": 3
   },
   "file_extension": ".py",
   "mimetype": "text/x-python",
   "name": "python",
   "nbconvert_exporter": "python",
   "pygments_lexer": "ipython3",
   "version": "3.11.3"
  }
 },
 "nbformat": 4,
 "nbformat_minor": 2
}

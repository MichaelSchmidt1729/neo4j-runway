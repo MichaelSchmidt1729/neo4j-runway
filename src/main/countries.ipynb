{
 "cells": [
  {
   "cell_type": "markdown",
   "metadata": {},
   "source": [
    "# Demo CSV --> Graph Notebook"
   ]
  },
  {
   "cell_type": "markdown",
   "metadata": {},
   "source": [
    "This notebooks demonstrates the data flow of generating a graph from a CSV file. "
   ]
  },
  {
   "cell_type": "code",
   "execution_count": 1,
   "metadata": {},
   "outputs": [],
   "source": [
    "import os\n",
    "\n",
    "import json\n",
    "import pandas as pd\n",
    "import regex as re\n",
    "\n",
    "from summarizer.summarizer import Summarizer\n",
    "from llm.llm import LLM"
   ]
  },
  {
   "cell_type": "markdown",
   "metadata": {},
   "source": [
    "## Initialize Test Data"
   ]
  },
  {
   "cell_type": "code",
   "execution_count": 2,
   "metadata": {},
   "outputs": [],
   "source": [
    "USER_GENERATED_INPUT = {\n",
    "    'General Description': 'This is data on different countries.',\n",
    "    'id': 'unique id for a country.',\n",
    "    'name': 'the country name.',\n",
    "    'phone_code': 'country area code.',\n",
    "    'capital': 'the capital of the country.',\n",
    "    'currency_name': \"name of the country's currency\",\n",
    "    'region': 'primary region of the country.',\n",
    "    'subregion': 'subregion location of the country.',\n",
    "    'timezones': 'timezones contained within the country borders.',\n",
    "    'latitude': 'the latitude coordinate of the country center.',\n",
    "    'longitude': 'the longitude coordinate of the country center.'\n",
    "}"
   ]
  },
  {
   "cell_type": "code",
   "execution_count": 3,
   "metadata": {},
   "outputs": [],
   "source": [
    "data = pd.read_csv(\"data/csv/countries.csv\")"
   ]
  },
  {
   "cell_type": "markdown",
   "metadata": {},
   "source": [
    "## Initialize LLM"
   ]
  },
  {
   "cell_type": "code",
   "execution_count": 4,
   "metadata": {},
   "outputs": [],
   "source": [
    "llm = LLM()"
   ]
  },
  {
   "cell_type": "code",
   "execution_count": 5,
   "metadata": {},
   "outputs": [],
   "source": [
    "summarizer = Summarizer(llm=llm, user_input=USER_GENERATED_INPUT, data=data)"
   ]
  },
  {
   "cell_type": "code",
   "execution_count": 6,
   "metadata": {},
   "outputs": [
    {
     "name": "stdout",
     "output_type": "stream",
     "text": [
      "The dataset contains information about 250 different countries. Each country is uniquely identified by an 'id' and 'name'. The 'name' feature is a categorical variable with 250 unique values, each corresponding to a different country. \n",
      "\n",
      "The geographical location of each country is represented by 'latitude' and 'longitude', both of which are continuous variables. The mean latitude and longitude are approximately 16.4 and 13.5 respectively, but these values vary widely as indicated by their standard deviations. \n",
      "\n",
      "The 'phone_code' feature, which represents the country area code, has 235 unique values. This suggests that some countries share the same phone code. \n",
      "\n",
      "The 'capital' feature, which represents the capital of each country, has 244 unique values out of 245 non-null entries. This indicates that there is one capital city that is shared by two countries. \n",
      "\n",
      "The 'currency_name' feature, which represents the name of the country's currency, has 161 unique values. The most common currency is the Euro, which is used by 35 countries. \n",
      "\n",
      "The 'region' and 'subregion' features represent the primary region and subregion of each country. There are 6 unique regions and 22 unique subregions. The most common region is Africa, and the most common subregion is the Caribbean. \n",
      "\n",
      "The 'timezones' feature represents the timezones contained within the country borders. This feature appears to be a list of dictionaries, each containing information about a different timezone. \n",
      "\n",
      "In terms of missing values, the 'capital', 'region', and 'subregion' features each have a few missing entries. These missing values will need to be addressed during the data cleaning process. \n",
      "\n",
      "The most important features in the dataset will depend on the specific questions you are trying to answer with your analysis. However, in general, the 'name', 'region', 'subregion', 'latitude', and 'longitude' features are likely to be particularly important because they provide key information about the location and identity of each country.\n"
     ]
    }
   ],
   "source": [
    "discovery = summarizer.run_discovery()\n",
    "print(discovery)"
   ]
  },
  {
   "cell_type": "code",
   "execution_count": 7,
   "metadata": {},
   "outputs": [
    {
     "name": "stdout",
     "output_type": "stream",
     "text": [
      "recieved a valid response\n",
      "nodes=[Node(label='Country', properties=[Property(name='id', type='int', csv_mapping='id', is_unique=True), Property(name='name', type='str', csv_mapping='name', is_unique=True), Property(name='latitude', type='float', csv_mapping='latitude', is_unique=False), Property(name='longitude', type='float', csv_mapping='longitude', is_unique=False)]), Node(label='Capital', properties=[Property(name='name', type='str', csv_mapping='capital', is_unique=True)]), Node(label='Currency', properties=[Property(name='name', type='str', csv_mapping='currency_name', is_unique=True)]), Node(label='Region', properties=[Property(name='name', type='str', csv_mapping='region', is_unique=True)]), Node(label='Subregion', properties=[Property(name='name', type='str', csv_mapping='subregion', is_unique=True)]), Node(label='Timezone', properties=[Property(name='name', type='str', csv_mapping='timezones', is_unique=True)])] relationships=[Relationship(type='HAS_CAPITAL', properties=[], source='Country', target='Capital'), Relationship(type='USES_CURRENCY', properties=[], source='Country', target='Currency'), Relationship(type='LOCATED_IN_REGION', properties=[], source='Country', target='Region'), Relationship(type='LOCATED_IN_SUBREGION', properties=[], source='Country', target='Subregion'), Relationship(type='HAS_TIMEZONE', properties=[], source='Country', target='Timezone')]\n"
     ]
    }
   ],
   "source": [
    "initial_model = summarizer.create_initial_model()\n",
    "print(initial_model)"
   ]
  },
  {
   "cell_type": "code",
   "execution_count": 8,
   "metadata": {},
   "outputs": [
    {
     "data": {
      "text/plain": [
       "{'nodes': [{'label': 'Country',\n",
       "   'properties': [Property(name='id', type='int', csv_mapping='id', is_unique=True),\n",
       "    Property(name='name', type='str', csv_mapping='name', is_unique=True),\n",
       "    Property(name='latitude', type='float', csv_mapping='latitude', is_unique=False),\n",
       "    Property(name='longitude', type='float', csv_mapping='longitude', is_unique=False)]},\n",
       "  {'label': 'Capital',\n",
       "   'properties': [Property(name='name', type='str', csv_mapping='capital', is_unique=True)]},\n",
       "  {'label': 'Currency',\n",
       "   'properties': [Property(name='name', type='str', csv_mapping='currency_name', is_unique=True)]},\n",
       "  {'label': 'Region',\n",
       "   'properties': [Property(name='name', type='str', csv_mapping='region', is_unique=True)]},\n",
       "  {'label': 'Subregion',\n",
       "   'properties': [Property(name='name', type='str', csv_mapping='subregion', is_unique=True)]},\n",
       "  {'label': 'Timezone',\n",
       "   'properties': [Property(name='name', type='str', csv_mapping='timezones', is_unique=True)]}],\n",
       " 'relationships': [{'type': 'HAS_CAPITAL',\n",
       "   'properties': [],\n",
       "   'source': 'Country',\n",
       "   'target': 'Capital'},\n",
       "  {'type': 'USES_CURRENCY',\n",
       "   'properties': [],\n",
       "   'source': 'Country',\n",
       "   'target': 'Currency'},\n",
       "  {'type': 'LOCATED_IN_REGION',\n",
       "   'properties': [],\n",
       "   'source': 'Country',\n",
       "   'target': 'Region'},\n",
       "  {'type': 'LOCATED_IN_SUBREGION',\n",
       "   'properties': [],\n",
       "   'source': 'Country',\n",
       "   'target': 'Subregion'},\n",
       "  {'type': 'HAS_TIMEZONE',\n",
       "   'properties': [],\n",
       "   'source': 'Country',\n",
       "   'target': 'Timezone'}]}"
      ]
     },
     "execution_count": 8,
     "metadata": {},
     "output_type": "execute_result"
    }
   ],
   "source": [
    "summarizer.current_model"
   ]
  },
  {
   "cell_type": "code",
   "execution_count": 9,
   "metadata": {},
   "outputs": [
    {
     "ename": "TypeError",
     "evalue": "can only concatenate str (not \"Property\") to str",
     "output_type": "error",
     "traceback": [
      "\u001b[0;31m---------------------------------------------------------------------------\u001b[0m",
      "\u001b[0;31mTypeError\u001b[0m                                 Traceback (most recent call last)",
      "Cell \u001b[0;32mIn[9], line 1\u001b[0m\n\u001b[0;32m----> 1\u001b[0m \u001b[43msummarizer\u001b[49m\u001b[38;5;241;43m.\u001b[39;49m\u001b[43mmodel_history\u001b[49m\u001b[43m[\u001b[49m\u001b[38;5;241;43m-\u001b[39;49m\u001b[38;5;241;43m1\u001b[39;49m\u001b[43m]\u001b[49m\u001b[38;5;241;43m.\u001b[39;49m\u001b[43mvisualize\u001b[49m\u001b[43m(\u001b[49m\u001b[43m)\u001b[49m\n",
      "File \u001b[0;32m~/Documents/projects/csv-to-graph/src/main/objects/data_model.py:151\u001b[0m, in \u001b[0;36mDataModel.visualize\u001b[0;34m(self)\u001b[0m\n\u001b[1;32m    148\u001b[0m dot \u001b[38;5;241m=\u001b[39m Digraph(comment\u001b[38;5;241m=\u001b[39m\u001b[38;5;124m\"\u001b[39m\u001b[38;5;124mData Model\u001b[39m\u001b[38;5;124m\"\u001b[39m)\n\u001b[1;32m    150\u001b[0m \u001b[38;5;28;01mfor\u001b[39;00m node \u001b[38;5;129;01min\u001b[39;00m \u001b[38;5;28mself\u001b[39m\u001b[38;5;241m.\u001b[39mnodes:\n\u001b[0;32m--> 151\u001b[0m     dot\u001b[38;5;241m.\u001b[39mnode(name\u001b[38;5;241m=\u001b[39mnode\u001b[38;5;241m.\u001b[39mlabel, label\u001b[38;5;241m=\u001b[39m\u001b[38;5;28;43mself\u001b[39;49m\u001b[38;5;241;43m.\u001b[39;49m\u001b[43m_generate_node_text\u001b[49m\u001b[43m(\u001b[49m\u001b[43mnode\u001b[49m\u001b[38;5;241;43m=\u001b[39;49m\u001b[43mnode\u001b[49m\u001b[43m)\u001b[49m)\n\u001b[1;32m    153\u001b[0m \u001b[38;5;28;01mfor\u001b[39;00m rel \u001b[38;5;129;01min\u001b[39;00m \u001b[38;5;28mself\u001b[39m\u001b[38;5;241m.\u001b[39mrelationships:\n\u001b[1;32m    154\u001b[0m     dot\u001b[38;5;241m.\u001b[39medge(tail_name\u001b[38;5;241m=\u001b[39mrel\u001b[38;5;241m.\u001b[39msource, head_name\u001b[38;5;241m=\u001b[39mrel\u001b[38;5;241m.\u001b[39mtarget, label\u001b[38;5;241m=\u001b[39m\u001b[38;5;28mself\u001b[39m\u001b[38;5;241m.\u001b[39m_generate_relationship_text(relationship\u001b[38;5;241m=\u001b[39mrel))\n",
      "File \u001b[0;32m~/Documents/projects/csv-to-graph/src/main/objects/data_model.py:170\u001b[0m, in \u001b[0;36mDataModel._generate_node_text\u001b[0;34m(node)\u001b[0m\n\u001b[1;32m    168\u001b[0m     \u001b[38;5;66;03m# print(result)\u001b[39;00m\n\u001b[1;32m    169\u001b[0m \u001b[38;5;28;01mfor\u001b[39;00m prop \u001b[38;5;129;01min\u001b[39;00m node\u001b[38;5;241m.\u001b[39mproperties:\n\u001b[0;32m--> 170\u001b[0m     result \u001b[38;5;241m=\u001b[39m \u001b[43mresult\u001b[49m\u001b[43m \u001b[49m\u001b[38;5;241;43m+\u001b[39;49m\u001b[43m \u001b[49m\u001b[43mprop\u001b[49m \u001b[38;5;241m+\u001b[39m (\u001b[38;5;124m\"\u001b[39m\u001b[38;5;124m *unique*\u001b[39m\u001b[38;5;124m\"\u001b[39m \u001b[38;5;28;01mif\u001b[39;00m prop \u001b[38;5;129;01min\u001b[39;00m node\u001b[38;5;241m.\u001b[39munique_constraints \u001b[38;5;28;01melse\u001b[39;00m \u001b[38;5;124m\"\u001b[39m\u001b[38;5;124m\"\u001b[39m) \u001b[38;5;241m+\u001b[39m \u001b[38;5;124m\"\u001b[39m\u001b[38;5;130;01m\\n\u001b[39;00m\u001b[38;5;124m\"\u001b[39m\n\u001b[1;32m    171\u001b[0m     \u001b[38;5;66;03m# print(result)\u001b[39;00m\n\u001b[1;32m    173\u001b[0m \u001b[38;5;28;01mreturn\u001b[39;00m result\n",
      "\u001b[0;31mTypeError\u001b[0m: can only concatenate str (not \"Property\") to str"
     ]
    }
   ],
   "source": [
    "summarizer.model_history[-1].visualize()"
   ]
  },
  {
   "cell_type": "code",
   "execution_count": 10,
   "metadata": {},
   "outputs": [
    {
     "name": "stdout",
     "output_type": "stream",
     "text": [
      "\n"
     ]
    }
   ],
   "source": [
    "print(summarizer.model_history[-1].validate_model(csv_columns=list(USER_GENERATED_INPUT.keys())[1:])['message'])"
   ]
  },
  {
   "cell_type": "code",
   "execution_count": 11,
   "metadata": {},
   "outputs": [
    {
     "name": "stdout",
     "output_type": "stream",
     "text": [
      "recieved a valid response\n"
     ]
    },
    {
     "data": {
      "text/plain": [
       "DataModel(nodes=[Node(label='Country', properties=['id', 'name', 'phone_code', 'capital', 'currency_name', 'region', 'subregion', 'timezones', 'latitude', 'longitude'], unique_constraints=['id']), Node(label='Region', properties=['name'], unique_constraints=['name']), Node(label='Subregion', properties=['name'], unique_constraints=['name']), Node(label='Timezone', properties=['name'], unique_constraints=[])], relationships=[Relationship(type='BELONGS_TO_REGION', properties=[], unique_constraints=[], source='Country', target='Region'), Relationship(type='BELONGS_TO_SUBREGION', properties=[], unique_constraints=[], source='Country', target='Subregion'), Relationship(type='HAS_TIMEZONE', properties=[], unique_constraints=[], source='Country', target='Timezone')])"
      ]
     },
     "execution_count": 11,
     "metadata": {},
     "output_type": "execute_result"
    }
   ],
   "source": [
    "summarizer.iterate_model(iterations=1)"
   ]
  },
  {
   "cell_type": "code",
   "execution_count": 12,
   "metadata": {},
   "outputs": [
    {
     "data": {
      "text/plain": [
       "{'nodes': [{'label': 'Country',\n",
       "   'properties': ['id',\n",
       "    'name',\n",
       "    'phone_code',\n",
       "    'capital',\n",
       "    'currency_name',\n",
       "    'region',\n",
       "    'subregion',\n",
       "    'timezones',\n",
       "    'latitude',\n",
       "    'longitude'],\n",
       "   'unique_constraints': ['id']},\n",
       "  {'label': 'Region', 'properties': ['name'], 'unique_constraints': ['name']},\n",
       "  {'label': 'Subregion',\n",
       "   'properties': ['name'],\n",
       "   'unique_constraints': ['name']},\n",
       "  {'label': 'Timezone', 'properties': ['name'], 'unique_constraints': []}],\n",
       " 'relationships': [{'type': 'BELONGS_TO_REGION',\n",
       "   'properties': [],\n",
       "   'unique_constraints': [],\n",
       "   'source': 'Country',\n",
       "   'target': 'Region'},\n",
       "  {'type': 'BELONGS_TO_SUBREGION',\n",
       "   'properties': [],\n",
       "   'unique_constraints': [],\n",
       "   'source': 'Country',\n",
       "   'target': 'Subregion'},\n",
       "  {'type': 'HAS_TIMEZONE',\n",
       "   'properties': [],\n",
       "   'unique_constraints': [],\n",
       "   'source': 'Country',\n",
       "   'target': 'Timezone'}]}"
      ]
     },
     "execution_count": 12,
     "metadata": {},
     "output_type": "execute_result"
    }
   ],
   "source": [
    "summarizer.current_model"
   ]
  },
  {
   "cell_type": "code",
   "execution_count": null,
   "metadata": {},
   "outputs": [],
   "source": []
  }
 ],
 "metadata": {
  "kernelspec": {
   "display_name": "venv",
   "language": "python",
   "name": "python3"
  },
  "language_info": {
   "codemirror_mode": {
    "name": "ipython",
    "version": 3
   },
   "file_extension": ".py",
   "mimetype": "text/x-python",
   "name": "python",
   "nbconvert_exporter": "python",
   "pygments_lexer": "ipython3",
   "version": "3.11.3"
  }
 },
 "nbformat": 4,
 "nbformat_minor": 2
}
